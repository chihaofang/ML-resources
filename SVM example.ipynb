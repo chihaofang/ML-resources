{
 "cells": [
  {
   "cell_type": "markdown",
   "id": "cb252987",
   "metadata": {},
   "source": [
    "以下會針對scikit-learn套件中提到之三種方法：SVC、NuSVC以及LinearSVC進行說明 <br>\n",
    "先進行簡單說明：<br>\n",
    "1. 三種方法都能進行二分類以及多分類之問題<br>\n",
    "2. SVC、NuSVC方法類似，但是使用之參數以及模型有些微差異<br>\n",
    "3. LinearSVC 使用linear kernel，沒有kernel之參數，也無法像其他兩方法一樣把support vector的index取出。"
   ]
  },
  {
   "cell_type": "markdown",
   "id": "db86946b",
   "metadata": {},
   "source": [
    "# 介紹"
   ]
  },
  {
   "cell_type": "markdown",
   "id": "865b79ee",
   "metadata": {},
   "source": [
    "在軟邊界(soft margin)問題當中，我們處理以下問題：<br>\n",
    "給定每一筆訓練資料$x_i\\in \\mathbb{R}^p$, $i=1,...,n$ <br>\n",
    "類別變數 $y \\in \\{-1,1\\}$ <br>\n",
    "\n",
    "# 目標：<br>\n",
    "找出權重$w\\in \\mathbb{R}^p$ 以及截距項$b$ 之後，我們透過<br>\n",
    "$$ sign(w^T\\phi(x_i)+b) $$ 來分類的結果對於$\\textbf{大多數樣本}$是正確的"
   ]
  },
  {
   "cell_type": "markdown",
   "id": "fcc1180e",
   "metadata": {},
   "source": [
    "在SVC (support vector classification) 當中，我們將問題描述為以下形式：<br>\n",
    "$$\\begin{align*}\n",
    "\\min_{w,b,\\xi} \\,&\\frac{1}{2}w^Tw + C\\sum_{i=1}^{n}\\xi_i   \\\\\n",
    "\\text{subject to } &y_i(w^T\\phi(x_i)+b)\\geq 1-\\xi_i,\\\\\n",
    "&\\xi_i\\geq 0 , i=1,...,n\n",
    "\\end{align*}$$"
   ]
  },
  {
   "cell_type": "markdown",
   "id": "0a656f29",
   "metadata": {},
   "source": [
    "$\\xi_i$ 控制了邊界浮動的大小，$C$ 則是正則化項。<br>\n",
    "$C$大則會更懲罰$\\xi_i$增加導致margin縮小的情況(也就是類別彼此之間更靠近)，因此$C$增加會使得訓練更加傾向完美的預測。"
   ]
  },
  {
   "cell_type": "markdown",
   "id": "d5e05b93",
   "metadata": {},
   "source": [
    "在處理優化問題時，我們常常會遇到的情況是：原先的問題不好解"
   ]
  },
  {
   "cell_type": "markdown",
   "id": "28139305",
   "metadata": {},
   "source": [
    "此時會透過轉化問題，把問題轉換成好解的形式。<br>\n",
    "雖然在這樣的情況找出的解不一定是原問題當中最好的，但是會找出差不多好的 <br>\n",
    "而在滿足某些條件下，能夠得出跟原問題一樣好的解，此不多做說明。"
   ]
  },
  {
   "cell_type": "markdown",
   "id": "cd955814",
   "metadata": {},
   "source": [
    "在SVC的軟邊界問題當中，我們會把原問題轉換成以下形式："
   ]
  },
  {
   "cell_type": "markdown",
   "id": "3507f9e5",
   "metadata": {},
   "source": [
    "$$\\begin{align*}\n",
    "\\min_{\\alpha} \\,&\\frac{1}{2}\\alpha^Ty_iy_j\\phi(x_i)^T\\phi(x_j)\\alpha - \\textbf{1}^T\\alpha   \\\\\n",
    "\\text{subject to } &y^T\\alpha = 0,\\\\\n",
    "&0\\leq\\alpha_i\\leq C , i=1,...,n\n",
    "\\end{align*}$$"
   ]
  },
  {
   "cell_type": "markdown",
   "id": "b5bb9d2d",
   "metadata": {},
   "source": [
    "其中，我們會用$K(x_i,x_j) = \\phi(x_i)^T\\phi(x_j)$ 並且稱其為kernel function"
   ]
  },
  {
   "cell_type": "markdown",
   "id": "4663c9ab",
   "metadata": {},
   "source": [
    "原先我們打算使用$sign(w^T\\phi(x_i)+b)$ 的結果來分類，而在轉換後的問題，我們變成用\n",
    "$$sign\\Big(\\sum_{i: x_i \\text{ is support vector}}y_i\\alpha_iK(x_i,x) +b\\Big) $$ <br>\n",
    "來分類，而上述sign函數內之函數稱為$\\textbf{ support function}$"
   ]
  },
  {
   "cell_type": "markdown",
   "id": "d116d140",
   "metadata": {},
   "source": [
    "# 內建kernel"
   ]
  },
  {
   "cell_type": "markdown",
   "id": "ff60a1b4",
   "metadata": {},
   "source": [
    "以下列出scikit-learn 當中，SVC跟NuSVC內建的kernel function (註：也可以自定義kernel)"
   ]
  },
  {
   "cell_type": "markdown",
   "id": "5a33d2ec",
   "metadata": {},
   "source": [
    "1. 線性： $<x,x'>$ <br>\n",
    "2. 多項式： $(\\gamma<x,x'>+r)^d$, d 為多項式degree，程式內參數為 `degree`，d越大會越傾向完美訓練，預設值為3<br>\n",
    "r為額外調整項，控制比d次方還小的次方項的量要增加多少，程式內參數為 `coef0`，預設值為0。<br>\n",
    "3. rbf(radial basis function)：$e^{-\\gamma\\lVert x-x' \\rVert^2}$，$\\gamma\\geq 0 $控制鐘形的陡或緩，程式內參數為`gamma`。$\\gamma$大則鐘形陡峭，$\\gamma$小則鐘形緩。<br>\n",
    "rbf可以解釋成$\\textbf{相似程度}$，0是不像，1是最像。陡峭鐘形表示只要$x'$離$x$一點點遠就不像了，使用上則是會讓訓練傾向完美訓練；反之，如果是坡度較緩的鐘形代表距離增加時，會慢慢的不像，在使用上則是會讓模型傾向沒那麼完美的訓練。<br>\n",
    "4. sigmoid：$tanh(\\gamma<x,x'>+r)$，$\\gamma\\geq 0 $，程式內參數為`gamma`。r為額外調整項，程式內參數為 `coef0`，預設值為0。"
   ]
  },
  {
   "cell_type": "markdown",
   "id": "8d7b6e43",
   "metadata": {},
   "source": [
    "補充：$\\gamma$在SVM套件內為內建算法，選項為下列3者其一： <br>\n",
    "1. \"scale\" ：此為預設值，算法為$\\gamma = \\frac{1}{\\text{(# of features) * Var(X)}}$ <br>\n",
    "2. \"auto\" ：算法為$\\gamma = \\frac{1}{\\text{# of features}}$ <br>\n",
    "3. 任意給定之非負浮點數"
   ]
  },
  {
   "cell_type": "markdown",
   "id": "b8e76585",
   "metadata": {},
   "source": [
    "# Method 1: SVC"
   ]
  },
  {
   "cell_type": "markdown",
   "id": "2bde63e4",
   "metadata": {},
   "source": [
    "scikit-learn 程式參數：https://scikit-learn.org/stable/modules/generated/sklearn.svm.SVC.html#sklearn.svm.SVC"
   ]
  },
  {
   "cell_type": "markdown",
   "id": "b206700f",
   "metadata": {},
   "source": [
    "通常會調整的參數為：<br>\n",
    "1. C (懲罰程度) 預設為1，剛開始train時通常不動這個<br>\n",
    "2. kernel (kernel funciton 要用哪個)\n",
    "3. kernel function相對應的參數，剛開始train時通常不動這個 "
   ]
  },
  {
   "cell_type": "markdown",
   "id": "ea8387ec",
   "metadata": {},
   "source": [
    "kernel function 使用順序：\n",
    "1. 先試試linear，因為計算較快 <br>\n",
    "2. rbf：因為在多數情況下rbf的表現不錯。<br>\n",
    "3. 想想看此資料有沒有專門為他設計的kernel。<br>\n",
    "4. 試試grid search 找適合的參數的值。"
   ]
  },
  {
   "cell_type": "code",
   "execution_count": 2,
   "id": "ccfb82b2",
   "metadata": {},
   "outputs": [],
   "source": [
    "import numpy as np\n",
    "from sklearn import datasets\n",
    "from sklearn.pipeline import make_pipeline\n",
    "from sklearn.preprocessing import StandardScaler\n",
    "from sklearn.svm import SVC"
   ]
  },
  {
   "cell_type": "code",
   "execution_count": 3,
   "id": "8ad794c4",
   "metadata": {},
   "outputs": [],
   "source": [
    "%matplotlib inline\n",
    "import matplotlib as mpl\n",
    "import matplotlib.pyplot as plt"
   ]
  },
  {
   "cell_type": "code",
   "execution_count": 4,
   "id": "eef3461d",
   "metadata": {},
   "outputs": [],
   "source": [
    "iris = datasets.load_iris()"
   ]
  },
  {
   "cell_type": "markdown",
   "id": "85ed3975",
   "metadata": {},
   "source": [
    "iris 資料說明：<br>\n",
    "類別：3 (0: setosa 山鳶尾; 1: vesicolor 斑點鳶尾; 2: virginica 維吉尼亞鳶尾)<br>\n",
    "各類別樣本數量：50<br>\n",
    "總樣本數：50<br>\n",
    "特徵個數：4 (花萼長、花萼寬、花瓣長、花瓣寬)<br>"
   ]
  },
  {
   "cell_type": "code",
   "execution_count": 5,
   "id": "d7385f55",
   "metadata": {},
   "outputs": [
    {
     "data": {
      "text/plain": [
       "(150, 4)"
      ]
     },
     "execution_count": 5,
     "metadata": {},
     "output_type": "execute_result"
    }
   ],
   "source": [
    "iris[\"data\"].shape #(資料數量，特徵數量)"
   ]
  },
  {
   "cell_type": "code",
   "execution_count": null,
   "id": "712e7d0a",
   "metadata": {},
   "outputs": [],
   "source": []
  },
  {
   "cell_type": "code",
   "execution_count": 6,
   "id": "49243410",
   "metadata": {},
   "outputs": [],
   "source": [
    "X = iris[\"data\"][:, (2, 3)]  # 取出所有資料，特徵只取出花瓣長、花瓣寬\n",
    "y = (iris[\"target\"] == 2).astype(np.float64)  # 二分類問題：是不是iris virginica"
   ]
  },
  {
   "cell_type": "markdown",
   "id": "3976b015",
   "metadata": {},
   "source": [
    "將資料分成訓練資料及測試資料"
   ]
  },
  {
   "cell_type": "code",
   "execution_count": 7,
   "id": "07156e62",
   "metadata": {},
   "outputs": [],
   "source": [
    "from sklearn.model_selection import train_test_split"
   ]
  },
  {
   "cell_type": "code",
   "execution_count": 8,
   "id": "815c1b0a",
   "metadata": {},
   "outputs": [],
   "source": [
    "train_X,test_X,train_y,test_y = train_test_split(X,y,test_size=0.2,random_state=718)"
   ]
  },
  {
   "cell_type": "code",
   "execution_count": null,
   "id": "35ee0450",
   "metadata": {},
   "outputs": [],
   "source": []
  },
  {
   "cell_type": "code",
   "execution_count": 9,
   "id": "8341f79d",
   "metadata": {},
   "outputs": [
    {
     "data": {
      "text/plain": [
       "<matplotlib.legend.Legend at 0x1a09edced00>"
      ]
     },
     "execution_count": 9,
     "metadata": {},
     "output_type": "execute_result"
    },
    {
     "data": {
      "image/png": "[encoded data removed]",
      "text/plain": [
       "<Figure size 432x288 with 1 Axes>"
      ]
     },
     "metadata": {
      "needs_background": "light"
     },
     "output_type": "display_data"
    }
   ],
   "source": [
    "plt.plot(train_X[:, 0][train_y==1], train_X[:, 1][train_y==1], \"bs\",label=\"Iris virginica\")\n",
    "plt.plot(train_X[:, 0][train_y==0], train_X[:, 1][train_y==0], \"yo\",label=\"not Iris virginica\")\n",
    "plt.xlabel('Petal length',fontsize=14)\n",
    "plt.ylabel('Petal width',fontsize=14)\n",
    "plt.legend(loc=\"upper left\", fontsize=14)"
   ]
  },
  {
   "cell_type": "code",
   "execution_count": 10,
   "id": "8734eb7f",
   "metadata": {},
   "outputs": [],
   "source": [
    "clf = make_pipeline(StandardScaler(), SVC(gamma='auto'))"
   ]
  },
  {
   "cell_type": "code",
   "execution_count": 11,
   "id": "a19b44b4",
   "metadata": {},
   "outputs": [
    {
     "data": {
      "text/plain": [
       "Pipeline(steps=[('standardscaler', StandardScaler()),\n",
       "                ('svc', SVC(gamma='auto'))])"
      ]
     },
     "execution_count": 11,
     "metadata": {},
     "output_type": "execute_result"
    }
   ],
   "source": [
    "clf.fit(train_X, train_y)"
   ]
  },
  {
   "cell_type": "code",
   "execution_count": 20,
   "id": "779729f8",
   "metadata": {},
   "outputs": [],
   "source": [
    "y_pred = clf.predict(test_X)"
   ]
  },
  {
   "cell_type": "code",
   "execution_count": 14,
   "id": "99d6847f",
   "metadata": {},
   "outputs": [
    {
     "data": {
      "text/plain": [
       "array([-1.1078307 , -0.47776589, -1.0879643 ,  1.72780057,  1.05061727,\n",
       "        0.29941802, -1.7446617 , -1.0393112 , -0.26278287, -0.88755861,\n",
       "       -0.55695226, -0.88755861,  1.52395797,  1.69359413, -1.27990468,\n",
       "       -1.1078307 , -1.04318333, -1.25287223, -1.10861255, -1.14950288,\n",
       "       -1.07619502, -1.17032737,  1.56951261, -1.36728539,  1.05061727,\n",
       "        1.15827806, -1.1078307 , -1.91872037, -1.09819145, -1.1078307 ])"
      ]
     },
     "execution_count": 14,
     "metadata": {},
     "output_type": "execute_result"
    }
   ],
   "source": [
    "clf.decision_function(test_X)"
   ]
  },
  {
   "cell_type": "code",
   "execution_count": null,
   "id": "516d1e9b",
   "metadata": {},
   "outputs": [],
   "source": []
  },
  {
   "cell_type": "markdown",
   "id": "2835cb55",
   "metadata": {},
   "source": [
    "畫結果 https://stackoverflow.com/questions/51495819/how-to-plot-svm-decision-boundary-in-sklearn-python"
   ]
  },
  {
   "cell_type": "markdown",
   "id": "e0fa0906",
   "metadata": {},
   "source": [
    "使用plt.contourf畫分類結果，但是因為Contour levels must be increasing，所以要進行畫圖前準備。"
   ]
  },
  {
   "cell_type": "code",
   "execution_count": 16,
   "id": "d82dcd4b",
   "metadata": {},
   "outputs": [],
   "source": [
    "def plot_predictions(clf,X): #兩個feature 的情況\n",
    "    x0s = np.linspace(X[:,0].min(), X[:,0].max(), 100)\n",
    "    x1s = np.linspace(X[:,1].min(), X[:,1].max(), 100)\n",
    "    x0, x1 = np.meshgrid(x0s, x1s)\n",
    "    # np.c_: Translates slice objects to concatenation along the second axis.\n",
    "    XX = np.c_[x0.ravel(), x1.ravel()]\n",
    "    Z = clf.predict(XX)\n",
    "    Z = Z.reshape(x0.shape)\n",
    "    plt.contourf(x0, x1, Z, cmap=plt.cm.brg, alpha=0.2)"
   ]
  },
  {
   "cell_type": "code",
   "execution_count": 17,
   "id": "610686fc",
   "metadata": {},
   "outputs": [
    {
     "data": {
      "text/plain": [
       "<matplotlib.legend.Legend at 0x1a09fb3ec10>"
      ]
     },
     "execution_count": 17,
     "metadata": {},
     "output_type": "execute_result"
    },
    {
     "data": {
      "image/png": "[encoded data removed]",
      "text/plain": [
       "<Figure size 432x288 with 1 Axes>"
      ]
     },
     "metadata": {
      "needs_background": "light"
     },
     "output_type": "display_data"
    }
   ],
   "source": [
    "plt.plot(train_X[:, 0][train_y==1], train_X[:, 1][train_y==1], \"bs\",label=\"Iris virginica\")\n",
    "plt.plot(train_X[:, 0][train_y==0], train_X[:, 1][train_y==0], \"yo\",label=\"not Iris virginica\")\n",
    "plot_predictions(clf,train_X)\n",
    "plt.xlabel('Petal length',fontsize=14)\n",
    "plt.ylabel('Petal width',fontsize=14)\n",
    "plt.legend(loc=\"upper left\", fontsize=14)"
   ]
  },
  {
   "cell_type": "code",
   "execution_count": 21,
   "id": "f5c961c8",
   "metadata": {},
   "outputs": [
    {
     "data": {
      "text/plain": [
       "<matplotlib.legend.Legend at 0x1a09fb2bac0>"
      ]
     },
     "execution_count": 21,
     "metadata": {},
     "output_type": "execute_result"
    },
    {
     "data": {
      "image/png": "[encoded data removed]",
      "text/plain": [
       "<Figure size 432x288 with 1 Axes>"
      ]
     },
     "metadata": {
      "needs_background": "light"
     },
     "output_type": "display_data"
    }
   ],
   "source": [
    "plt.plot(test_X[:, 0][test_y==1], test_X[:, 1][test_y==1], \"bs\",label=\"Iris virginica\")\n",
    "plt.plot(test_X[:, 0][test_y==0], test_X[:, 1][test_y==0], \"yo\",label=\"not Iris virginica\")\n",
    "plot_predictions(clf,test_X)\n",
    "plt.xlabel('Petal length',fontsize=14)\n",
    "plt.ylabel('Petal width',fontsize=14)\n",
    "plt.legend(loc=\"upper left\", fontsize=14)"
   ]
  },
  {
   "cell_type": "markdown",
   "id": "313c7ee7",
   "metadata": {},
   "source": [
    "衡量結果"
   ]
  },
  {
   "cell_type": "code",
   "execution_count": 18,
   "id": "e5a89349",
   "metadata": {},
   "outputs": [],
   "source": [
    "from sklearn.metrics import confusion_matrix"
   ]
  },
  {
   "cell_type": "code",
   "execution_count": 19,
   "id": "97cfd8c7",
   "metadata": {},
   "outputs": [
    {
     "name": "stdout",
     "output_type": "stream",
     "text": [
      "[[21  1]\n",
      " [ 1  7]]\n"
     ]
    }
   ],
   "source": [
    "print(confusion_matrix(clf.predict(test_X),test_y))"
   ]
  },
  {
   "cell_type": "code",
   "execution_count": null,
   "id": "118c9493",
   "metadata": {},
   "outputs": [],
   "source": [
    "train_accuracy = sum(y_pred == test_y)/len(y_pred)"
   ]
  },
  {
   "cell_type": "code",
   "execution_count": 24,
   "id": "d4cb01ea",
   "metadata": {},
   "outputs": [],
   "source": [
    "test_accuracy = sum(y_pred == test_y)/len(y_pred)"
   ]
  },
  {
   "cell_type": "code",
   "execution_count": 25,
   "id": "38a4ec62",
   "metadata": {},
   "outputs": [
    {
     "data": {
      "text/plain": [
       "0.9333333333333333"
      ]
     },
     "execution_count": 25,
     "metadata": {},
     "output_type": "execute_result"
    }
   ],
   "source": [
    "test_accuracy"
   ]
  },
  {
   "cell_type": "markdown",
   "id": "b1fee569",
   "metadata": {},
   "source": [
    "嘗試不同參數"
   ]
  },
  {
   "cell_type": "markdown",
   "id": "a983247d",
   "metadata": {},
   "source": [
    "SVC的kernel function 預設為rbf (radial basis function)，我們看看其他的kernel function"
   ]
  },
  {
   "cell_type": "code",
   "execution_count": 26,
   "id": "dbdb9833",
   "metadata": {},
   "outputs": [],
   "source": [
    "clf = make_pipeline(StandardScaler(), SVC(kernel = 'linear'))\n",
    "clf.fit(train_X, train_y)\n",
    "y_pred = clf.predict(test_X)"
   ]
  },
  {
   "cell_type": "code",
   "execution_count": 27,
   "id": "28a6e140",
   "metadata": {},
   "outputs": [
    {
     "data": {
      "text/plain": [
       "<matplotlib.legend.Legend at 0x1a09efa0f40>"
      ]
     },
     "execution_count": 27,
     "metadata": {},
     "output_type": "execute_result"
    },
    {
     "data": {
      "image/png": "[encoded data removed]",
      "text/plain": [
       "<Figure size 432x288 with 1 Axes>"
      ]
     },
     "metadata": {
      "needs_background": "light"
     },
     "output_type": "display_data"
    }
   ],
   "source": [
    "plt.plot(test_X[:, 0][test_y==1], test_X[:, 1][test_y==1], \"bs\",label=\"Iris virginica\")\n",
    "plt.plot(test_X[:, 0][test_y==0], test_X[:, 1][test_y==0], \"yo\",label=\"not Iris virginica\")\n",
    "plot_predictions(clf,test_X)\n",
    "plt.xlabel('Petal length',fontsize=14)\n",
    "plt.ylabel('Petal width',fontsize=14)\n",
    "plt.legend(loc=\"upper left\", fontsize=14)"
   ]
  },
  {
   "cell_type": "code",
   "execution_count": 28,
   "id": "ec9b1cc7",
   "metadata": {},
   "outputs": [
    {
     "name": "stdout",
     "output_type": "stream",
     "text": [
      "0.9333333333333333\n"
     ]
    }
   ],
   "source": [
    "test_accuracy = sum(y_pred == test_y)/len(y_pred)\n",
    "print(test_accuracy)"
   ]
  },
  {
   "cell_type": "markdown",
   "id": "a4e08b38",
   "metadata": {},
   "source": [
    "kernel = polynomial with degree 3"
   ]
  },
  {
   "cell_type": "code",
   "execution_count": 29,
   "id": "9327cb6e",
   "metadata": {},
   "outputs": [],
   "source": [
    "clf = make_pipeline(StandardScaler(), SVC(kernel = 'poly'))\n",
    "clf.fit(train_X, train_y)\n",
    "y_pred = clf.predict(test_X)"
   ]
  },
  {
   "cell_type": "code",
   "execution_count": 30,
   "id": "e99df6e8",
   "metadata": {},
   "outputs": [
    {
     "data": {
      "text/plain": [
       "<matplotlib.legend.Legend at 0x1a09fbe1ee0>"
      ]
     },
     "execution_count": 30,
     "metadata": {},
     "output_type": "execute_result"
    },
    {
     "data": {
      "image/png": "[encoded data removed]",
      "text/plain": [
       "<Figure size 432x288 with 1 Axes>"
      ]
     },
     "metadata": {
      "needs_background": "light"
     },
     "output_type": "display_data"
    }
   ],
   "source": [
    "plt.plot(test_X[:, 0][test_y==1], test_X[:, 1][test_y==1], \"bs\",label=\"Iris virginica\")\n",
    "plt.plot(test_X[:, 0][test_y==0], test_X[:, 1][test_y==0], \"yo\",label=\"not Iris virginica\")\n",
    "plot_predictions(clf,test_X)\n",
    "plt.xlabel('Petal length',fontsize=14)\n",
    "plt.ylabel('Petal width',fontsize=14)\n",
    "plt.legend(loc=\"upper left\", fontsize=14)"
   ]
  },
  {
   "cell_type": "code",
   "execution_count": 31,
   "id": "38a9321a",
   "metadata": {},
   "outputs": [
    {
     "name": "stdout",
     "output_type": "stream",
     "text": [
      "0.9666666666666667\n"
     ]
    }
   ],
   "source": [
    "test_accuracy = sum(y_pred == test_y)/len(y_pred)\n",
    "print(test_accuracy)"
   ]
  },
  {
   "cell_type": "markdown",
   "id": "9283ef42",
   "metadata": {},
   "source": [
    "kernel = sigmoid"
   ]
  },
  {
   "cell_type": "code",
   "execution_count": 32,
   "id": "730fd453",
   "metadata": {},
   "outputs": [],
   "source": [
    "clf = make_pipeline(StandardScaler(), SVC(kernel = 'sigmoid'))\n",
    "clf.fit(train_X, train_y)\n",
    "y_pred = clf.predict(test_X)"
   ]
  },
  {
   "cell_type": "code",
   "execution_count": 33,
   "id": "9ebdc655",
   "metadata": {},
   "outputs": [
    {
     "data": {
      "text/plain": [
       "<matplotlib.legend.Legend at 0x1a09fc74370>"
      ]
     },
     "execution_count": 33,
     "metadata": {},
     "output_type": "execute_result"
    },
    {
     "data": {
      "image/png": "[encoded data removed]",
      "text/plain": [
       "<Figure size 432x288 with 1 Axes>"
      ]
     },
     "metadata": {
      "needs_background": "light"
     },
     "output_type": "display_data"
    }
   ],
   "source": [
    "plt.plot(test_X[:, 0][test_y==1], test_X[:, 1][test_y==1], \"bs\",label=\"Iris virginica\")\n",
    "plt.plot(test_X[:, 0][test_y==0], test_X[:, 1][test_y==0], \"yo\",label=\"not Iris virginica\")\n",
    "plot_predictions(clf,test_X)\n",
    "plt.xlabel('Petal length',fontsize=14)\n",
    "plt.ylabel('Petal width',fontsize=14)\n",
    "plt.legend(loc=\"upper left\", fontsize=14)"
   ]
  },
  {
   "cell_type": "code",
   "execution_count": 34,
   "id": "4512c6eb",
   "metadata": {},
   "outputs": [
    {
     "name": "stdout",
     "output_type": "stream",
     "text": [
      "0.9333333333333333\n"
     ]
    }
   ],
   "source": [
    "test_accuracy = sum(y_pred == test_y)/len(y_pred)\n",
    "print(test_accuracy)"
   ]
  },
  {
   "cell_type": "markdown",
   "id": "a04e563c",
   "metadata": {},
   "source": [
    "用subplot"
   ]
  },
  {
   "cell_type": "markdown",
   "id": "f565647d",
   "metadata": {},
   "source": [
    "# Method2: Linear SVC"
   ]
  },
  {
   "cell_type": "markdown",
   "id": "44f3be22",
   "metadata": {},
   "source": [
    "scikit-learn程式在LinearSVC跟SVC使用不同來源之程式：<br>\n",
    "SVC 程式來自於libSVM <br>\n",
    "LinearSVC 程式來自於liblinear <br>"
   ]
  },
  {
   "cell_type": "markdown",
   "id": "31c568f7",
   "metadata": {},
   "source": [
    "差別處：<br>\n",
    "1. LinearSVC使用線性kernel， 無法指定其他kernel <br>\n",
    "2. libSVM適合處理中小型資料集，可以對於結構複雜的中小型資料給定非線性的kernel進行SVM<br>\n",
    "3. liblinear 適合處理大型資料集，因為某些情況下，大型資料有沒有進行非線性轉換的分類結果差不多，在這樣的情況下，使用線性的kernel計算較快。<br>\n",
    "4. 即使將SVC的kernel設定為linear，計算速度仍比LinearSVC慢。\n",
    "5. 計算複雜度：<br>\n",
    "SVC：$O(mn^2)$至$O(mn^3)$, $n$為資料數 $m$為特徵數 <br>\n",
    "LinearSVC : $O(mn)$"
   ]
  },
  {
   "cell_type": "markdown",
   "id": "86a403ec",
   "metadata": {},
   "source": [
    "LinearSVC 在模型以及參數指定較為複雜，我們一一來看：<br>\n",
    "原問題：\n",
    "$$\\min_{w,b} \\,\\text{權重正則化項} + C\\sum_{i=1}^{n} \\text{L1 or L2 hinge loss}$$"
   ]
  },
  {
   "cell_type": "markdown",
   "id": "3213d986",
   "metadata": {},
   "source": [
    "程式參數`penalty` = {'l1','l2'}：決定權重使用L1 或是 L2 正則化，預設為'l2'<br>\n",
    "程式參數`loss` = {'hinge', 'squared_hinge'}： 決定要用L1 或是L2 hinge loss，預設為$\\textbf{'squared_hinge'}$"
   ]
  },
  {
   "cell_type": "markdown",
   "id": "7a9389db",
   "metadata": {},
   "source": [
    "舉例：L1 penalty with L2 hinge loss:<br>\n",
    "$$\\min_{w,b} \\, \\lVert w \\rVert + C\\sum_{i=1}^{n} \\Big(max\\big(0,1-y_i(w^T\\phi(x_i)+b)\\big)\\Big)^2$$ <br>\n",
    "L2 penalty with L1 hinge loss:<br>\n",
    "$$\\min_{w,b} \\, \\frac{1}{2}w^Tw + C\\sum_{i=1}^{n} max\\big(0,1-y_i(w^T\\phi(x_i)+b)\\big)$$ "
   ]
  },
  {
   "cell_type": "markdown",
   "id": "d6db81f1",
   "metadata": {},
   "source": [
    "通常會調整的參數為：<br>\n",
    "1. C (懲罰程度) 剛開始train時通常不動這個<br> \n",
    "2. penalty (權重的正則化要用哪個)\n",
    "3. loss(loss funciton要用哪個)"
   ]
  },
  {
   "cell_type": "code",
   "execution_count": 35,
   "id": "a063fc82",
   "metadata": {},
   "outputs": [],
   "source": [
    "from sklearn.svm import LinearSVC"
   ]
  },
  {
   "cell_type": "code",
   "execution_count": 36,
   "id": "8d07bf15",
   "metadata": {},
   "outputs": [],
   "source": [
    "clf = make_pipeline(StandardScaler(), LinearSVC())\n",
    "clf.fit(train_X, train_y)\n",
    "y_pred = clf.predict(test_X)"
   ]
  },
  {
   "cell_type": "code",
   "execution_count": 37,
   "id": "a5178eeb",
   "metadata": {},
   "outputs": [
    {
     "data": {
      "text/plain": [
       "<matplotlib.legend.Legend at 0x1a09fc6d070>"
      ]
     },
     "execution_count": 37,
     "metadata": {},
     "output_type": "execute_result"
    },
    {
     "data": {
      "image/png": "[encoded data removed]",
      "text/plain": [
       "<Figure size 432x288 with 1 Axes>"
      ]
     },
     "metadata": {
      "needs_background": "light"
     },
     "output_type": "display_data"
    }
   ],
   "source": [
    "plt.plot(test_X[:, 0][test_y==1], test_X[:, 1][test_y==1], \"bs\",label=\"Iris virginica\")\n",
    "plt.plot(test_X[:, 0][test_y==0], test_X[:, 1][test_y==0], \"yo\",label=\"not Iris virginica\")\n",
    "plot_predictions(clf,test_X)\n",
    "plt.xlabel('Petal length',fontsize=14)\n",
    "plt.ylabel('Petal width',fontsize=14)\n",
    "plt.legend(loc=\"upper left\", fontsize=14)"
   ]
  },
  {
   "cell_type": "code",
   "execution_count": 38,
   "id": "ccf07176",
   "metadata": {},
   "outputs": [
    {
     "name": "stdout",
     "output_type": "stream",
     "text": [
      "0.9333333333333333\n"
     ]
    }
   ],
   "source": [
    "test_accuracy = sum(y_pred == test_y)/len(y_pred)\n",
    "print(test_accuracy)"
   ]
  },
  {
   "cell_type": "code",
   "execution_count": null,
   "id": "0a51ec5f",
   "metadata": {},
   "outputs": [],
   "source": []
  },
  {
   "cell_type": "markdown",
   "id": "9a3cafd3",
   "metadata": {},
   "source": [
    "# Method3 : NuSVC"
   ]
  },
  {
   "cell_type": "markdown",
   "id": "cd0cd125",
   "metadata": {},
   "source": [
    "相較於SVC 用C來控制邊界，如果我們討論以下形式：<br>\n",
    "$$\\begin{align*}\n",
    "\\min_{w,b,\\xi,\\rho} \\,&\\frac{1}{2}w^Tw -\\nu\\rho + \\frac{1}{n}\\sum_{i=1}^{n}\\xi_i   \\\\\n",
    "\\text{subject to } &y_i(w^T\\phi(x_i)+b)\\geq \\rho-\\xi_i,\\\\\n",
    "&\\xi_i\\geq 0 , i=1,...,n\\\\\n",
    "&\\rho \\geq 0\n",
    "\\end{align*}$$"
   ]
  },
  {
   "cell_type": "markdown",
   "id": "f3207cad",
   "metadata": {},
   "source": [
    "$\\nu$ 為$(0,1]$之間的數值，其被證明為$\\textbf{分類錯誤的樣本數所佔比例之上界}$，也同時是$\\textbf{支撐向量所佔比例之下界}$"
   ]
  },
  {
   "cell_type": "markdown",
   "id": "da74055c",
   "metadata": {},
   "source": [
    "參數跟SVC差別只在於C換成$\\nu$"
   ]
  },
  {
   "cell_type": "markdown",
   "id": "d4175502",
   "metadata": {},
   "source": [
    "通常會調整的參數為：<br>\n",
    "1. $\\nu$ 預設為0.5 剛開始train時通常不動這個<br>\n",
    "2. kernel (kernel funciton 要用哪個)\n",
    "3. kernel function相對應的參數，剛開始train時通常不動這個 "
   ]
  },
  {
   "cell_type": "code",
   "execution_count": 39,
   "id": "7aa8dacc",
   "metadata": {},
   "outputs": [],
   "source": [
    "from sklearn.svm import NuSVC"
   ]
  },
  {
   "cell_type": "code",
   "execution_count": 40,
   "id": "d355b04e",
   "metadata": {},
   "outputs": [],
   "source": [
    "clf = make_pipeline(StandardScaler(), NuSVC())\n",
    "clf.fit(train_X, train_y)\n",
    "y_pred = clf.predict(test_X)"
   ]
  },
  {
   "cell_type": "code",
   "execution_count": 41,
   "id": "6c8413de",
   "metadata": {},
   "outputs": [
    {
     "data": {
      "text/plain": [
       "<matplotlib.legend.Legend at 0x1a09fcd2a00>"
      ]
     },
     "execution_count": 41,
     "metadata": {},
     "output_type": "execute_result"
    },
    {
     "data": {
      "image/png": "[encoded data removed]",
      "text/plain": [
       "<Figure size 432x288 with 1 Axes>"
      ]
     },
     "metadata": {
      "needs_background": "light"
     },
     "output_type": "display_data"
    }
   ],
   "source": [
    "plt.plot(test_X[:, 0][test_y==1], test_X[:, 1][test_y==1], \"bs\",label=\"Iris virginica\")\n",
    "plt.plot(test_X[:, 0][test_y==0], test_X[:, 1][test_y==0], \"yo\",label=\"not Iris virginica\")\n",
    "plot_predictions(clf,test_X)\n",
    "plt.xlabel('Petal length',fontsize=14)\n",
    "plt.ylabel('Petal width',fontsize=14)\n",
    "plt.legend(loc=\"upper left\", fontsize=14)"
   ]
  },
  {
   "cell_type": "code",
   "execution_count": 42,
   "id": "8f06f3aa",
   "metadata": {},
   "outputs": [
    {
     "name": "stdout",
     "output_type": "stream",
     "text": [
      "0.9333333333333333\n"
     ]
    }
   ],
   "source": [
    "test_accuracy = sum(y_pred == test_y)/len(y_pred)\n",
    "print(test_accuracy)"
   ]
  },
  {
   "cell_type": "code",
   "execution_count": null,
   "id": "4592fce3",
   "metadata": {},
   "outputs": [],
   "source": []
  },
  {
   "cell_type": "code",
   "execution_count": null,
   "id": "083fc5ef",
   "metadata": {},
   "outputs": [],
   "source": []
  },
  {
   "cell_type": "code",
   "execution_count": 43,
   "id": "feb663ff",
   "metadata": {},
   "outputs": [],
   "source": [
    "clf = make_pipeline(StandardScaler(), NuSVC(kernel = 'poly'))\n",
    "clf.fit(train_X, train_y)\n",
    "y_pred = clf.predict(test_X)"
   ]
  },
  {
   "cell_type": "code",
   "execution_count": 44,
   "id": "c143d429",
   "metadata": {},
   "outputs": [
    {
     "data": {
      "text/plain": [
       "<matplotlib.legend.Legend at 0x1a09fdf4fa0>"
      ]
     },
     "execution_count": 44,
     "metadata": {},
     "output_type": "execute_result"
    },
    {
     "data": {
      "image/png": "[encoded data removed]",
      "text/plain": [
       "<Figure size 432x288 with 1 Axes>"
      ]
     },
     "metadata": {
      "needs_background": "light"
     },
     "output_type": "display_data"
    }
   ],
   "source": [
    "plt.plot(test_X[:, 0][test_y==1], test_X[:, 1][test_y==1], \"bs\",label=\"Iris virginica\")\n",
    "plt.plot(test_X[:, 0][test_y==0], test_X[:, 1][test_y==0], \"yo\",label=\"not Iris virginica\")\n",
    "plot_predictions(clf,test_X)\n",
    "plt.xlabel('Petal length',fontsize=14)\n",
    "plt.ylabel('Petal width',fontsize=14)\n",
    "plt.legend(loc=\"upper left\", fontsize=14)"
   ]
  },
  {
   "cell_type": "code",
   "execution_count": 45,
   "id": "20dc12b8",
   "metadata": {},
   "outputs": [
    {
     "name": "stdout",
     "output_type": "stream",
     "text": [
      "0.8666666666666667\n"
     ]
    }
   ],
   "source": [
    "test_accuracy = sum(y_pred == test_y)/len(y_pred)\n",
    "print(test_accuracy)"
   ]
  }
 ],
 "metadata": {
  "kernelspec": {
   "display_name": "Python 3 (ipykernel)",
   "language": "python",
   "name": "python3"
  },
  "language_info": {
   "codemirror_mode": {
    "name": "ipython",
    "version": 3
   },
   "file_extension": ".py",
   "mimetype": "text/x-python",
   "name": "python",
   "nbconvert_exporter": "python",
   "pygments_lexer": "ipython3",
   "version": "3.9.12"
  }
 },
 "nbformat": 4,
 "nbformat_minor": 5
}
