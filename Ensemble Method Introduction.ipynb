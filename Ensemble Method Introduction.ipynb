{
 "cells": [
  {
   "cell_type": "markdown",
   "id": "3a5ef53d",
   "metadata": {},
   "source": [
    "# 集結眾人的智慧"
   ]
  },
  {
   "cell_type": "markdown",
   "id": "eb2b382e",
   "metadata": {},
   "source": [
    "試想一個情境：\n",
    "\n",
    "* 大學時期準備分組報告或是考試 : <br>\n",
    "$\\space$ 因為範圍太多，所以大家分一分誰負責那些題目或是範圍。<br>\n",
    "$\\space$ 然後在報告的時候各自講各自的部分，或是考試前由負責該範圍的人負責教其他人。<br>"
   ]
  },
  {
   "cell_type": "markdown",
   "id": "d292989c",
   "metadata": {},
   "source": [
    "試想另外一個情境：<br>\n",
    "* 面對同樣的範圍或是題目的組員們 : <br>\n",
    "$\\space$ 彼此大眼瞪小眼，似乎對於這個範圍不是特別的熟悉，只好向其他組員尋求支援。<br>\n",
    "$\\space$ $\\Rightarrow$ 即使多個人一起處理同個問題，也不一定會有進步。"
   ]
  },
  {
   "cell_type": "markdown",
   "id": "c147d12f",
   "metadata": {},
   "source": [
    "接著：<br>\n",
    "\n",
    "* 向其他組員尋求幫忙之後，大家一起解決這個問題。<br>\n",
    "$\\space$ 結果導致別的範圍或問題來不及準備完而表現不好。<br>\n",
    "$\\space$ $\\Rightarrow$ 即使多個人處理問題能順利解決，也可能因此影響到別的部份的表現。"
   ]
  },
  {
   "cell_type": "markdown",
   "id": "53dacafd",
   "metadata": {},
   "source": [
    "# 三個臭皮匠真的能勝過諸葛亮嗎?"
   ]
  },
  {
   "cell_type": "markdown",
   "id": "b39780b8",
   "metadata": {},
   "source": [
    "三個社會科學專長的學生，通力合作之下，是否能在數學方面贏過數學系學生?"
   ]
  },
  {
   "cell_type": "markdown",
   "id": "8d645820",
   "metadata": {},
   "source": [
    "一般來說很困難，但是並不是沒有機會。"
   ]
  },
  {
   "cell_type": "markdown",
   "id": "d0739d01",
   "metadata": {},
   "source": [
    "只要這三個學生能夠辦到：<br>\n",
    "\n",
    "1. 會跟數學系學生一樣的東西，例如：乖乖上課寫題目 <br>\n",
    "\n",
    "2. 會數學系學生不會的東西，例如：在數學系學生覺得很阿雜不想讀的部分，準備得十分周全。<br>\n",
    "\n",
    "3. 場外戰術，不方便透漏的各種技巧。<br>\n",
    "\n",
    "然後每個人各司其職，在每個地方做好自己的事情，就有機會贏過數學系學生。"
   ]
  },
  {
   "cell_type": "markdown",
   "id": "7bf5e56b",
   "metadata": {},
   "source": [
    "總結來說 <br>\n",
    "* 領域多角化，不局限於某個特定領域 <br>\n",
    "* 方法多樣化，用各種方法學會某個領域的知識 <br>\n",
    "* **合作**"
   ]
  },
  {
   "cell_type": "markdown",
   "id": "8ada1d75",
   "metadata": {},
   "source": [
    "# 回到分類問題上："
   ]
  },
  {
   "cell_type": "markdown",
   "id": "4e8ccebe",
   "metadata": {},
   "source": [
    "假設我們訓練出了各種分類器，像是羅吉斯回歸，SVM，決策樹，或是其他的。彼此的準確率表現都差不多。"
   ]
  },
  {
   "cell_type": "markdown",
   "id": "0fa25019",
   "metadata": {},
   "source": [
    "比起軍備競賽，也就是讓模型之間彼此競爭，看哪個才能有更高的準確率，不如嘗試看看如果模型之間合作是否會有更好的表現。"
   ]
  },
  {
   "cell_type": "markdown",
   "id": "98dab9c0",
   "metadata": {},
   "source": [
    "# 領域多角化"
   ]
  },
  {
   "cell_type": "markdown",
   "id": "f96e4db7",
   "metadata": {},
   "source": [
    "讓訓練集彼此之間有差異。"
   ]
  },
  {
   "cell_type": "markdown",
   "id": "026d125f",
   "metadata": {},
   "source": [
    "# 方法多樣化"
   ]
  },
  {
   "cell_type": "markdown",
   "id": "8c7ddfde",
   "metadata": {},
   "source": [
    "1. 不同的分類演算法\n",
    "2. 不同的模型參數"
   ]
  },
  {
   "cell_type": "markdown",
   "id": "058660bd",
   "metadata": {},
   "source": [
    "# 合作"
   ]
  },
  {
   "cell_type": "markdown",
   "id": "365c85d8",
   "metadata": {},
   "source": [
    "將各種分類器結合的方式有以下幾種：<br>\n",
    "1. voting\n",
    "2. bagging\n",
    "3. boosting\n",
    "4. stacking <br>\n",
    "\n",
    "以下一一介紹其中的概念"
   ]
  },
  {
   "cell_type": "markdown",
   "id": "e33cb336",
   "metadata": {},
   "source": [
    "假設現在我們訓練出$L$ 個分類器(不一定要是同一種模型)。<br>\n",
    "我們可以將分類器視為函數並寫作$M_1,...,M_L$。<br>\n",
    "首先我們可以得到\n",
    "\n",
    "$M_j(x_{test})$\n",
    "\n",
    "為第$j$個分類器，輸入測試資料後得出之預測值<br>\n",
    "(有些方法要的是類別的值，有些方法要的是各個類別的機率值)<br>\n",
    "\n",
    "如果是類別的值，$M_j(x_{test}) = k_j$, $\\quad k_j\\in\\{1,...,K\\}$ 為類別<br>\n",
    "如果是各個類別的機率值，$M_j(x_{test}) = [p_{j1},...,p_{jK}],$ $\\quad p_{jk}$ 為在第j個分類器之下，此測試資料為類別k的機率。"
   ]
  },
  {
   "cell_type": "markdown",
   "id": "4a8c276f",
   "metadata": {},
   "source": [
    "而實際上我們要的預測值則是透過\n",
    "\n",
    "$\\hat{y} = f(M_1,...,M_L | \\theta)$\n",
    "\n",
    "其中\n",
    "\n",
    "$\\hat{y}$ 是我們要的預測值 <br>\n",
    "函數 $f$ 則是各個分類器的合作方式 <br>\n",
    "$\\theta$ 則是合作方式所需之參數之簡稱。"
   ]
  },
  {
   "cell_type": "markdown",
   "id": "cbbc814a",
   "metadata": {},
   "source": [
    "### Voting"
   ]
  },
  {
   "cell_type": "markdown",
   "id": "f857e52f",
   "metadata": {},
   "source": [
    "常見的方式有:\n",
    "\n",
    "1. 多數決，又稱hard voting\n",
    "2. 機率總和取大，又稱soft voting\n",
    "\n",
    "第一種方法之計算方式為：\n",
    "\n",
    "$\\hat{y} = \\max\\{k : \\sum\\limits_{j=1}^{L}I\\{{M_L(x_{test})  = k}\\}\\}$ <br>\n",
    "蒐集$L$個分類器的結果，然後看哪個類別多就預測那個分類<br>\n",
    "\n",
    "第二種方法之計算方式為:\n",
    "\n",
    "$\\hat{y} = \\max\\{k : \\sum\\limits_{j=1}^{L}p_{jk}\\}$ <br>\n",
    "蒐集$L$個分類器的預測機率值，類別各自加總$L$個結果，然後看哪個類別的機率總和最大，就把預測值設為那個類別。"
   ]
  },
  {
   "cell_type": "markdown",
   "id": "bf2b4991",
   "metadata": {},
   "source": [
    "其餘voting方法sklearn.ensemble沒有，要自己另外寫"
   ]
  },
  {
   "cell_type": "markdown",
   "id": "4cd8cb25",
   "metadata": {},
   "source": [
    "### bagging"
   ]
  },
  {
   "cell_type": "markdown",
   "id": "2884e560",
   "metadata": {},
   "source": [
    "bagging 是 bootstrap aggregating 的簡稱。<br>\n",
    "顧名思義，此方法分為 bootstrap步驟跟aggregate步驟。"
   ]
  },
  {
   "cell_type": "markdown",
   "id": "6c7fb933",
   "metadata": {},
   "source": [
    "bootstrap 部分：<br>\n",
    "透過重複抽樣產生 $L$ 個不同的訓練集(可以有重複的樣本,i.e. 取後放回)<br>\n",
    "接著將這$L$ 個不同的訓練集各自訓練出$L$ 個分類器。"
   ]
  },
  {
   "cell_type": "markdown",
   "id": "69d1f16c",
   "metadata": {},
   "source": [
    "aggregate部分：<br>\n",
    "將$L$ 個分類器合併，透過將 $L$ 個結果取平均之方式得出預測之分類"
   ]
  },
  {
   "cell_type": "markdown",
   "id": "b5976a38",
   "metadata": {},
   "source": [
    "### boosting"
   ]
  },
  {
   "cell_type": "markdown",
   "id": "3dfe9515",
   "metadata": {},
   "source": [
    "在bagging方法中，訓練出的$L$ 個分類器的表現有可能差不多，也就辦不到補足彼此缺點的作用。"
   ]
  },
  {
   "cell_type": "markdown",
   "id": "12b905b8",
   "metadata": {},
   "source": [
    "boosting為了解決此問題，在訓練集的抽樣當中進行調整：<br>\n",
    "\n",
    "原始的boosting方法有諸多可改良之處，故這邊直接介紹方法較成熟的改良版：Adaboost"
   ]
  },
  {
   "cell_type": "markdown",
   "id": "93c8185a",
   "metadata": {},
   "source": [
    "### adaboost"
   ]
  },
  {
   "cell_type": "markdown",
   "id": "ce27f985",
   "metadata": {},
   "source": [
    "adaboost 是 adaptive boosting的簡稱。"
   ]
  },
  {
   "cell_type": "markdown",
   "id": "db00090c",
   "metadata": {},
   "source": [
    "演算法如下：<br>\n",
    ">對於每個訓練集樣本，對應一個被抽到的機率值，初始為均勻機率。\n",
    "對於每個分類器：<br>\n",
    ">> 根據機率從訓練集抽樣出子訓練集 <br>\n",
    "用此子訓練集訓練出分類器<br>\n",
    "將所有訓練集資料帶入，預測對的樣本，調降下次抽到的機率；<br>\n",
    "反之，預測錯的樣本調升抽到的機率\n",
    ">>\n",
    "\n",
    ">模型預測：<br>\n",
    "輸入測試集資料，透過加權平均方式，將$L$個分類器之預測結果平均，得出預測值。"
   ]
  },
  {
   "cell_type": "markdown",
   "id": "d40386db",
   "metadata": {},
   "source": [
    "還有另一種常見改良版: gradient boosting (另外補檔案說明)"
   ]
  },
  {
   "cell_type": "code",
   "execution_count": null,
   "id": "65daf7c9",
   "metadata": {},
   "outputs": [],
   "source": []
  }
 ],
 "metadata": {
  "kernelspec": {
   "display_name": "Python 3 (ipykernel)",
   "language": "python",
   "name": "python3"
  },
  "language_info": {
   "codemirror_mode": {
    "name": "ipython",
    "version": 3
   },
   "file_extension": ".py",
   "mimetype": "text/x-python",
   "name": "python",
   "nbconvert_exporter": "python",
   "pygments_lexer": "ipython3",
   "version": "3.9.12"
  }
 },
 "nbformat": 4,
 "nbformat_minor": 5
}
