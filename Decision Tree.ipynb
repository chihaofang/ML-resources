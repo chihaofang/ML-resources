{
 "cells": [
  {
   "cell_type": "markdown",
   "id": "eba43400",
   "metadata": {},
   "source": [
    "# 理論"
   ]
  },
  {
   "cell_type": "markdown",
   "id": "ef2fca77",
   "metadata": {},
   "source": [
    "回顧在KNN時提及「樹」的長相："
   ]
  },
  {
   "attachments": {
    "image.png": {
     "image/png": "[encoded data removed]"
    }
   },
   "cell_type": "markdown",
   "id": "f811dde3",
   "metadata": {},
   "source": [
    "![image.png](attachment:image.png)"
   ]
  },
  {
   "cell_type": "markdown",
   "id": "8b2390e1",
   "metadata": {},
   "source": [
    "在決策樹當中一樣以這樣的資料型態儲存分類之結果。<br>\n",
    "不同的地方在於 KNN是**非監督式學習**，而決策樹是**監督式學習**。<br>\n",
    "而這個差別之處在演算法當中就是：\n",
    "\n",
    "* KNN在擴張枝葉的時候不會考慮怎樣分能夠讓**葉節點**裡的資料最純(i.e.沒有太類別混雜在一起) <br>\n",
    "* 而決策樹則會考量**在每一次的分枝當中，能讓每個節點裡的資料都盡量最純**的方式擴展枝葉。"
   ]
  },
  {
   "cell_type": "markdown",
   "id": "6da4df23",
   "metadata": {},
   "source": [
    "對應到演算法方式則為：決策樹會以greedy algorithm(貪婪式演算法)，在每一步都搜尋最佳解才進到下一步。<br>\n",
    "然而因為無法窮舉所有情況，所以每次分枝的時候都只會考量一部份的可能分枝。"
   ]
  },
  {
   "cell_type": "markdown",
   "id": "300de877",
   "metadata": {},
   "source": [
    "* 好的情況下，決策樹會是**每一個時刻都做到最好**\n",
    "* 而不好的情況下就變成**今朝有酒今朝醉**.\n",
    "\n",
    "$\\rightarrow$ 決策樹可能會收斂到局部最佳解"
   ]
  },
  {
   "cell_type": "markdown",
   "id": "cb2863a9",
   "metadata": {},
   "source": [
    "以下以例子進行方法講解"
   ]
  },
  {
   "cell_type": "markdown",
   "id": "24e1b786",
   "metadata": {},
   "source": [
    "讀取違約預測資料"
   ]
  },
  {
   "cell_type": "code",
   "execution_count": 1,
   "id": "b047b42b",
   "metadata": {},
   "outputs": [],
   "source": [
    "import numpy as np\n",
    "import pandas as pd\n",
    "import matplotlib.pyplot as plt\n",
    "import scipy.stats as stat"
   ]
  },
  {
   "cell_type": "code",
   "execution_count": 2,
   "id": "6666a0bd",
   "metadata": {},
   "outputs": [],
   "source": [
    "data = pd.read_csv('C:/Users/2022080101/Desktop/dfdata_補值.csv',encoding = 'big5')"
   ]
  },
  {
   "cell_type": "code",
   "execution_count": 3,
   "id": "38eb1062",
   "metadata": {},
   "outputs": [
    {
     "data": {
      "text/html": [
       "<div>\n",
       "<style scoped>\n",
       "    .dataframe tbody tr th:only-of-type {\n",
       "        vertical-align: middle;\n",
       "    }\n",
       "\n",
       "    .dataframe tbody tr th {\n",
       "        vertical-align: top;\n",
       "    }\n",
       "\n",
       "    .dataframe thead th {\n",
       "        text-align: right;\n",
       "    }\n",
       "</style>\n",
       "<table border=\"1\" class=\"dataframe\">\n",
       "  <thead>\n",
       "    <tr style=\"text-align: right;\">\n",
       "      <th></th>\n",
       "      <th>公司碼</th>\n",
       "      <th>財報年月</th>\n",
       "      <th>A104</th>\n",
       "      <th>A105</th>\n",
       "      <th>A106</th>\n",
       "      <th>A109</th>\n",
       "      <th>A111</th>\n",
       "      <th>A115</th>\n",
       "      <th>A116</th>\n",
       "      <th>A140</th>\n",
       "      <th>...</th>\n",
       "      <th>XPYR</th>\n",
       "      <th>財報年月_r$</th>\n",
       "      <th>產業碼</th>\n",
       "      <th>產業名</th>\n",
       "      <th>year</th>\n",
       "      <th>上市板塊</th>\n",
       "      <th>是否違約</th>\n",
       "      <th>原因</th>\n",
       "      <th>delete</th>\n",
       "      <th>市場年度</th>\n",
       "    </tr>\n",
       "  </thead>\n",
       "  <tbody>\n",
       "    <tr>\n",
       "      <th>0</th>\n",
       "      <td>2</td>\n",
       "      <td>2014-12-01</td>\n",
       "      <td>16.15</td>\n",
       "      <td>29.94</td>\n",
       "      <td>14.65</td>\n",
       "      <td>13.25</td>\n",
       "      <td>28.67</td>\n",
       "      <td>3.83</td>\n",
       "      <td>69.29</td>\n",
       "      <td>4.18</td>\n",
       "      <td>...</td>\n",
       "      <td>0.0</td>\n",
       "      <td>2014-12-01</td>\n",
       "      <td>25A</td>\n",
       "      <td>建設</td>\n",
       "      <td>2014</td>\n",
       "      <td>主板</td>\n",
       "      <td>0</td>\n",
       "      <td>NaN</td>\n",
       "      <td>0</td>\n",
       "      <td>2015</td>\n",
       "    </tr>\n",
       "    <tr>\n",
       "      <th>1</th>\n",
       "      <td>2</td>\n",
       "      <td>2015-12-01</td>\n",
       "      <td>20.71</td>\n",
       "      <td>28.66</td>\n",
       "      <td>14.50</td>\n",
       "      <td>13.43</td>\n",
       "      <td>8.31</td>\n",
       "      <td>4.88</td>\n",
       "      <td>63.30</td>\n",
       "      <td>5.00</td>\n",
       "      <td>...</td>\n",
       "      <td>0.0</td>\n",
       "      <td>2015-12-01</td>\n",
       "      <td>25A</td>\n",
       "      <td>建設</td>\n",
       "      <td>2015</td>\n",
       "      <td>主板</td>\n",
       "      <td>0</td>\n",
       "      <td>NaN</td>\n",
       "      <td>0</td>\n",
       "      <td>2016</td>\n",
       "    </tr>\n",
       "    <tr>\n",
       "      <th>2</th>\n",
       "      <td>2</td>\n",
       "      <td>2016-12-01</td>\n",
       "      <td>19.16</td>\n",
       "      <td>28.90</td>\n",
       "      <td>14.23</td>\n",
       "      <td>11.89</td>\n",
       "      <td>16.60</td>\n",
       "      <td>4.17</td>\n",
       "      <td>63.86</td>\n",
       "      <td>4.70</td>\n",
       "      <td>...</td>\n",
       "      <td>0.0</td>\n",
       "      <td>2016-12-01</td>\n",
       "      <td>25A</td>\n",
       "      <td>建設</td>\n",
       "      <td>2016</td>\n",
       "      <td>主板</td>\n",
       "      <td>0</td>\n",
       "      <td>NaN</td>\n",
       "      <td>0</td>\n",
       "      <td>2017</td>\n",
       "    </tr>\n",
       "    <tr>\n",
       "      <th>3</th>\n",
       "      <td>2</td>\n",
       "      <td>2017-12-01</td>\n",
       "      <td>20.92</td>\n",
       "      <td>33.71</td>\n",
       "      <td>18.75</td>\n",
       "      <td>15.49</td>\n",
       "      <td>34.28</td>\n",
       "      <td>3.92</td>\n",
       "      <td>77.07</td>\n",
       "      <td>4.51</td>\n",
       "      <td>...</td>\n",
       "      <td>0.0</td>\n",
       "      <td>2017-12-01</td>\n",
       "      <td>25A</td>\n",
       "      <td>建設</td>\n",
       "      <td>2017</td>\n",
       "      <td>主板</td>\n",
       "      <td>0</td>\n",
       "      <td>NaN</td>\n",
       "      <td>0</td>\n",
       "      <td>2018</td>\n",
       "    </tr>\n",
       "    <tr>\n",
       "      <th>4</th>\n",
       "      <td>2</td>\n",
       "      <td>2018-12-01</td>\n",
       "      <td>23.06</td>\n",
       "      <td>37.14</td>\n",
       "      <td>22.77</td>\n",
       "      <td>16.74</td>\n",
       "      <td>11.42</td>\n",
       "      <td>4.02</td>\n",
       "      <td>72.33</td>\n",
       "      <td>4.88</td>\n",
       "      <td>...</td>\n",
       "      <td>0.0</td>\n",
       "      <td>2018-12-01</td>\n",
       "      <td>25A</td>\n",
       "      <td>建設</td>\n",
       "      <td>2018</td>\n",
       "      <td>主板</td>\n",
       "      <td>0</td>\n",
       "      <td>NaN</td>\n",
       "      <td>0</td>\n",
       "      <td>2019</td>\n",
       "    </tr>\n",
       "    <tr>\n",
       "      <th>...</th>\n",
       "      <td>...</td>\n",
       "      <td>...</td>\n",
       "      <td>...</td>\n",
       "      <td>...</td>\n",
       "      <td>...</td>\n",
       "      <td>...</td>\n",
       "      <td>...</td>\n",
       "      <td>...</td>\n",
       "      <td>...</td>\n",
       "      <td>...</td>\n",
       "      <td>...</td>\n",
       "      <td>...</td>\n",
       "      <td>...</td>\n",
       "      <td>...</td>\n",
       "      <td>...</td>\n",
       "      <td>...</td>\n",
       "      <td>...</td>\n",
       "      <td>...</td>\n",
       "      <td>...</td>\n",
       "      <td>...</td>\n",
       "      <td>...</td>\n",
       "    </tr>\n",
       "    <tr>\n",
       "      <th>10978</th>\n",
       "      <td>603998</td>\n",
       "      <td>2018-12-01</td>\n",
       "      <td>7.47</td>\n",
       "      <td>74.12</td>\n",
       "      <td>7.96</td>\n",
       "      <td>7.75</td>\n",
       "      <td>17.10</td>\n",
       "      <td>5.57</td>\n",
       "      <td>108.79</td>\n",
       "      <td>5.05</td>\n",
       "      <td>...</td>\n",
       "      <td>0.0</td>\n",
       "      <td>2018-12-01</td>\n",
       "      <td>17C1</td>\n",
       "      <td>西藥</td>\n",
       "      <td>2018</td>\n",
       "      <td>主板</td>\n",
       "      <td>0</td>\n",
       "      <td>NaN</td>\n",
       "      <td>0</td>\n",
       "      <td>2019</td>\n",
       "    </tr>\n",
       "    <tr>\n",
       "      <th>10979</th>\n",
       "      <td>603998</td>\n",
       "      <td>2019-12-01</td>\n",
       "      <td>5.25</td>\n",
       "      <td>72.94</td>\n",
       "      <td>7.09</td>\n",
       "      <td>7.37</td>\n",
       "      <td>15.17</td>\n",
       "      <td>3.74</td>\n",
       "      <td>54.09</td>\n",
       "      <td>3.72</td>\n",
       "      <td>...</td>\n",
       "      <td>0.0</td>\n",
       "      <td>2019-12-01</td>\n",
       "      <td>17C1</td>\n",
       "      <td>西藥</td>\n",
       "      <td>2019</td>\n",
       "      <td>主板</td>\n",
       "      <td>0</td>\n",
       "      <td>NaN</td>\n",
       "      <td>0</td>\n",
       "      <td>2020</td>\n",
       "    </tr>\n",
       "    <tr>\n",
       "      <th>10980</th>\n",
       "      <td>603999</td>\n",
       "      <td>2017-12-01</td>\n",
       "      <td>3.77</td>\n",
       "      <td>31.08</td>\n",
       "      <td>3.77</td>\n",
       "      <td>14.22</td>\n",
       "      <td>10.63</td>\n",
       "      <td>3.30</td>\n",
       "      <td>682.86</td>\n",
       "      <td>0.66</td>\n",
       "      <td>...</td>\n",
       "      <td>0.0</td>\n",
       "      <td>2017-12-01</td>\n",
       "      <td>99F</td>\n",
       "      <td>平媒電子報</td>\n",
       "      <td>2017</td>\n",
       "      <td>主板</td>\n",
       "      <td>0</td>\n",
       "      <td>NaN</td>\n",
       "      <td>0</td>\n",
       "      <td>2018</td>\n",
       "    </tr>\n",
       "    <tr>\n",
       "      <th>10981</th>\n",
       "      <td>603999</td>\n",
       "      <td>2018-12-01</td>\n",
       "      <td>1.71</td>\n",
       "      <td>26.75</td>\n",
       "      <td>1.66</td>\n",
       "      <td>7.67</td>\n",
       "      <td>17.90</td>\n",
       "      <td>1.50</td>\n",
       "      <td>734.94</td>\n",
       "      <td>-0.60</td>\n",
       "      <td>...</td>\n",
       "      <td>0.0</td>\n",
       "      <td>2018-12-01</td>\n",
       "      <td>99F</td>\n",
       "      <td>平媒電子報</td>\n",
       "      <td>2018</td>\n",
       "      <td>主板</td>\n",
       "      <td>0</td>\n",
       "      <td>NaN</td>\n",
       "      <td>0</td>\n",
       "      <td>2019</td>\n",
       "    </tr>\n",
       "    <tr>\n",
       "      <th>10982</th>\n",
       "      <td>603999</td>\n",
       "      <td>2019-12-01</td>\n",
       "      <td>2.58</td>\n",
       "      <td>29.84</td>\n",
       "      <td>3.83</td>\n",
       "      <td>10.22</td>\n",
       "      <td>-6.01</td>\n",
       "      <td>2.23</td>\n",
       "      <td>988.05</td>\n",
       "      <td>0.39</td>\n",
       "      <td>...</td>\n",
       "      <td>0.0</td>\n",
       "      <td>2019-12-01</td>\n",
       "      <td>99F</td>\n",
       "      <td>平媒電子報</td>\n",
       "      <td>2019</td>\n",
       "      <td>主板</td>\n",
       "      <td>0</td>\n",
       "      <td>NaN</td>\n",
       "      <td>0</td>\n",
       "      <td>2020</td>\n",
       "    </tr>\n",
       "  </tbody>\n",
       "</table>\n",
       "<p>10983 rows × 160 columns</p>\n",
       "</div>"
      ],
      "text/plain": [
       "          公司碼        財報年月   A104   A105   A106   A109   A111  A115    A116  \\\n",
       "0           2  2014-12-01  16.15  29.94  14.65  13.25  28.67  3.83   69.29   \n",
       "1           2  2015-12-01  20.71  28.66  14.50  13.43   8.31  4.88   63.30   \n",
       "2           2  2016-12-01  19.16  28.90  14.23  11.89  16.60  4.17   63.86   \n",
       "3           2  2017-12-01  20.92  33.71  18.75  15.49  34.28  3.92   77.07   \n",
       "4           2  2018-12-01  23.06  37.14  22.77  16.74  11.42  4.02   72.33   \n",
       "...       ...         ...    ...    ...    ...    ...    ...   ...     ...   \n",
       "10978  603998  2018-12-01   7.47  74.12   7.96   7.75  17.10  5.57  108.79   \n",
       "10979  603998  2019-12-01   5.25  72.94   7.09   7.37  15.17  3.74   54.09   \n",
       "10980  603999  2017-12-01   3.77  31.08   3.77  14.22  10.63  3.30  682.86   \n",
       "10981  603999  2018-12-01   1.71  26.75   1.66   7.67  17.90  1.50  734.94   \n",
       "10982  603999  2019-12-01   2.58  29.84   3.83  10.22  -6.01  2.23  988.05   \n",
       "\n",
       "       A140  ...  XPYR     財報年月_r$   產業碼    產業名  year  上市板塊  是否違約   原因  \\\n",
       "0      4.18  ...   0.0  2014-12-01   25A     建設  2014    主板     0  NaN   \n",
       "1      5.00  ...   0.0  2015-12-01   25A     建設  2015    主板     0  NaN   \n",
       "2      4.70  ...   0.0  2016-12-01   25A     建設  2016    主板     0  NaN   \n",
       "3      4.51  ...   0.0  2017-12-01   25A     建設  2017    主板     0  NaN   \n",
       "4      4.88  ...   0.0  2018-12-01   25A     建設  2018    主板     0  NaN   \n",
       "...     ...  ...   ...         ...   ...    ...   ...   ...   ...  ...   \n",
       "10978  5.05  ...   0.0  2018-12-01  17C1     西藥  2018    主板     0  NaN   \n",
       "10979  3.72  ...   0.0  2019-12-01  17C1     西藥  2019    主板     0  NaN   \n",
       "10980  0.66  ...   0.0  2017-12-01   99F  平媒電子報  2017    主板     0  NaN   \n",
       "10981 -0.60  ...   0.0  2018-12-01   99F  平媒電子報  2018    主板     0  NaN   \n",
       "10982  0.39  ...   0.0  2019-12-01   99F  平媒電子報  2019    主板     0  NaN   \n",
       "\n",
       "       delete  市場年度  \n",
       "0           0  2015  \n",
       "1           0  2016  \n",
       "2           0  2017  \n",
       "3           0  2018  \n",
       "4           0  2019  \n",
       "...       ...   ...  \n",
       "10978       0  2019  \n",
       "10979       0  2020  \n",
       "10980       0  2018  \n",
       "10981       0  2019  \n",
       "10982       0  2020  \n",
       "\n",
       "[10983 rows x 160 columns]"
      ]
     },
     "execution_count": 3,
     "metadata": {},
     "output_type": "execute_result"
    }
   ],
   "source": [
    "data"
   ]
  },
  {
   "cell_type": "markdown",
   "id": "48f9142b",
   "metadata": {},
   "source": [
    "進行資料處理"
   ]
  },
  {
   "cell_type": "code",
   "execution_count": 4,
   "id": "a5cacf7d",
   "metadata": {},
   "outputs": [],
   "source": [
    "from sklearn.model_selection import train_test_split"
   ]
  },
  {
   "cell_type": "code",
   "execution_count": 10,
   "id": "95986696",
   "metadata": {},
   "outputs": [],
   "source": [
    "data_new = data.fillna(0)"
   ]
  },
  {
   "cell_type": "code",
   "execution_count": 11,
   "id": "3ca66d35",
   "metadata": {},
   "outputs": [],
   "source": [
    "X_train, X_test, y_train, y_test = train_test_split(data_new.iloc[:,2:20],\n",
    "                                                    data_new.iloc[:, -4],\n",
    "                                                    test_size=0.3,\n",
    "                                                    random_state=42)"
   ]
  },
  {
   "cell_type": "code",
   "execution_count": 23,
   "id": "0e08c134",
   "metadata": {},
   "outputs": [
    {
     "data": {
      "text/plain": [
       "Index(['A104', 'A105', 'A106', 'A109', 'A111', 'A115', 'A116', 'A140', 'A143',\n",
       "       'A144', 'A145', 'A175', 'A401', 'A509', 'A511', 'A517', 'A519', 'A51A'],\n",
       "      dtype='object')"
      ]
     },
     "execution_count": 23,
     "metadata": {},
     "output_type": "execute_result"
    }
   ],
   "source": [
    "data_new.iloc[:,2:20].columns"
   ]
  },
  {
   "cell_type": "code",
   "execution_count": 12,
   "id": "847cdcd8",
   "metadata": {},
   "outputs": [
    {
     "data": {
      "text/html": [
       "<div>\n",
       "<style scoped>\n",
       "    .dataframe tbody tr th:only-of-type {\n",
       "        vertical-align: middle;\n",
       "    }\n",
       "\n",
       "    .dataframe tbody tr th {\n",
       "        vertical-align: top;\n",
       "    }\n",
       "\n",
       "    .dataframe thead th {\n",
       "        text-align: right;\n",
       "    }\n",
       "</style>\n",
       "<table border=\"1\" class=\"dataframe\">\n",
       "  <thead>\n",
       "    <tr style=\"text-align: right;\">\n",
       "      <th></th>\n",
       "      <th>A104</th>\n",
       "      <th>A105</th>\n",
       "      <th>A106</th>\n",
       "      <th>A109</th>\n",
       "      <th>A111</th>\n",
       "      <th>A115</th>\n",
       "      <th>A116</th>\n",
       "      <th>A140</th>\n",
       "      <th>A143</th>\n",
       "      <th>A144</th>\n",
       "      <th>A145</th>\n",
       "      <th>A175</th>\n",
       "      <th>A401</th>\n",
       "      <th>A509</th>\n",
       "      <th>A511</th>\n",
       "      <th>A517</th>\n",
       "      <th>A519</th>\n",
       "      <th>A51A</th>\n",
       "    </tr>\n",
       "  </thead>\n",
       "  <tbody>\n",
       "    <tr>\n",
       "      <th>5994</th>\n",
       "      <td>2.55</td>\n",
       "      <td>38.54</td>\n",
       "      <td>4.58</td>\n",
       "      <td>4.48</td>\n",
       "      <td>7.74</td>\n",
       "      <td>2.04</td>\n",
       "      <td>437.57</td>\n",
       "      <td>2.28</td>\n",
       "      <td>60.87</td>\n",
       "      <td>4.88</td>\n",
       "      <td>6.72</td>\n",
       "      <td>26.04</td>\n",
       "      <td>-5.43</td>\n",
       "      <td>0.25</td>\n",
       "      <td>0.00</td>\n",
       "      <td>0.00</td>\n",
       "      <td>0.25</td>\n",
       "      <td>0.00</td>\n",
       "    </tr>\n",
       "    <tr>\n",
       "      <th>7244</th>\n",
       "      <td>10.29</td>\n",
       "      <td>61.48</td>\n",
       "      <td>14.11</td>\n",
       "      <td>10.64</td>\n",
       "      <td>9.81</td>\n",
       "      <td>7.33</td>\n",
       "      <td>50.61</td>\n",
       "      <td>9.04</td>\n",
       "      <td>105.66</td>\n",
       "      <td>14.37</td>\n",
       "      <td>18.22</td>\n",
       "      <td>54.41</td>\n",
       "      <td>4.14</td>\n",
       "      <td>26.54</td>\n",
       "      <td>86.14</td>\n",
       "      <td>1.02</td>\n",
       "      <td>112.68</td>\n",
       "      <td>352.26</td>\n",
       "    </tr>\n",
       "    <tr>\n",
       "      <th>8978</th>\n",
       "      <td>4.66</td>\n",
       "      <td>8.85</td>\n",
       "      <td>2.69</td>\n",
       "      <td>2.22</td>\n",
       "      <td>10.19</td>\n",
       "      <td>2.44</td>\n",
       "      <td>51.80</td>\n",
       "      <td>2.17</td>\n",
       "      <td>77.17</td>\n",
       "      <td>4.00</td>\n",
       "      <td>8.30</td>\n",
       "      <td>64.90</td>\n",
       "      <td>-4.64</td>\n",
       "      <td>61.58</td>\n",
       "      <td>0.00</td>\n",
       "      <td>1.02</td>\n",
       "      <td>61.58</td>\n",
       "      <td>416.47</td>\n",
       "    </tr>\n",
       "    <tr>\n",
       "      <th>10374</th>\n",
       "      <td>11.29</td>\n",
       "      <td>29.70</td>\n",
       "      <td>10.97</td>\n",
       "      <td>10.34</td>\n",
       "      <td>5.66</td>\n",
       "      <td>7.71</td>\n",
       "      <td>363.67</td>\n",
       "      <td>8.64</td>\n",
       "      <td>84.24</td>\n",
       "      <td>11.76</td>\n",
       "      <td>12.79</td>\n",
       "      <td>28.80</td>\n",
       "      <td>2.70</td>\n",
       "      <td>12.01</td>\n",
       "      <td>0.00</td>\n",
       "      <td>0.00</td>\n",
       "      <td>12.01</td>\n",
       "      <td>1019.07</td>\n",
       "    </tr>\n",
       "    <tr>\n",
       "      <th>1836</th>\n",
       "      <td>23.25</td>\n",
       "      <td>70.04</td>\n",
       "      <td>57.31</td>\n",
       "      <td>58.08</td>\n",
       "      <td>38.53</td>\n",
       "      <td>22.24</td>\n",
       "      <td>1530.57</td>\n",
       "      <td>22.52</td>\n",
       "      <td>83.59</td>\n",
       "      <td>65.58</td>\n",
       "      <td>68.12</td>\n",
       "      <td>9.59</td>\n",
       "      <td>8.31</td>\n",
       "      <td>0.89</td>\n",
       "      <td>0.00</td>\n",
       "      <td>0.00</td>\n",
       "      <td>0.89</td>\n",
       "      <td>0.00</td>\n",
       "    </tr>\n",
       "    <tr>\n",
       "      <th>...</th>\n",
       "      <td>...</td>\n",
       "      <td>...</td>\n",
       "      <td>...</td>\n",
       "      <td>...</td>\n",
       "      <td>...</td>\n",
       "      <td>...</td>\n",
       "      <td>...</td>\n",
       "      <td>...</td>\n",
       "      <td>...</td>\n",
       "      <td>...</td>\n",
       "      <td>...</td>\n",
       "      <td>...</td>\n",
       "      <td>...</td>\n",
       "      <td>...</td>\n",
       "      <td>...</td>\n",
       "      <td>...</td>\n",
       "      <td>...</td>\n",
       "      <td>...</td>\n",
       "    </tr>\n",
       "    <tr>\n",
       "      <th>5734</th>\n",
       "      <td>17.84</td>\n",
       "      <td>48.80</td>\n",
       "      <td>23.54</td>\n",
       "      <td>27.15</td>\n",
       "      <td>17.79</td>\n",
       "      <td>15.25</td>\n",
       "      <td>646.27</td>\n",
       "      <td>19.23</td>\n",
       "      <td>76.22</td>\n",
       "      <td>29.83</td>\n",
       "      <td>30.46</td>\n",
       "      <td>18.51</td>\n",
       "      <td>17.40</td>\n",
       "      <td>0.49</td>\n",
       "      <td>0.00</td>\n",
       "      <td>0.00</td>\n",
       "      <td>0.49</td>\n",
       "      <td>169398.82</td>\n",
       "    </tr>\n",
       "    <tr>\n",
       "      <th>5191</th>\n",
       "      <td>6.12</td>\n",
       "      <td>30.68</td>\n",
       "      <td>8.28</td>\n",
       "      <td>12.45</td>\n",
       "      <td>36.63</td>\n",
       "      <td>5.29</td>\n",
       "      <td>172.67</td>\n",
       "      <td>2.91</td>\n",
       "      <td>55.49</td>\n",
       "      <td>16.10</td>\n",
       "      <td>23.21</td>\n",
       "      <td>50.64</td>\n",
       "      <td>18.41</td>\n",
       "      <td>9.23</td>\n",
       "      <td>0.00</td>\n",
       "      <td>1.18</td>\n",
       "      <td>9.23</td>\n",
       "      <td>735.41</td>\n",
       "    </tr>\n",
       "    <tr>\n",
       "      <th>5390</th>\n",
       "      <td>16.13</td>\n",
       "      <td>28.20</td>\n",
       "      <td>9.59</td>\n",
       "      <td>5.74</td>\n",
       "      <td>-11.99</td>\n",
       "      <td>6.98</td>\n",
       "      <td>84.48</td>\n",
       "      <td>8.46</td>\n",
       "      <td>147.35</td>\n",
       "      <td>8.46</td>\n",
       "      <td>10.57</td>\n",
       "      <td>73.25</td>\n",
       "      <td>38.29</td>\n",
       "      <td>111.35</td>\n",
       "      <td>0.00</td>\n",
       "      <td>1.95</td>\n",
       "      <td>111.35</td>\n",
       "      <td>198.46</td>\n",
       "    </tr>\n",
       "    <tr>\n",
       "      <th>860</th>\n",
       "      <td>25.59</td>\n",
       "      <td>63.02</td>\n",
       "      <td>19.13</td>\n",
       "      <td>64.61</td>\n",
       "      <td>29.69</td>\n",
       "      <td>17.73</td>\n",
       "      <td>447.79</td>\n",
       "      <td>-44.85</td>\n",
       "      <td>-211.28</td>\n",
       "      <td>75.10</td>\n",
       "      <td>91.75</td>\n",
       "      <td>58.13</td>\n",
       "      <td>303.81</td>\n",
       "      <td>1.07</td>\n",
       "      <td>0.00</td>\n",
       "      <td>0.19</td>\n",
       "      <td>1.07</td>\n",
       "      <td>240.51</td>\n",
       "    </tr>\n",
       "    <tr>\n",
       "      <th>7270</th>\n",
       "      <td>21.09</td>\n",
       "      <td>13.16</td>\n",
       "      <td>8.68</td>\n",
       "      <td>6.12</td>\n",
       "      <td>3.90</td>\n",
       "      <td>6.91</td>\n",
       "      <td>55.29</td>\n",
       "      <td>7.72</td>\n",
       "      <td>116.17</td>\n",
       "      <td>9.92</td>\n",
       "      <td>15.63</td>\n",
       "      <td>62.98</td>\n",
       "      <td>7.85</td>\n",
       "      <td>113.15</td>\n",
       "      <td>0.00</td>\n",
       "      <td>2.50</td>\n",
       "      <td>113.15</td>\n",
       "      <td>274.32</td>\n",
       "    </tr>\n",
       "  </tbody>\n",
       "</table>\n",
       "<p>7688 rows × 18 columns</p>\n",
       "</div>"
      ],
      "text/plain": [
       "        A104   A105   A106   A109   A111   A115     A116   A140    A143  \\\n",
       "5994    2.55  38.54   4.58   4.48   7.74   2.04   437.57   2.28   60.87   \n",
       "7244   10.29  61.48  14.11  10.64   9.81   7.33    50.61   9.04  105.66   \n",
       "8978    4.66   8.85   2.69   2.22  10.19   2.44    51.80   2.17   77.17   \n",
       "10374  11.29  29.70  10.97  10.34   5.66   7.71   363.67   8.64   84.24   \n",
       "1836   23.25  70.04  57.31  58.08  38.53  22.24  1530.57  22.52   83.59   \n",
       "...      ...    ...    ...    ...    ...    ...      ...    ...     ...   \n",
       "5734   17.84  48.80  23.54  27.15  17.79  15.25   646.27  19.23   76.22   \n",
       "5191    6.12  30.68   8.28  12.45  36.63   5.29   172.67   2.91   55.49   \n",
       "5390   16.13  28.20   9.59   5.74 -11.99   6.98    84.48   8.46  147.35   \n",
       "860    25.59  63.02  19.13  64.61  29.69  17.73   447.79 -44.85 -211.28   \n",
       "7270   21.09  13.16   8.68   6.12   3.90   6.91    55.29   7.72  116.17   \n",
       "\n",
       "        A144   A145   A175    A401    A509   A511  A517    A519       A51A  \n",
       "5994    4.88   6.72  26.04   -5.43    0.25   0.00  0.00    0.25       0.00  \n",
       "7244   14.37  18.22  54.41    4.14   26.54  86.14  1.02  112.68     352.26  \n",
       "8978    4.00   8.30  64.90   -4.64   61.58   0.00  1.02   61.58     416.47  \n",
       "10374  11.76  12.79  28.80    2.70   12.01   0.00  0.00   12.01    1019.07  \n",
       "1836   65.58  68.12   9.59    8.31    0.89   0.00  0.00    0.89       0.00  \n",
       "...      ...    ...    ...     ...     ...    ...   ...     ...        ...  \n",
       "5734   29.83  30.46  18.51   17.40    0.49   0.00  0.00    0.49  169398.82  \n",
       "5191   16.10  23.21  50.64   18.41    9.23   0.00  1.18    9.23     735.41  \n",
       "5390    8.46  10.57  73.25   38.29  111.35   0.00  1.95  111.35     198.46  \n",
       "860    75.10  91.75  58.13  303.81    1.07   0.00  0.19    1.07     240.51  \n",
       "7270    9.92  15.63  62.98    7.85  113.15   0.00  2.50  113.15     274.32  \n",
       "\n",
       "[7688 rows x 18 columns]"
      ]
     },
     "execution_count": 12,
     "metadata": {},
     "output_type": "execute_result"
    }
   ],
   "source": [
    "X_train"
   ]
  },
  {
   "cell_type": "markdown",
   "id": "ac4cd356",
   "metadata": {},
   "source": [
    "引入套件"
   ]
  },
  {
   "cell_type": "code",
   "execution_count": 7,
   "id": "58448e96",
   "metadata": {},
   "outputs": [],
   "source": [
    "from sklearn.tree import DecisionTreeClassifier"
   ]
  },
  {
   "cell_type": "code",
   "execution_count": 13,
   "id": "31938521",
   "metadata": {},
   "outputs": [],
   "source": [
    "clf = DecisionTreeClassifier(random_state=42,max_depth=3)"
   ]
  },
  {
   "cell_type": "code",
   "execution_count": 14,
   "id": "61e44491",
   "metadata": {},
   "outputs": [
    {
     "data": {
      "text/plain": [
       "DecisionTreeClassifier(max_depth=3, random_state=42)"
      ]
     },
     "execution_count": 14,
     "metadata": {},
     "output_type": "execute_result"
    }
   ],
   "source": [
    "clf.fit(X_train,y_train)"
   ]
  },
  {
   "cell_type": "code",
   "execution_count": null,
   "id": "e969e65e",
   "metadata": {},
   "outputs": [],
   "source": []
  },
  {
   "cell_type": "code",
   "execution_count": 15,
   "id": "e5326038",
   "metadata": {},
   "outputs": [],
   "source": [
    "from sklearn import tree"
   ]
  },
  {
   "cell_type": "code",
   "execution_count": 17,
   "id": "f2596dc4",
   "metadata": {},
   "outputs": [
    {
     "data": {
      "text/plain": [
       "[Text(0.5416666666666666, 0.875, 'X[13] <= 1434.58\\ngini = 0.024\\nsamples = 7688\\nvalue = [7596, 92]'),\n",
       " Text(0.3333333333333333, 0.625, 'X[0] <= -2.15\\ngini = 0.022\\nsamples = 7680\\nvalue = [7593, 87]'),\n",
       " Text(0.16666666666666666, 0.375, 'X[6] <= 16.62\\ngini = 0.08\\nsamples = 891\\nvalue = [854, 37]'),\n",
       " Text(0.08333333333333333, 0.125, 'gini = 0.459\\nsamples = 14\\nvalue = [9, 5]'),\n",
       " Text(0.25, 0.125, 'gini = 0.07\\nsamples = 877\\nvalue = [845, 32]'),\n",
       " Text(0.5, 0.375, 'X[8] <= 115.565\\ngini = 0.015\\nsamples = 6789\\nvalue = [6739, 50]'),\n",
       " Text(0.4166666666666667, 0.125, 'gini = 0.007\\nsamples = 5451\\nvalue = [5431, 20]'),\n",
       " Text(0.5833333333333334, 0.125, 'gini = 0.044\\nsamples = 1338\\nvalue = [1308, 30]'),\n",
       " Text(0.75, 0.625, 'X[16] <= 2475.49\\ngini = 0.469\\nsamples = 8\\nvalue = [3, 5]'),\n",
       " Text(0.6666666666666666, 0.375, 'gini = 0.0\\nsamples = 4\\nvalue = [0, 4]'),\n",
       " Text(0.8333333333333334, 0.375, 'X[2] <= 5.055\\ngini = 0.375\\nsamples = 4\\nvalue = [3, 1]'),\n",
       " Text(0.75, 0.125, 'gini = 0.0\\nsamples = 3\\nvalue = [3, 0]'),\n",
       " Text(0.9166666666666666, 0.125, 'gini = 0.0\\nsamples = 1\\nvalue = [0, 1]')]"
      ]
     },
     "execution_count": 17,
     "metadata": {},
     "output_type": "execute_result"
    },
    {
     "data": {
      "image/png": "[encoded data removed]",
      "text/plain": [
       "<Figure size 432x288 with 1 Axes>"
      ]
     },
     "metadata": {
      "needs_background": "light"
     },
     "output_type": "display_data"
    }
   ],
   "source": [
    "tree.plot_tree(clf)"
   ]
  },
  {
   "cell_type": "code",
   "execution_count": 18,
   "id": "53196938",
   "metadata": {},
   "outputs": [],
   "source": [
    "from sklearn.tree import _tree"
   ]
  },
  {
   "cell_type": "code",
   "execution_count": 19,
   "id": "34a3175a",
   "metadata": {},
   "outputs": [
    {
     "data": {
      "text/plain": [
       "array([13,  0,  6, -2, -2,  8, -2, -2, 16, -2,  2, -2, -2], dtype=int64)"
      ]
     },
     "execution_count": 19,
     "metadata": {},
     "output_type": "execute_result"
    }
   ],
   "source": [
    "clf.tree_.feature"
   ]
  },
  {
   "cell_type": "code",
   "execution_count": 20,
   "id": "e6c61c9d",
   "metadata": {},
   "outputs": [
    {
     "data": {
      "text/plain": [
       "-2"
      ]
     },
     "execution_count": 20,
     "metadata": {},
     "output_type": "execute_result"
    }
   ],
   "source": [
    "_tree.TREE_UNDEFINED"
   ]
  },
  {
   "cell_type": "markdown",
   "id": "f41058b5",
   "metadata": {},
   "source": [
    "非-2 的值代表該node使用那個feature進行分支<br>\n",
    "-2代表這裡是leaf node"
   ]
  },
  {
   "cell_type": "code",
   "execution_count": 21,
   "id": "feafbc96",
   "metadata": {},
   "outputs": [],
   "source": [
    "def get_rules(clf, feature_names, class_names):\n",
    "    tree_ = clf.tree_\n",
    "    feature_name = [\n",
    "        feature_names[i] if i != _tree.TREE_UNDEFINED else \"undefined!\"\n",
    "        for i in tree_.feature\n",
    "    ]\n",
    "\n",
    "    paths = []\n",
    "    path = []\n",
    "    \n",
    "    def recurse(node, path, paths):\n",
    "        \n",
    "        if tree_.feature[node] != _tree.TREE_UNDEFINED:\n",
    "            name = feature_name[node]\n",
    "            threshold = tree_.threshold[node]\n",
    "            p1, p2 = list(path), list(path)\n",
    "            p1 += [f\"({name} <= {np.round(threshold, 3)})\"]\n",
    "            recurse(tree_.children_left[node], p1, paths)\n",
    "            p2 += [f\"({name} > {np.round(threshold, 3)})\"]\n",
    "            recurse(tree_.children_right[node], p2, paths)\n",
    "        else:\n",
    "            path += [(tree_.value[node], tree_.n_node_samples[node])]\n",
    "            paths += [path]\n",
    "            \n",
    "    recurse(0, path, paths)\n",
    "\n",
    "    # sort by samples count\n",
    "    samples_count = [p[-1][1] for p in paths]\n",
    "    ii = list(np.argsort(samples_count))\n",
    "    paths = [paths[i] for i in reversed(ii)]\n",
    "    \n",
    "    rules = []\n",
    "    for path in paths:\n",
    "        rule = \"if \"\n",
    "        \n",
    "        for p in path[:-1]:\n",
    "            if rule != \"if \":\n",
    "                rule += \" and \"\n",
    "            rule += str(p)\n",
    "        rule += \" then \"\n",
    "        if class_names is None:\n",
    "            rule += \"response: \"+str(np.round(path[-1][0][0][0],3))\n",
    "        else:\n",
    "            classes = path[-1][0][0]\n",
    "            l = np.argmax(classes)\n",
    "            rule += f\"class: {class_names[l]} (proba: {np.round(100.0*classes[l]/np.sum(classes),2)}%)\"\n",
    "        rule += f\" | based on {path[-1][1]:,} samples\"\n",
    "        rules += [rule]\n",
    "        \n",
    "    return rules"
   ]
  },
  {
   "cell_type": "code",
   "execution_count": null,
   "id": "c9dddb51",
   "metadata": {},
   "outputs": [],
   "source": []
  },
  {
   "cell_type": "code",
   "execution_count": 24,
   "id": "fa30481f",
   "metadata": {},
   "outputs": [],
   "source": [
    "rules = get_rules(clf,data_new.iloc[:,2:20].columns, None)"
   ]
  },
  {
   "cell_type": "code",
   "execution_count": 25,
   "id": "2ab87fb6",
   "metadata": {},
   "outputs": [
    {
     "data": {
      "text/plain": [
       "['if (A509 <= 1434.58) and (A104 > -2.15) and (A143 <= 115.565) then response: 5431.0 | based on 5,451 samples',\n",
       " 'if (A509 <= 1434.58) and (A104 > -2.15) and (A143 > 115.565) then response: 1308.0 | based on 1,338 samples',\n",
       " 'if (A509 <= 1434.58) and (A104 <= -2.15) and (A116 > 16.62) then response: 845.0 | based on 877 samples',\n",
       " 'if (A509 <= 1434.58) and (A104 <= -2.15) and (A116 <= 16.62) then response: 9.0 | based on 14 samples',\n",
       " 'if (A509 > 1434.58) and (A519 <= 2475.49) then response: 0.0 | based on 4 samples',\n",
       " 'if (A509 > 1434.58) and (A519 > 2475.49) and (A106 <= 5.055) then response: 3.0 | based on 3 samples',\n",
       " 'if (A509 > 1434.58) and (A519 > 2475.49) and (A106 > 5.055) then response: 0.0 | based on 1 samples']"
      ]
     },
     "execution_count": 25,
     "metadata": {},
     "output_type": "execute_result"
    }
   ],
   "source": [
    "rules"
   ]
  },
  {
   "cell_type": "code",
   "execution_count": 26,
   "id": "8fa58874",
   "metadata": {},
   "outputs": [
    {
     "name": "stdout",
     "output_type": "stream",
     "text": [
      "if (A509 <= 1434.58) and (A104 > -2.15) and (A143 <= 115.565) then response: 5431.0 | based on 5,451 samples\n",
      "if (A509 <= 1434.58) and (A104 > -2.15) and (A143 > 115.565) then response: 1308.0 | based on 1,338 samples\n",
      "if (A509 <= 1434.58) and (A104 <= -2.15) and (A116 > 16.62) then response: 845.0 | based on 877 samples\n",
      "if (A509 <= 1434.58) and (A104 <= -2.15) and (A116 <= 16.62) then response: 9.0 | based on 14 samples\n",
      "if (A509 > 1434.58) and (A519 <= 2475.49) then response: 0.0 | based on 4 samples\n",
      "if (A509 > 1434.58) and (A519 > 2475.49) and (A106 <= 5.055) then response: 3.0 | based on 3 samples\n",
      "if (A509 > 1434.58) and (A519 > 2475.49) and (A106 > 5.055) then response: 0.0 | based on 1 samples\n"
     ]
    }
   ],
   "source": [
    "for r in rules:\n",
    "    print(r)"
   ]
  },
  {
   "cell_type": "code",
   "execution_count": 44,
   "id": "0adf3e46",
   "metadata": {},
   "outputs": [
    {
     "data": {
      "text/plain": [
       "array([0.12096878, 0.        , 0.09870471, 0.        , 0.        ,\n",
       "       0.        , 0.18646706, 0.        , 0.04971875, 0.        ,\n",
       "       0.        , 0.        , 0.        , 0.39608363, 0.        ,\n",
       "       0.        , 0.14805707, 0.        ])"
      ]
     },
     "execution_count": 44,
     "metadata": {},
     "output_type": "execute_result"
    }
   ],
   "source": [
    "clf.feature_importances_\n",
    "#可以對應 clf.tree_.feature"
   ]
  },
  {
   "cell_type": "markdown",
   "id": "afe5d9c2",
   "metadata": {},
   "source": [
    "[計算方法](https://stackoverflow.com/questions/49170296/scikit-learn-feature-importance-calculation-in-decision-trees)"
   ]
  },
  {
   "cell_type": "code",
   "execution_count": 28,
   "id": "a09ff447",
   "metadata": {},
   "outputs": [],
   "source": [
    "y_pred = clf.predict(X_test)"
   ]
  },
  {
   "cell_type": "code",
   "execution_count": 31,
   "id": "44c5a7c6",
   "metadata": {},
   "outputs": [],
   "source": [
    "acc = sum(y_pred == y_test)/len(y_test)"
   ]
  },
  {
   "cell_type": "code",
   "execution_count": 32,
   "id": "a7f2c440",
   "metadata": {},
   "outputs": [
    {
     "data": {
      "text/plain": [
       "0.987556904400607"
      ]
     },
     "execution_count": 32,
     "metadata": {},
     "output_type": "execute_result"
    }
   ],
   "source": [
    "acc"
   ]
  },
  {
   "cell_type": "code",
   "execution_count": 33,
   "id": "a5bd66f3",
   "metadata": {},
   "outputs": [],
   "source": [
    "from sklearn.metrics import confusion_matrix"
   ]
  },
  {
   "cell_type": "code",
   "execution_count": 34,
   "id": "4b0435cc",
   "metadata": {},
   "outputs": [
    {
     "data": {
      "text/plain": [
       "array([[3254,    2],\n",
       "       [  39,    0]], dtype=int64)"
      ]
     },
     "execution_count": 34,
     "metadata": {},
     "output_type": "execute_result"
    }
   ],
   "source": [
    "confusion_matrix(y_test, y_pred)\n",
    "#[y_test=0,y_pred=0,    y_test=0,y_pred=1\n",
    "# y_test=1,y_pred=0,    y_test=1,y_pred=1]\n",
    "\n",
    "#結果跟KNN 用ball-tree 且 k=2相同"
   ]
  },
  {
   "cell_type": "code",
   "execution_count": 40,
   "id": "14145cb8",
   "metadata": {},
   "outputs": [],
   "source": [
    "from sklearn.metrics import precision_score"
   ]
  },
  {
   "cell_type": "code",
   "execution_count": 41,
   "id": "00413961",
   "metadata": {},
   "outputs": [
    {
     "name": "stdout",
     "output_type": "stream",
     "text": [
      "Micro-averaged precision score: 0.99\n"
     ]
    }
   ],
   "source": [
    "micro_precision = precision_score(y_pred, y_test, average='micro')\n",
    "print('Micro-averaged precision score: {0:0.2f}'.format(\n",
    "      micro_precision))\n",
    "#micro 相當於算acc"
   ]
  },
  {
   "cell_type": "code",
   "execution_count": 42,
   "id": "9b29e78e",
   "metadata": {},
   "outputs": [
    {
     "name": "stdout",
     "output_type": "stream",
     "text": [
      "Macro-averaged precision score: 0.50\n"
     ]
    }
   ],
   "source": [
    "macro_precision = precision_score(y_pred, y_test, average='macro')\n",
    "print('Macro-averaged precision score: {0:0.2f}'.format(\n",
    "      macro_precision))\n",
    "# 算各自label的precision之後取算數平均"
   ]
  },
  {
   "cell_type": "code",
   "execution_count": 43,
   "id": "ec588ca2",
   "metadata": {},
   "outputs": [
    {
     "name": "stdout",
     "output_type": "stream",
     "text": [
      "Per-class precision score: [0.99938575 0.        ]\n"
     ]
    }
   ],
   "source": [
    "per_class_precision = precision_score(y_pred, y_test, average=None)\n",
    "print('Per-class precision score:', per_class_precision)\n",
    "#算各自label的precision\n",
    "#3254/(3254+2) , 0/39+0"
   ]
  },
  {
   "cell_type": "markdown",
   "id": "8ee31e76",
   "metadata": {},
   "source": [
    "# 分枝依據"
   ]
  },
  {
   "cell_type": "markdown",
   "id": "e3e32dfd",
   "metadata": {},
   "source": [
    "有三種方法：\n",
    "\n",
    "* Gini 不純度 (Gini impurity)\n",
    "* entropy\n",
    "* log_loss"
   ]
  },
  {
   "cell_type": "markdown",
   "id": "6de46114",
   "metadata": {},
   "source": [
    "假設資料為$(x_i,y_i),i=1,...,N$。 <br>\n",
    "$x_i$表示特徵(feature)的值，$y_i$是第i個資料的label且$y_i\\in\\{1,...,K\\}$<br>\n",
    "以二分類問題來說，$K=2$"
   ]
  },
  {
   "cell_type": "markdown",
   "id": "fac4f2b6",
   "metadata": {},
   "source": [
    "決策樹的第$m$個節點(node)裡面有$n_m$筆資料<br>\n",
    "令\n",
    "\n",
    "$Q_m = \\{(x_i,y_i): x_i \\space \\text{in node} \\space m\\}$\n",
    "\n",
    "則 $|Q_m| = n_m$.\n",
    "\n",
    "令$p_m^k = \\frac{1}{n_m}\\sum\\limits_{(x_i,y_i)\\in Q_m}I_{\\{y_i=k\\}}$\n",
    "\n",
    "則$p_m^k$ 表示 **節點$m$當中，label為$k$的比例**"
   ]
  },
  {
   "cell_type": "markdown",
   "id": "33669a23",
   "metadata": {},
   "source": [
    "gini 不純度： $\\sum\\limits_{k=1}^{K}p_m^k(1-p_m^k)$\n",
    "\n",
    "entropy & log_loss: $-\\sum\\limits_{k=1}^{K}p_m^k\\log p_m^k$"
   ]
  },
  {
   "cell_type": "markdown",
   "id": "0e47ea75",
   "metadata": {},
   "source": [
    "# 在每個節點用下列方法考慮分支："
   ]
  },
  {
   "cell_type": "markdown",
   "id": "24b9490d",
   "metadata": {},
   "source": [
    "在節點m分枝成左右各一個子節點，分支的方式為：\n",
    "\n",
    "隨機選第$j$個特徵，設定門檻值$t_m$，小於等於門檻值就分枝到左子節點，大於則到右子節點。<br>\n",
    "定義$\\theta = (j,t_m)$，我們會在每次分枝的時候依照此參數找最佳分枝。<br>\n",
    "我們稱左右子節點分別為 $Q_m^{left}$ 跟 $Q_m^{right}$，則\n",
    "\n",
    "$Q_m^{left}(\\theta) = \\{(x_i,y_i) : (x_i,y_i) \\in Q_m, \\space \\text{feature } j \\text{ of } x_i \\leq t_m \\}$\n",
    "\n",
    "$Q_m^{right}(\\theta) = \\{(x_i,y_i) : (x_i,y_i) \\in Q_m, \\space \\text{feature } j \\text{ of } x_i > t_m \\}$\n",
    "\n",
    "利用下列公式計算分枝的好壞程度\n",
    "\n",
    "$f(Q_m,\\theta) = \\frac{n_m^{left}}{n_m} H(Q_m^{left}(\\theta)) + \\frac{n_m^{right}}{n_m} H(Q_m^{right}(\\theta))$\n",
    "\n",
    "其中函數 $H$ 可為Gini impurity，或是entropy<br>\n",
    "\n",
    "透過調整$\\theta$內的值讓$f(Q_m,\\theta)$ 最小化之後，就依據此規則進行分枝"
   ]
  },
  {
   "cell_type": "markdown",
   "id": "454d6f4e",
   "metadata": {},
   "source": [
    "# 程式參數講解"
   ]
  },
  {
   "cell_type": "markdown",
   "id": "62832d52",
   "metadata": {},
   "source": [
    "https://scikit-learn.org/stable/modules/generated/sklearn.tree.DecisionTreeClassifier.html"
   ]
  },
  {
   "cell_type": "markdown",
   "id": "d0a488c4",
   "metadata": {},
   "source": [
    "sklearn.tree.DecisionTreeClassifier(*, criterion='gini', splitter='best', max_depth=None, min_samples_split=2, min_samples_leaf=1, min_weight_fraction_leaf=0.0, max_features=None, random_state=None, max_leaf_nodes=None, min_impurity_decrease=0.0, class_weight=None, ccp_alpha=0.0)"
   ]
  },
  {
   "cell_type": "markdown",
   "id": "eff778c0",
   "metadata": {},
   "source": [
    "1. criterion 為 不純度衡量方式，有三種選項：\"gini\", \"entropy\", \"log_loss\"\n",
    "\n",
    "但因為\"entropy\" = \"log_loss\"，所以實際上只有兩種選項。"
   ]
  },
  {
   "cell_type": "markdown",
   "id": "eac57b3a",
   "metadata": {},
   "source": [
    "2. \n",
    "\n",
    "\n",
    "splitter = \"best\" : 分枝會用重要性最高的feature去分枝\n",
    "\n",
    "splitter = \"random\" : 分枝會隨機選feature去分枝\n",
    "\n",
    "[splitter 之討論](https://stackoverflow.com/questions/46756606/what-does-splitter-attribute-in-sklearns-decisiontreeclassifier-do)"
   ]
  },
  {
   "cell_type": "markdown",
   "id": "881d5f25",
   "metadata": {},
   "source": [
    "3. max_depth : 決策樹最大深度 避免overfitting或是展示圖片時再設定"
   ]
  },
  {
   "cell_type": "markdown",
   "id": "82a1bb8d",
   "metadata": {},
   "source": [
    "4. min_samples_split : 節點當中必須有多少資料才會再做分枝 (i.e. 節點當中資料數量少於這個數值就不會再分枝)"
   ]
  },
  {
   "cell_type": "markdown",
   "id": "1080a3ee",
   "metadata": {},
   "source": [
    "5. min_samples_leaf : 節點當中必須包含多少資料數量"
   ]
  },
  {
   "cell_type": "markdown",
   "id": "4bdecf8f",
   "metadata": {},
   "source": [
    "6. min_weight_fraction_leaf : 節點當中，樣本權重和之最小值。<br>\n",
    "這個值限制了節點當中所有樣本權重和的最小值，如果小於這個值，則會和兄弟節點一起被剪枝。默認是0，就是不考慮權重問題，所有樣本的權重相同。\n",
    "\n",
    "\n",
    "**此參數可於樣本不均衡時調整**(輸入type: float)"
   ]
  },
  {
   "cell_type": "markdown",
   "id": "01c74c60",
   "metadata": {},
   "source": [
    "7. max_features : 分枝時最多考慮多少個feature當作依據\n",
    "* 整數值: 分枝時最多考量此整數個feature\n",
    "* 浮點數: 為比例值，分枝時最多考量這個比例的feature數量\n",
    "* If “sqrt”, then max_features=sqrt(n_features).\n",
    "\n",
    "* If “log2”, then max_features=log2(n_features).\n",
    "\n",
    "* If None, then max_features=n_features."
   ]
  },
  {
   "cell_type": "markdown",
   "id": "d2b36bdb",
   "metadata": {},
   "source": [
    "8. random_state 如果沒設定，會讓每次重新訓練的結果不一樣 (預設是沒設定)"
   ]
  },
  {
   "cell_type": "markdown",
   "id": "99d6ac9d",
   "metadata": {},
   "source": [
    "9. max_leaf_nodes : 最多幾個葉節點"
   ]
  },
  {
   "cell_type": "markdown",
   "id": "7f07b28e",
   "metadata": {},
   "source": [
    "10. min_impurity_decrease : 至少要讓不純度降低多少才會進行分枝。 0代表只要不純度有降就可以分枝。"
   ]
  },
  {
   "cell_type": "markdown",
   "id": "0cd0aabc",
   "metadata": {},
   "source": [
    "11. class_weight : 調整這個會影響到$\\frac{n_m^{left}}{n_m}$ 跟 $\\frac{n_m^{right}}{n_m}$\n",
    "\n",
    "在沒設定的情況下會直接去算上述之數值，但如果有設定class_weight則會取代掉。\n",
    "\n",
    "[設定方式參考](https://machinelearningmastery.com/cost-sensitive-decision-trees-for-imbalanced-classification/#:~:text=The%20class_weight%20is%20a%20dictionary%20that%20defines%20each,0%20and%201%20can%20be%20defined%20as%20follows%3A)"
   ]
  },
  {
   "cell_type": "markdown",
   "id": "69c72016",
   "metadata": {},
   "source": [
    "可嘗試用grid search 方式調整class_weight去看結果如何"
   ]
  },
  {
   "cell_type": "markdown",
   "id": "bc3eb835",
   "metadata": {},
   "source": [
    "# 試試看調整class_weight"
   ]
  },
  {
   "cell_type": "code",
   "execution_count": 45,
   "id": "dca938fc",
   "metadata": {},
   "outputs": [],
   "source": [
    "clf = DecisionTreeClassifier(random_state=42,class_weight = \"balanced\")"
   ]
  },
  {
   "cell_type": "code",
   "execution_count": 46,
   "id": "b522b6c8",
   "metadata": {},
   "outputs": [
    {
     "data": {
      "text/plain": [
       "DecisionTreeClassifier(class_weight='balanced', random_state=42)"
      ]
     },
     "execution_count": 46,
     "metadata": {},
     "output_type": "execute_result"
    }
   ],
   "source": [
    "clf.fit(X_train,y_train)"
   ]
  },
  {
   "cell_type": "code",
   "execution_count": 47,
   "id": "e8c9f8fa",
   "metadata": {},
   "outputs": [
    {
     "data": {
      "text/plain": [
       "[Text(0.44419642857142855, 0.9864864864864865, 'X[13] <= 67.23\\ngini = 0.5\\nsamples = 7688\\nvalue = [3844.0, 3844.0]'),\n",
       " Text(0.19553571428571428, 0.9594594594594594, 'X[12] <= -23.485\\ngini = 0.419\\nsamples = 5467\\nvalue = [2752.438, 1169.913]'),\n",
       " Text(0.08, 0.9324324324324325, 'X[17] <= 39.505\\ngini = 0.336\\nsamples = 304\\nvalue = [147.262, 543.174]'),\n",
       " Text(0.06857142857142857, 0.9054054054054054, 'gini = 0.0\\nsamples = 37\\nvalue = [18.724, 0.0]'),\n",
       " Text(0.09142857142857143, 0.9054054054054054, 'X[17] <= 1898.98\\ngini = 0.309\\nsamples = 267\\nvalue = [128.538, 543.174]'),\n",
       " Text(0.08, 0.8783783783783784, 'X[16] <= 60.185\\ngini = 0.28\\nsamples = 230\\nvalue = [109.814, 543.174]'),\n",
       " Text(0.06857142857142857, 0.8513513513513513, 'X[5] <= 5.98\\ngini = 0.253\\nsamples = 200\\nvalue = [94.632, 543.174]'),\n",
       " Text(0.05714285714285714, 0.8243243243243243, 'X[8] <= 136.34\\ngini = 0.231\\nsamples = 178\\nvalue = [83.499, 543.174]'),\n",
       " Text(0.045714285714285714, 0.7972972972972973, 'X[1] <= 4.465\\ngini = 0.216\\nsamples = 164\\nvalue = [76.414, 543.174]'),\n",
       " Text(0.03428571428571429, 0.7702702702702703, 'gini = 0.0\\nsamples = 12\\nvalue = [6.073, 0.0]'),\n",
       " Text(0.05714285714285714, 0.7702702702702703, 'X[8] <= -652.03\\ngini = 0.203\\nsamples = 152\\nvalue = [70.342, 543.174]'),\n",
       " Text(0.045714285714285714, 0.7432432432432432, 'gini = 0.0\\nsamples = 10\\nvalue = [5.061, 0.0]'),\n",
       " Text(0.06857142857142857, 0.7432432432432432, 'X[4] <= -15.03\\ngini = 0.192\\nsamples = 142\\nvalue = [65.281, 543.174]'),\n",
       " Text(0.03428571428571429, 0.7162162162162162, 'X[13] <= 14.935\\ngini = 0.061\\nsamples = 22\\nvalue = [8.097, 250.696]'),\n",
       " Text(0.022857142857142857, 0.6891891891891891, 'gini = 0.0\\nsamples = 7\\nvalue = [3.542, 0.0]'),\n",
       " Text(0.045714285714285714, 0.6891891891891891, 'X[14] <= 1.71\\ngini = 0.035\\nsamples = 15\\nvalue = [4.555, 250.696]'),\n",
       " Text(0.03428571428571429, 0.6621621621621622, 'X[15] <= 0.79\\ngini = 0.02\\nsamples = 11\\nvalue = [2.53, 250.696]'),\n",
       " Text(0.022857142857142857, 0.6351351351351351, 'gini = 0.0\\nsamples = 2\\nvalue = [1.012, 0.0]'),\n",
       " Text(0.045714285714285714, 0.6351351351351351, 'X[12] <= -48.235\\ngini = 0.012\\nsamples = 9\\nvalue = [1.518, 250.696]'),\n",
       " Text(0.03428571428571429, 0.6081081081081081, 'gini = 0.0\\nsamples = 2\\nvalue = [1.012, 0.0]'),\n",
       " Text(0.05714285714285714, 0.6081081081081081, 'X[11] <= 58.615\\ngini = 0.004\\nsamples = 7\\nvalue = [0.506, 250.696]'),\n",
       " Text(0.045714285714285714, 0.581081081081081, 'gini = 0.0\\nsamples = 1\\nvalue = [0.506, 0.0]'),\n",
       " Text(0.06857142857142857, 0.581081081081081, 'gini = 0.0\\nsamples = 6\\nvalue = [0.0, 250.696]'),\n",
       " Text(0.05714285714285714, 0.6621621621621622, 'gini = -0.0\\nsamples = 4\\nvalue = [2.024, 0.0]'),\n",
       " Text(0.10285714285714286, 0.7162162162162162, 'X[1] <= 27.79\\ngini = 0.274\\nsamples = 120\\nvalue = [57.184, 292.478]'),\n",
       " Text(0.09142857142857143, 0.6891891891891891, 'X[0] <= 3.275\\ngini = 0.193\\nsamples = 77\\nvalue = [35.424, 292.478]'),\n",
       " Text(0.08, 0.6621621621621622, 'X[6] <= 68.815\\ngini = 0.159\\nsamples = 62\\nvalue = [27.833, 292.478]'),\n",
       " Text(0.06857142857142857, 0.6351351351351351, 'gini = 0.0\\nsamples = 11\\nvalue = [5.567, 0.0]'),\n",
       " Text(0.09142857142857143, 0.6351351351351351, 'X[4] <= -7.8\\ngini = 0.131\\nsamples = 51\\nvalue = [22.266, 292.478]'),\n",
       " Text(0.08, 0.6081081081081081, 'gini = 0.0\\nsamples = 7\\nvalue = [3.542, 0.0]'),\n",
       " Text(0.10285714285714286, 0.6081081081081081, 'X[13] <= 46.235\\ngini = 0.113\\nsamples = 44\\nvalue = [18.724, 292.478]'),\n",
       " Text(0.09142857142857143, 0.581081081081081, 'X[14] <= 17.03\\ngini = 0.094\\nsamples = 37\\nvalue = [15.182, 292.478]'),\n",
       " Text(0.08, 0.5540540540540541, 'X[12] <= -24.41\\ngini = 0.085\\nsamples = 34\\nvalue = [13.664, 292.478]'),\n",
       " Text(0.06857142857142857, 0.527027027027027, 'X[8] <= -229.665\\ngini = 0.079\\nsamples = 32\\nvalue = [12.651, 292.478]'),\n",
       " Text(0.05714285714285714, 0.5, 'gini = 0.0\\nsamples = 2\\nvalue = [1.012, 0.0]'),\n",
       " Text(0.08, 0.5, 'X[11] <= 20.545\\ngini = 0.074\\nsamples = 30\\nvalue = [11.639, 292.478]'),\n",
       " Text(0.06857142857142857, 0.47297297297297297, 'gini = 0.0\\nsamples = 2\\nvalue = [1.012, 0.0]'),\n",
       " Text(0.09142857142857143, 0.47297297297297297, 'X[12] <= -29.015\\ngini = 0.068\\nsamples = 28\\nvalue = [10.627, 292.478]'),\n",
       " Text(0.06857142857142857, 0.44594594594594594, 'X[5] <= 1.03\\ngini = 0.035\\nsamples = 15\\nvalue = [4.555, 250.696]'),\n",
       " Text(0.05714285714285714, 0.4189189189189189, 'X[13] <= 36.8\\ngini = 0.024\\nsamples = 12\\nvalue = [3.036, 250.696]'),\n",
       " Text(0.045714285714285714, 0.3918918918918919, 'X[4] <= 113.88\\ngini = 0.016\\nsamples = 10\\nvalue = [2.024, 250.696]'),\n",
       " Text(0.03428571428571429, 0.36486486486486486, 'X[9] <= -20.255\\ngini = 0.012\\nsamples = 9\\nvalue = [1.518, 250.696]'),\n",
       " Text(0.022857142857142857, 0.33783783783783783, 'X[5] <= -19.21\\ngini = 0.068\\nsamples = 4\\nvalue = [1.518, 41.783]'),\n",
       " Text(0.011428571428571429, 0.3108108108108108, 'gini = 0.0\\nsamples = 1\\nvalue = [0.0, 41.783]'),\n",
       " Text(0.03428571428571429, 0.3108108108108108, 'gini = -0.0\\nsamples = 3\\nvalue = [1.518, 0.0]'),\n",
       " Text(0.045714285714285714, 0.33783783783783783, 'gini = 0.0\\nsamples = 5\\nvalue = [0.0, 208.913]'),\n",
       " Text(0.05714285714285714, 0.36486486486486486, 'gini = -0.0\\nsamples = 1\\nvalue = [0.506, 0.0]'),\n",
       " Text(0.06857142857142857, 0.3918918918918919, 'gini = -0.0\\nsamples = 2\\nvalue = [1.012, 0.0]'),\n",
       " Text(0.08, 0.4189189189189189, 'gini = -0.0\\nsamples = 3\\nvalue = [1.518, 0.0]'),\n",
       " Text(0.11428571428571428, 0.44594594594594594, 'X[0] <= 2.78\\ngini = 0.222\\nsamples = 13\\nvalue = [6.073, 41.783]'),\n",
       " Text(0.10285714285714286, 0.4189189189189189, 'gini = 0.0\\nsamples = 12\\nvalue = [6.073, 0.0]'),\n",
       " Text(0.12571428571428572, 0.4189189189189189, 'gini = 0.0\\nsamples = 1\\nvalue = [0.0, 41.783]'),\n",
       " Text(0.09142857142857143, 0.527027027027027, 'gini = -0.0\\nsamples = 2\\nvalue = [1.012, 0.0]'),\n",
       " Text(0.10285714285714286, 0.5540540540540541, 'gini = -0.0\\nsamples = 3\\nvalue = [1.518, 0.0]'),\n",
       " Text(0.11428571428571428, 0.581081081081081, 'gini = -0.0\\nsamples = 7\\nvalue = [3.542, 0.0]'),\n",
       " Text(0.10285714285714286, 0.6621621621621622, 'gini = -0.0\\nsamples = 15\\nvalue = [7.591, 0.0]'),\n",
       " Text(0.11428571428571428, 0.6891891891891891, 'gini = -0.0\\nsamples = 43\\nvalue = [21.76, 0.0]'),\n",
       " Text(0.06857142857142857, 0.7972972972972973, 'gini = -0.0\\nsamples = 14\\nvalue = [7.085, 0.0]'),\n",
       " Text(0.08, 0.8243243243243243, 'gini = -0.0\\nsamples = 22\\nvalue = [11.133, 0.0]'),\n",
       " Text(0.09142857142857143, 0.8513513513513513, 'gini = -0.0\\nsamples = 30\\nvalue = [15.182, 0.0]'),\n",
       " Text(0.10285714285714286, 0.8783783783783784, 'gini = -0.0\\nsamples = 37\\nvalue = [18.724, 0.0]'),\n",
       " Text(0.31107142857142855, 0.9324324324324325, 'X[12] <= 85.065\\ngini = 0.313\\nsamples = 5163\\nvalue = [2605.175, 626.739]'),\n",
       " Text(0.24214285714285713, 0.9054054054054054, 'X[8] <= 112.87\\ngini = 0.226\\nsamples = 4976\\nvalue = [2513.579, 376.043]'),\n",
       " Text(0.19285714285714287, 0.8783783783783784, 'X[17] <= 7085583.0\\ngini = 0.155\\nsamples = 4465\\nvalue = [2257.009, 208.913]'),\n",
       " Text(0.15142857142857144, 0.8513513513513513, 'X[9] <= -8.39\\ngini = 0.128\\nsamples = 4460\\nvalue = [2254.985, 167.13]'),\n",
       " Text(0.10285714285714286, 0.8243243243243243, 'X[9] <= -9.065\\ngini = 0.499\\nsamples = 150\\nvalue = [74.896, 83.565]'),\n",
       " Text(0.09142857142857143, 0.7972972972972973, 'gini = -0.0\\nsamples = 144\\nvalue = [72.872, 0.0]'),\n",
       " Text(0.11428571428571428, 0.7972972972972973, 'X[17] <= 483.08\\ngini = 0.046\\nsamples = 6\\nvalue = [2.024, 83.565]'),\n",
       " Text(0.10285714285714286, 0.7702702702702703, 'X[11] <= 61.29\\ngini = 0.0\\nsamples = 4\\nvalue = [2.024, 0.0]'),\n",
       " Text(0.09142857142857143, 0.7432432432432432, 'gini = 0.0\\nsamples = 1\\nvalue = [0.506, 0.0]'),\n",
       " Text(0.11428571428571428, 0.7432432432432432, 'gini = 0.0\\nsamples = 3\\nvalue = [1.518, 0.0]'),\n",
       " Text(0.12571428571428572, 0.7702702702702703, 'gini = 0.0\\nsamples = 2\\nvalue = [0.0, 83.565]'),\n",
       " Text(0.2, 0.8243243243243243, 'X[0] <= 33.8\\ngini = 0.071\\nsamples = 4310\\nvalue = [2180.088, 83.565]'),\n",
       " Text(0.17142857142857143, 0.7972972972972973, 'X[6] <= 27.005\\ngini = 0.037\\nsamples = 4271\\nvalue = [2160.858, 41.783]'),\n",
       " Text(0.14857142857142858, 0.7702702702702703, 'X[6] <= 26.845\\ngini = 0.44\\nsamples = 41\\nvalue = [20.242, 41.783]'),\n",
       " Text(0.13714285714285715, 0.7432432432432432, 'gini = -0.0\\nsamples = 40\\nvalue = [20.242, 0.0]'),\n",
       " Text(0.16, 0.7432432432432432, 'gini = 0.0\\nsamples = 1\\nvalue = [0.0, 41.783]'),\n",
       " Text(0.19428571428571428, 0.7702702702702703, 'X[5] <= -18.55\\ngini = 0.0\\nsamples = 4230\\nvalue = [2140.616, 0.0]'),\n",
       " Text(0.18285714285714286, 0.7432432432432432, 'gini = 0.0\\nsamples = 1\\nvalue = [0.506, 0.0]'),\n",
       " Text(0.2057142857142857, 0.7432432432432432, 'gini = 0.0\\nsamples = 4229\\nvalue = [2140.11, 0.0]'),\n",
       " Text(0.22857142857142856, 0.7972972972972973, 'X[0] <= 33.875\\ngini = 0.432\\nsamples = 39\\nvalue = [19.23, 41.783]'),\n",
       " Text(0.21714285714285714, 0.7702702702702703, 'gini = 0.0\\nsamples = 1\\nvalue = [0.0, 41.783]'),\n",
       " Text(0.24, 0.7702702702702703, 'gini = -0.0\\nsamples = 38\\nvalue = [19.23, 0.0]'),\n",
       " Text(0.2342857142857143, 0.8513513513513513, 'X[15] <= 0.01\\ngini = 0.088\\nsamples = 5\\nvalue = [2.024, 41.783]'),\n",
       " Text(0.22285714285714286, 0.8243243243243243, 'gini = 0.0\\nsamples = 1\\nvalue = [0.0, 41.783]'),\n",
       " Text(0.24571428571428572, 0.8243243243243243, 'gini = -0.0\\nsamples = 4\\nvalue = [2.024, 0.0]'),\n",
       " Text(0.2914285714285714, 0.8783783783783784, 'X[8] <= 128.565\\ngini = 0.478\\nsamples = 511\\nvalue = [256.57, 167.13]'),\n",
       " Text(0.28, 0.8513513513513513, 'X[7] <= 4.935\\ngini = 0.47\\nsamples = 204\\nvalue = [101.211, 167.13]'),\n",
       " Text(0.26857142857142857, 0.8243243243243243, 'X[7] <= 4.2\\ngini = 0.316\\nsamples = 85\\nvalue = [40.991, 167.13]'),\n",
       " Text(0.2571428571428571, 0.7972972972972973, 'gini = -0.0\\nsamples = 61\\nvalue = [30.869, 0.0]'),\n",
       " Text(0.28, 0.7972972972972973, 'X[4] <= 13.295\\ngini = 0.108\\nsamples = 24\\nvalue = [10.121, 167.13]'),\n",
       " Text(0.26857142857142857, 0.7702702702702703, 'X[12] <= 16.565\\ngini = 0.057\\nsamples = 14\\nvalue = [5.061, 167.13]'),\n",
       " Text(0.2571428571428571, 0.7432432432432432, 'X[5] <= 3.055\\ngini = 0.035\\nsamples = 10\\nvalue = [3.036, 167.13]'),\n",
       " Text(0.24571428571428572, 0.7162162162162162, 'gini = 0.0\\nsamples = 2\\nvalue = [1.012, 0.0]'),\n",
       " Text(0.26857142857142857, 0.7162162162162162, 'X[16] <= 60.95\\ngini = 0.024\\nsamples = 8\\nvalue = [2.024, 167.13]'),\n",
       " Text(0.2571428571428571, 0.6891891891891891, 'X[9] <= 5.28\\ngini = 0.018\\nsamples = 7\\nvalue = [1.518, 167.13]'),\n",
       " Text(0.24571428571428572, 0.6621621621621622, 'gini = 0.0\\nsamples = 1\\nvalue = [0.506, 0.0]'),\n",
       " Text(0.26857142857142857, 0.6621621621621622, 'X[17] <= 377.44\\ngini = 0.012\\nsamples = 6\\nvalue = [1.012, 167.13]'),\n",
       " Text(0.2571428571428571, 0.6351351351351351, 'gini = 0.0\\nsamples = 3\\nvalue = [0.0, 125.348]'),\n",
       " Text(0.28, 0.6351351351351351, 'X[10] <= 8.345\\ngini = 0.046\\nsamples = 3\\nvalue = [1.012, 41.783]'),\n",
       " Text(0.26857142857142857, 0.6081081081081081, 'gini = 0.0\\nsamples = 1\\nvalue = [0.0, 41.783]'),\n",
       " Text(0.2914285714285714, 0.6081081081081081, 'gini = -0.0\\nsamples = 2\\nvalue = [1.012, 0.0]'),\n",
       " Text(0.28, 0.6891891891891891, 'gini = -0.0\\nsamples = 1\\nvalue = [0.506, 0.0]'),\n",
       " Text(0.28, 0.7432432432432432, 'gini = -0.0\\nsamples = 4\\nvalue = [2.024, 0.0]'),\n",
       " Text(0.2914285714285714, 0.7702702702702703, 'gini = -0.0\\nsamples = 10\\nvalue = [5.061, 0.0]'),\n",
       " Text(0.2914285714285714, 0.8243243243243243, 'gini = -0.0\\nsamples = 119\\nvalue = [60.221, 0.0]'),\n",
       " Text(0.3028571428571429, 0.8513513513513513, 'gini = -0.0\\nsamples = 307\\nvalue = [155.359, 0.0]'),\n",
       " Text(0.38, 0.9054054054054054, 'X[10] <= 5.06\\ngini = 0.392\\nsamples = 187\\nvalue = [91.596, 250.696]'),\n",
       " Text(0.33714285714285713, 0.8783783783783784, 'X[12] <= 137.095\\ngini = 0.052\\nsamples = 13\\nvalue = [4.555, 167.13]'),\n",
       " Text(0.32571428571428573, 0.8513513513513513, 'gini = 0.0\\nsamples = 5\\nvalue = [2.53, 0.0]'),\n",
       " Text(0.3485714285714286, 0.8513513513513513, 'X[17] <= 6615.285\\ngini = 0.024\\nsamples = 8\\nvalue = [2.024, 167.13]'),\n",
       " Text(0.33714285714285713, 0.8243243243243243, 'X[5] <= -13.91\\ngini = 0.018\\nsamples = 7\\nvalue = [1.518, 167.13]'),\n",
       " Text(0.32571428571428573, 0.7972972972972973, 'gini = 0.0\\nsamples = 1\\nvalue = [0.506, 0.0]'),\n",
       " Text(0.3485714285714286, 0.7972972972972973, 'X[1] <= 7.185\\ngini = 0.012\\nsamples = 6\\nvalue = [1.012, 167.13]'),\n",
       " Text(0.33714285714285713, 0.7702702702702703, 'gini = 0.0\\nsamples = 3\\nvalue = [0.0, 125.348]'),\n",
       " Text(0.36, 0.7702702702702703, 'X[8] <= 6.66\\ngini = 0.046\\nsamples = 3\\nvalue = [1.012, 41.783]'),\n",
       " Text(0.3485714285714286, 0.7432432432432432, 'gini = 0.0\\nsamples = 1\\nvalue = [0.0, 41.783]'),\n",
       " Text(0.37142857142857144, 0.7432432432432432, 'gini = -0.0\\nsamples = 2\\nvalue = [1.012, 0.0]'),\n",
       " Text(0.36, 0.8243243243243243, 'gini = -0.0\\nsamples = 1\\nvalue = [0.506, 0.0]'),\n",
       " Text(0.4228571428571429, 0.8783783783783784, 'X[1] <= 49.02\\ngini = 0.5\\nsamples = 174\\nvalue = [87.042, 83.565]'),\n",
       " Text(0.3942857142857143, 0.8513513513513513, 'X[1] <= -2.12\\ngini = 0.0\\nsamples = 143\\nvalue = [72.366, 0.0]'),\n",
       " Text(0.38285714285714284, 0.8243243243243243, 'gini = 0.0\\nsamples = 1\\nvalue = [0.506, 0.0]'),\n",
       " Text(0.4057142857142857, 0.8243243243243243, 'gini = 0.0\\nsamples = 142\\nvalue = [71.86, 0.0]'),\n",
       " Text(0.4514285714285714, 0.8513513513513513, 'X[17] <= 155.665\\ngini = 0.254\\nsamples = 31\\nvalue = [14.676, 83.565]'),\n",
       " Text(0.42857142857142855, 0.8243243243243243, 'X[4] <= 28.855\\ngini = 0.126\\nsamples = 14\\nvalue = [6.073, 83.565]'),\n",
       " Text(0.41714285714285715, 0.7972972972972973, 'X[11] <= 37.21\\ngini = 0.057\\nsamples = 7\\nvalue = [2.53, 83.565]'),\n",
       " Text(0.4057142857142857, 0.7702702702702703, 'gini = 0.0\\nsamples = 3\\nvalue = [1.518, 0.0]'),\n",
       " Text(0.42857142857142855, 0.7702702702702703, 'X[2] <= 40.57\\ngini = 0.024\\nsamples = 4\\nvalue = [1.012, 83.565]'),\n",
       " Text(0.41714285714285715, 0.7432432432432432, 'gini = 0.0\\nsamples = 2\\nvalue = [0.0, 83.565]'),\n",
       " Text(0.44, 0.7432432432432432, 'gini = -0.0\\nsamples = 2\\nvalue = [1.012, 0.0]'),\n",
       " Text(0.44, 0.7972972972972973, 'gini = 0.0\\nsamples = 7\\nvalue = [3.542, 0.0]'),\n",
       " Text(0.4742857142857143, 0.8243243243243243, 'X[14] <= 7.455\\ngini = 0.0\\nsamples = 17\\nvalue = [8.603, 0.0]'),\n",
       " Text(0.46285714285714286, 0.7972972972972973, 'gini = 0.0\\nsamples = 16\\nvalue = [8.097, 0.0]'),\n",
       " Text(0.4857142857142857, 0.7972972972972973, 'gini = 0.0\\nsamples = 1\\nvalue = [0.506, 0.0]'),\n",
       " Text(0.6928571428571428, 0.9594594594594594, 'X[0] <= 1.725\\ngini = 0.412\\nsamples = 2221\\nvalue = [1091.562, 2674.087]'),\n",
       " Text(0.54, 0.9324324324324325, 'X[11] <= 62.865\\ngini = 0.289\\nsamples = 741\\nvalue = [354.745, 1671.304]'),\n",
       " Text(0.5285714285714286, 0.9054054054054054, 'gini = 0.0\\nsamples = 128\\nvalue = [64.775, 0.0]'),\n",
       " Text(0.5514285714285714, 0.9054054054054054, 'X[16] <= 121.405\\ngini = 0.252\\nsamples = 613\\nvalue = [289.97, 1671.304]'),\n",
       " Text(0.52, 0.8783783783783784, 'X[9] <= 5.225\\ngini = 0.419\\nsamples = 290\\nvalue = [142.708, 334.261]'),\n",
       " Text(0.5085714285714286, 0.8513513513513513, 'X[8] <= -63.715\\ngini = 0.302\\nsamples = 158\\nvalue = [75.908, 334.261]'),\n",
       " Text(0.49714285714285716, 0.8243243243243243, 'gini = 0.0\\nsamples = 68\\nvalue = [34.412, 0.0]'),\n",
       " Text(0.52, 0.8243243243243243, 'X[6] <= 37.075\\ngini = 0.196\\nsamples = 90\\nvalue = [41.497, 334.261]'),\n",
       " Text(0.5085714285714286, 0.7972972972972973, 'gini = 0.0\\nsamples = 16\\nvalue = [8.097, 0.0]'),\n",
       " Text(0.5314285714285715, 0.7972972972972973, 'X[2] <= 6.64\\ngini = 0.165\\nsamples = 74\\nvalue = [33.4, 334.261]'),\n",
       " Text(0.52, 0.7702702702702703, 'X[2] <= 3.165\\ngini = 0.14\\nsamples = 62\\nvalue = [27.327, 334.261]'),\n",
       " Text(0.49142857142857144, 0.7432432432432432, 'X[1] <= 5.59\\ngini = 0.345\\nsamples = 49\\nvalue = [23.785, 83.565]'),\n",
       " Text(0.4685714285714286, 0.7162162162162162, 'X[6] <= 71.21\\ngini = 0.024\\nsamples = 4\\nvalue = [1.012, 83.565]'),\n",
       " Text(0.45714285714285713, 0.6891891891891891, 'gini = 0.0\\nsamples = 2\\nvalue = [0.0, 83.565]'),\n",
       " Text(0.48, 0.6891891891891891, 'X[16] <= 87.97\\ngini = 0.0\\nsamples = 2\\nvalue = [1.012, 0.0]'),\n",
       " Text(0.4685714285714286, 0.6621621621621622, 'gini = 0.0\\nsamples = 1\\nvalue = [0.506, 0.0]'),\n",
       " Text(0.49142857142857144, 0.6621621621621622, 'gini = 0.0\\nsamples = 1\\nvalue = [0.506, 0.0]'),\n",
       " Text(0.5142857142857142, 0.7162162162162162, 'X[2] <= -11.56\\ngini = 0.0\\nsamples = 45\\nvalue = [22.773, 0.0]'),\n",
       " Text(0.5028571428571429, 0.6891891891891891, 'gini = 0.0\\nsamples = 1\\nvalue = [0.506, 0.0]'),\n",
       " Text(0.5257142857142857, 0.6891891891891891, 'gini = 0.0\\nsamples = 44\\nvalue = [22.266, 0.0]'),\n",
       " Text(0.5485714285714286, 0.7432432432432432, 'X[12] <= -14.065\\ngini = 0.027\\nsamples = 13\\nvalue = [3.542, 250.696]'),\n",
       " Text(0.5371428571428571, 0.7162162162162162, 'gini = 0.0\\nsamples = 2\\nvalue = [1.012, 0.0]'),\n",
       " Text(0.56, 0.7162162162162162, 'X[17] <= 376.335\\ngini = 0.02\\nsamples = 11\\nvalue = [2.53, 250.696]'),\n",
       " Text(0.5485714285714286, 0.6891891891891891, 'X[8] <= 1708.78\\ngini = 0.016\\nsamples = 10\\nvalue = [2.024, 250.696]'),\n",
       " Text(0.5371428571428571, 0.6621621621621622, 'X[15] <= 4.47\\ngini = 0.012\\nsamples = 9\\nvalue = [1.518, 250.696]'),\n",
       " Text(0.5257142857142857, 0.6351351351351351, 'X[7] <= 2.54\\ngini = 0.035\\nsamples = 5\\nvalue = [1.518, 83.565]'),\n",
       " Text(0.5142857142857142, 0.6081081081081081, 'X[7] <= 2.035\\ngini = 0.0\\nsamples = 3\\nvalue = [1.518, 0.0]'),\n",
       " Text(0.5028571428571429, 0.581081081081081, 'gini = 0.0\\nsamples = 1\\nvalue = [0.506, 0.0]'),\n",
       " Text(0.5257142857142857, 0.581081081081081, 'gini = 0.0\\nsamples = 2\\nvalue = [1.012, 0.0]'),\n",
       " Text(0.5371428571428571, 0.6081081081081081, 'gini = 0.0\\nsamples = 2\\nvalue = [0.0, 83.565]'),\n",
       " Text(0.5485714285714286, 0.6351351351351351, 'gini = 0.0\\nsamples = 4\\nvalue = [0.0, 167.13]'),\n",
       " Text(0.56, 0.6621621621621622, 'gini = -0.0\\nsamples = 1\\nvalue = [0.506, 0.0]'),\n",
       " Text(0.5714285714285714, 0.6891891891891891, 'gini = -0.0\\nsamples = 1\\nvalue = [0.506, 0.0]'),\n",
       " Text(0.5428571428571428, 0.7702702702702703, 'gini = -0.0\\nsamples = 12\\nvalue = [6.073, 0.0]'),\n",
       " Text(0.5314285714285715, 0.8513513513513513, 'gini = -0.0\\nsamples = 132\\nvalue = [66.799, 0.0]'),\n",
       " Text(0.5828571428571429, 0.8783783783783784, 'X[11] <= 72.9\\ngini = 0.179\\nsamples = 323\\nvalue = [147.262, 1337.043]'),\n",
       " Text(0.5714285714285714, 0.8513513513513513, 'gini = 0.0\\nsamples = 23\\nvalue = [11.639, 0.0]'),\n",
       " Text(0.5942857142857143, 0.8513513513513513, 'X[12] <= -40.98\\ngini = 0.167\\nsamples = 300\\nvalue = [135.623, 1337.043]'),\n",
       " Text(0.5828571428571429, 0.8243243243243243, 'gini = 0.0\\nsamples = 14\\nvalue = [7.085, 0.0]'),\n",
       " Text(0.6057142857142858, 0.8243243243243243, 'X[3] <= 9.715\\ngini = 0.16\\nsamples = 286\\nvalue = [128.538, 1337.043]'),\n",
       " Text(0.5942857142857143, 0.7972972972972973, 'X[8] <= -556.37\\ngini = 0.154\\nsamples = 275\\nvalue = [122.972, 1337.043]'),\n",
       " Text(0.5828571428571429, 0.7702702702702703, 'gini = 0.0\\nsamples = 9\\nvalue = [4.555, 0.0]'),\n",
       " Text(0.6057142857142858, 0.7702702702702703, 'X[4] <= -38.585\\ngini = 0.149\\nsamples = 266\\nvalue = [118.417, 1337.043]'),\n",
       " Text(0.5942857142857143, 0.7432432432432432, 'gini = 0.0\\nsamples = 8\\nvalue = [4.048, 0.0]'),\n",
       " Text(0.6171428571428571, 0.7432432432432432, 'X[8] <= 1238.235\\ngini = 0.145\\nsamples = 258\\nvalue = [114.369, 1337.043]'),\n",
       " Text(0.6057142857142858, 0.7162162162162162, 'X[17] <= 273.62\\ngini = 0.141\\nsamples = 251\\nvalue = [110.826, 1337.043]'),\n",
       " Text(0.5942857142857143, 0.6891891891891891, 'X[5] <= -23.015\\ngini = 0.138\\nsamples = 245\\nvalue = [107.79, 1337.043]'),\n",
       " Text(0.5828571428571429, 0.6621621621621622, 'gini = 0.0\\nsamples = 6\\nvalue = [3.036, 0.0]'),\n",
       " Text(0.6057142857142858, 0.6621621621621622, 'X[13] <= 102.595\\ngini = 0.135\\nsamples = 239\\nvalue = [104.754, 1337.043]'),\n",
       " Text(0.5942857142857143, 0.6351351351351351, 'gini = 0.0\\nsamples = 5\\nvalue = [2.53, 0.0]'),\n",
       " Text(0.6171428571428571, 0.6351351351351351, 'X[12] <= 14.315\\ngini = 0.132\\nsamples = 234\\nvalue = [102.223, 1337.043]'),\n",
       " Text(0.5885714285714285, 0.6081081081081081, 'X[0] <= 1.605\\ngini = 0.115\\nsamples = 191\\nvalue = [81.475, 1253.478]'),\n",
       " Text(0.5771428571428572, 0.581081081081081, 'X[2] <= -36.795\\ngini = 0.112\\nsamples = 187\\nvalue = [79.451, 1253.478]'),\n",
       " Text(0.5657142857142857, 0.5540540540540541, 'gini = 0.0\\nsamples = 4\\nvalue = [2.024, 0.0]'),\n",
       " Text(0.5885714285714285, 0.5540540540540541, 'X[5] <= 2.83\\ngini = 0.11\\nsamples = 183\\nvalue = [77.427, 1253.478]'),\n",
       " Text(0.5771428571428572, 0.527027027027027, 'X[4] <= 7.095\\ngini = 0.108\\nsamples = 180\\nvalue = [75.908, 1253.478]'),\n",
       " Text(0.4828571428571429, 0.5, 'X[10] <= -33.97\\ngini = 0.078\\nsamples = 99\\nvalue = [38.966, 919.217]'),\n",
       " Text(0.4714285714285714, 0.47297297297297297, 'gini = 0.0\\nsamples = 5\\nvalue = [2.53, 0.0]'),\n",
       " Text(0.4942857142857143, 0.47297297297297297, 'X[13] <= 116.745\\ngini = 0.073\\nsamples = 94\\nvalue = [36.436, 919.217]'),\n",
       " Text(0.4828571428571429, 0.44594594594594594, 'gini = 0.0\\nsamples = 4\\nvalue = [2.024, 0.0]'),\n",
       " Text(0.5057142857142857, 0.44594594594594594, 'X[0] <= -107.525\\ngini = 0.07\\nsamples = 90\\nvalue = [34.412, 919.217]'),\n",
       " Text(0.4942857142857143, 0.4189189189189189, 'gini = 0.0\\nsamples = 1\\nvalue = [0.506, 0.0]'),\n",
       " Text(0.5171428571428571, 0.4189189189189189, 'X[15] <= 1.04\\ngini = 0.069\\nsamples = 89\\nvalue = [33.906, 919.217]'),\n",
       " Text(0.5057142857142857, 0.3918918918918919, 'gini = 0.0\\nsamples = 1\\nvalue = [0.506, 0.0]'),\n",
       " Text(0.5285714285714286, 0.3918918918918919, 'X[15] <= 6.375\\ngini = 0.068\\nsamples = 88\\nvalue = [33.4, 919.217]'),\n",
       " Text(0.5, 0.36486486486486486, 'X[17] <= 104.4\\ngini = 0.117\\nsamples = 52\\nvalue = [22.266, 334.261]'),\n",
       " Text(0.48857142857142855, 0.33783783783783783, 'gini = 0.0\\nsamples = 17\\nvalue = [8.603, 0.0]'),\n",
       " Text(0.5114285714285715, 0.33783783783783783, 'X[8] <= 250.78\\ngini = 0.075\\nsamples = 35\\nvalue = [13.664, 334.261]'),\n",
       " Text(0.5, 0.3108108108108108, 'X[14] <= 35.49\\ngini = 0.057\\nsamples = 28\\nvalue = [10.121, 334.261]'),\n",
       " Text(0.48857142857142855, 0.28378378378378377, 'X[16] <= 134.405\\ngini = 0.046\\nsamples = 24\\nvalue = [8.097, 334.261]'),\n",
       " Text(0.47714285714285715, 0.25675675675675674, 'gini = 0.0\\nsamples = 3\\nvalue = [1.518, 0.0]'),\n",
       " Text(0.5, 0.25675675675675674, 'X[15] <= 5.29\\ngini = 0.038\\nsamples = 21\\nvalue = [6.579, 334.261]'),\n",
       " Text(0.48857142857142855, 0.22972972972972974, 'X[4] <= 4.655\\ngini = 0.032\\nsamples = 19\\nvalue = [5.567, 334.261]'),\n",
       " Text(0.47714285714285715, 0.20270270270270271, 'X[0] <= 0.92\\ngini = 0.027\\nsamples = 17\\nvalue = [4.555, 334.261]'),\n",
       " Text(0.4657142857142857, 0.17567567567567569, 'X[8] <= -151.365\\ngini = 0.024\\nsamples = 16\\nvalue = [4.048, 334.261]'),\n",
       " Text(0.4542857142857143, 0.14864864864864866, 'gini = 0.0\\nsamples = 1\\nvalue = [0.506, 0.0]'),\n",
       " Text(0.47714285714285715, 0.14864864864864866, 'X[17] <= 181.445\\ngini = 0.021\\nsamples = 15\\nvalue = [3.542, 334.261]'),\n",
       " Text(0.4542857142857143, 0.12162162162162163, 'X[15] <= 4.945\\ngini = 0.068\\nsamples = 8\\nvalue = [3.036, 83.565]'),\n",
       " Text(0.44285714285714284, 0.0945945945945946, 'X[16] <= 152.605\\ngini = 0.0\\nsamples = 6\\nvalue = [3.036, 0.0]'),\n",
       " Text(0.43142857142857144, 0.06756756756756757, 'gini = 0.0\\nsamples = 1\\nvalue = [0.506, 0.0]'),\n",
       " Text(0.4542857142857143, 0.06756756756756757, 'gini = 0.0\\nsamples = 5\\nvalue = [2.53, 0.0]'),\n",
       " Text(0.4657142857142857, 0.0945945945945946, 'gini = 0.0\\nsamples = 2\\nvalue = [0.0, 83.565]'),\n",
       " Text(0.5, 0.12162162162162163, 'X[14] <= 1.155\\ngini = 0.004\\nsamples = 7\\nvalue = [0.506, 250.696]'),\n",
       " Text(0.48857142857142855, 0.0945945945945946, 'gini = 0.0\\nsamples = 5\\nvalue = [0.0, 208.913]'),\n",
       " Text(0.5114285714285715, 0.0945945945945946, 'X[17] <= 214.935\\ngini = 0.024\\nsamples = 2\\nvalue = [0.506, 41.783]'),\n",
       " Text(0.5, 0.06756756756756757, 'gini = 0.0\\nsamples = 1\\nvalue = [0.0, 41.783]'),\n",
       " Text(0.5228571428571429, 0.06756756756756757, 'gini = -0.0\\nsamples = 1\\nvalue = [0.506, 0.0]'),\n",
       " Text(0.48857142857142855, 0.17567567567567569, 'gini = -0.0\\nsamples = 1\\nvalue = [0.506, 0.0]'),\n",
       " Text(0.5, 0.20270270270270271, 'gini = -0.0\\nsamples = 2\\nvalue = [1.012, 0.0]'),\n",
       " Text(0.5114285714285715, 0.22972972972972974, 'gini = -0.0\\nsamples = 2\\nvalue = [1.012, 0.0]'),\n",
       " Text(0.5114285714285715, 0.28378378378378377, 'gini = -0.0\\nsamples = 4\\nvalue = [2.024, 0.0]'),\n",
       " Text(0.5228571428571429, 0.3108108108108108, 'gini = -0.0\\nsamples = 7\\nvalue = [3.542, 0.0]'),\n",
       " Text(0.5571428571428572, 0.36486486486486486, 'X[1] <= 2.795\\ngini = 0.037\\nsamples = 36\\nvalue = [11.133, 584.957]'),\n",
       " Text(0.5457142857142857, 0.33783783783783783, 'gini = 0.0\\nsamples = 5\\nvalue = [2.53, 0.0]'),\n",
       " Text(0.5685714285714286, 0.33783783783783783, 'X[17] <= 105.965\\ngini = 0.029\\nsamples = 31\\nvalue = [8.603, 584.957]'),\n",
       " Text(0.5571428571428572, 0.3108108108108108, 'X[6] <= 26.795\\ngini = 0.024\\nsamples = 28\\nvalue = [7.085, 584.957]'),\n",
       " Text(0.5342857142857143, 0.28378378378378377, 'X[6] <= 16.655\\ngini = 0.078\\nsamples = 9\\nvalue = [3.542, 83.565]'),\n",
       " Text(0.5228571428571429, 0.25675675675675674, 'gini = 0.0\\nsamples = 2\\nvalue = [0.0, 83.565]'),\n",
       " Text(0.5457142857142857, 0.25675675675675674, 'gini = -0.0\\nsamples = 7\\nvalue = [3.542, 0.0]'),\n",
       " Text(0.58, 0.28378378378378377, 'X[12] <= -35.525\\ngini = 0.014\\nsamples = 19\\nvalue = [3.542, 501.391]'),\n",
       " Text(0.5685714285714286, 0.25675675675675674, 'gini = 0.0\\nsamples = 1\\nvalue = [0.506, 0.0]'),\n",
       " Text(0.5914285714285714, 0.25675675675675674, 'X[3] <= -34.165\\ngini = 0.012\\nsamples = 18\\nvalue = [3.036, 501.391]'),\n",
       " Text(0.58, 0.22972972972972974, 'gini = 0.0\\nsamples = 1\\nvalue = [0.506, 0.0]'),\n",
       " Text(0.6028571428571429, 0.22972972972972974, 'X[15] <= 9.92\\ngini = 0.01\\nsamples = 17\\nvalue = [2.53, 501.391]'),\n",
       " Text(0.5914285714285714, 0.20270270270270271, 'X[1] <= 17.825\\ngini = 0.024\\nsamples = 10\\nvalue = [2.53, 208.913]'),\n",
       " Text(0.58, 0.17567567567567569, 'X[16] <= 128.325\\ngini = 0.01\\nsamples = 7\\nvalue = [1.012, 208.913]'),\n",
       " Text(0.5685714285714286, 0.14864864864864866, 'gini = 0.0\\nsamples = 1\\nvalue = [0.506, 0.0]'),\n",
       " Text(0.5914285714285714, 0.14864864864864866, 'X[8] <= -63.55\\ngini = 0.005\\nsamples = 6\\nvalue = [0.506, 208.913]'),\n",
       " Text(0.58, 0.12162162162162163, 'gini = 0.0\\nsamples = 4\\nvalue = [0.0, 167.13]'),\n",
       " Text(0.6028571428571429, 0.12162162162162163, 'X[4] <= -2.895\\ngini = 0.024\\nsamples = 2\\nvalue = [0.506, 41.783]'),\n",
       " Text(0.5914285714285714, 0.0945945945945946, 'gini = 0.0\\nsamples = 1\\nvalue = [0.0, 41.783]'),\n",
       " Text(0.6142857142857143, 0.0945945945945946, 'gini = -0.0\\nsamples = 1\\nvalue = [0.506, 0.0]'),\n",
       " Text(0.6028571428571429, 0.17567567567567569, 'gini = -0.0\\nsamples = 3\\nvalue = [1.518, 0.0]'),\n",
       " Text(0.6142857142857143, 0.20270270270270271, 'gini = 0.0\\nsamples = 7\\nvalue = [0.0, 292.478]'),\n",
       " Text(0.58, 0.3108108108108108, 'gini = -0.0\\nsamples = 3\\nvalue = [1.518, 0.0]'),\n",
       " Text(0.6714285714285714, 0.5, 'X[1] <= 10.765\\ngini = 0.179\\nsamples = 81\\nvalue = [36.942, 334.261]'),\n",
       " Text(0.66, 0.47297297297297297, 'gini = 0.0\\nsamples = 21\\nvalue = [10.627, 0.0]'),\n",
       " Text(0.6828571428571428, 0.47297297297297297, 'X[17] <= 38.415\\ngini = 0.135\\nsamples = 60\\nvalue = [26.315, 334.261]'),\n",
       " Text(0.6714285714285714, 0.44594594594594594, 'gini = 0.0\\nsamples = 13\\nvalue = [6.579, 0.0]'),\n",
       " Text(0.6942857142857143, 0.44594594594594594, 'X[4] <= 10.175\\ngini = 0.105\\nsamples = 47\\nvalue = [19.736, 334.261]'),\n",
       " Text(0.6828571428571428, 0.4189189189189189, 'gini = 0.0\\nsamples = 10\\nvalue = [5.061, 0.0]'),\n",
       " Text(0.7057142857142857, 0.4189189189189189, 'X[8] <= 602.04\\ngini = 0.081\\nsamples = 37\\nvalue = [14.676, 334.261]'),\n",
       " Text(0.6942857142857143, 0.3918918918918919, 'X[17] <= 164.565\\ngini = 0.065\\nsamples = 31\\nvalue = [11.639, 334.261]'),\n",
       " Text(0.6828571428571428, 0.36486486486486486, 'X[2] <= -19.425\\ngini = 0.057\\nsamples = 28\\nvalue = [10.121, 334.261]'),\n",
       " Text(0.6714285714285714, 0.33783783783783783, 'gini = 0.0\\nsamples = 3\\nvalue = [1.518, 0.0]'),\n",
       " Text(0.6942857142857143, 0.33783783783783783, 'X[11] <= 89.465\\ngini = 0.049\\nsamples = 25\\nvalue = [8.603, 334.261]'),\n",
       " Text(0.6828571428571428, 0.3108108108108108, 'gini = 0.0\\nsamples = 2\\nvalue = [1.012, 0.0]'),\n",
       " Text(0.7057142857142857, 0.3108108108108108, 'X[6] <= 103.24\\ngini = 0.043\\nsamples = 23\\nvalue = [7.591, 334.261]'),\n",
       " Text(0.6942857142857143, 0.28378378378378377, 'X[7] <= 2.75\\ngini = 0.038\\nsamples = 21\\nvalue = [6.579, 334.261]'),\n",
       " Text(0.6828571428571428, 0.25675675675675674, 'X[3] <= 5.59\\ngini = 0.035\\nsamples = 20\\nvalue = [6.073, 334.261]'),\n",
       " Text(0.6714285714285714, 0.22972972972972974, 'X[1] <= 30.8\\ngini = 0.032\\nsamples = 19\\nvalue = [5.567, 334.261]'),\n",
       " Text(0.66, 0.20270270270270271, 'X[15] <= 3.55\\ngini = 0.029\\nsamples = 18\\nvalue = [5.061, 334.261]'),\n",
       " Text(0.6485714285714286, 0.17567567567567569, 'gini = 0.0\\nsamples = 1\\nvalue = [0.506, 0.0]'),\n",
       " Text(0.6714285714285714, 0.17567567567567569, 'X[14] <= 5.405\\ngini = 0.027\\nsamples = 17\\nvalue = [4.555, 334.261]'),\n",
       " Text(0.66, 0.14864864864864866, 'X[14] <= 0.285\\ngini = 0.052\\nsamples = 13\\nvalue = [4.555, 167.13]'),\n",
       " Text(0.6485714285714286, 0.12162162162162163, 'X[0] <= -0.785\\ngini = 0.035\\nsamples = 10\\nvalue = [3.036, 167.13]'),\n",
       " Text(0.6371428571428571, 0.0945945945945946, 'X[6] <= 19.52\\ngini = 0.029\\nsamples = 9\\nvalue = [2.53, 167.13]'),\n",
       " Text(0.6257142857142857, 0.06756756756756757, 'gini = 0.0\\nsamples = 1\\nvalue = [0.506, 0.0]'),\n",
       " Text(0.6485714285714286, 0.06756756756756757, 'X[4] <= 12.405\\ngini = 0.024\\nsamples = 8\\nvalue = [2.024, 167.13]'),\n",
       " Text(0.6257142857142857, 0.04054054054054054, 'X[6] <= 23.23\\ngini = 0.008\\nsamples = 4\\nvalue = [0.506, 125.348]'),\n",
       " Text(0.6142857142857143, 0.013513513513513514, 'gini = 0.0\\nsamples = 1\\nvalue = [0.506, 0.0]'),\n",
       " Text(0.6371428571428571, 0.013513513513513514, 'gini = 0.0\\nsamples = 3\\nvalue = [0.0, 125.348]'),\n",
       " Text(0.6714285714285714, 0.04054054054054054, 'X[17] <= 56.57\\ngini = 0.068\\nsamples = 4\\nvalue = [1.518, 41.783]'),\n",
       " Text(0.66, 0.013513513513513514, 'gini = 0.0\\nsamples = 1\\nvalue = [0.0, 41.783]'),\n",
       " Text(0.6828571428571428, 0.013513513513513514, 'gini = -0.0\\nsamples = 3\\nvalue = [1.518, 0.0]'),\n",
       " Text(0.66, 0.0945945945945946, 'gini = -0.0\\nsamples = 1\\nvalue = [0.506, 0.0]'),\n",
       " Text(0.6714285714285714, 0.12162162162162163, 'gini = -0.0\\nsamples = 3\\nvalue = [1.518, 0.0]'),\n",
       " Text(0.6828571428571428, 0.14864864864864866, 'gini = 0.0\\nsamples = 4\\nvalue = [0.0, 167.13]'),\n",
       " Text(0.6828571428571428, 0.20270270270270271, 'gini = -0.0\\nsamples = 1\\nvalue = [0.506, 0.0]'),\n",
       " Text(0.6942857142857143, 0.22972972972972974, 'gini = -0.0\\nsamples = 1\\nvalue = [0.506, 0.0]'),\n",
       " Text(0.7057142857142857, 0.25675675675675674, 'gini = -0.0\\nsamples = 1\\nvalue = [0.506, 0.0]'),\n",
       " Text(0.7171428571428572, 0.28378378378378377, 'gini = -0.0\\nsamples = 2\\nvalue = [1.012, 0.0]'),\n",
       " Text(0.7057142857142857, 0.36486486486486486, 'gini = -0.0\\nsamples = 3\\nvalue = [1.518, 0.0]'),\n",
       " Text(0.7171428571428572, 0.3918918918918919, 'gini = -0.0\\nsamples = 6\\nvalue = [3.036, 0.0]'),\n",
       " Text(0.6, 0.527027027027027, 'gini = -0.0\\nsamples = 3\\nvalue = [1.518, 0.0]'),\n",
       " Text(0.6, 0.581081081081081, 'gini = -0.0\\nsamples = 4\\nvalue = [2.024, 0.0]'),\n",
       " Text(0.6457142857142857, 0.6081081081081081, 'X[15] <= 14.135\\ngini = 0.319\\nsamples = 43\\nvalue = [20.748, 83.565]'),\n",
       " Text(0.6228571428571429, 0.581081081081081, 'X[4] <= -28.78\\ngini = 0.0\\nsamples = 37\\nvalue = [18.724, 0.0]'),\n",
       " Text(0.6114285714285714, 0.5540540540540541, 'gini = 0.0\\nsamples = 1\\nvalue = [0.506, 0.0]'),\n",
       " Text(0.6342857142857142, 0.5540540540540541, 'gini = 0.0\\nsamples = 36\\nvalue = [18.218, 0.0]'),\n",
       " Text(0.6685714285714286, 0.581081081081081, 'X[12] <= 30.635\\ngini = 0.046\\nsamples = 6\\nvalue = [2.024, 83.565]'),\n",
       " Text(0.6571428571428571, 0.5540540540540541, 'gini = 0.0\\nsamples = 3\\nvalue = [1.518, 0.0]'),\n",
       " Text(0.68, 0.5540540540540541, 'X[11] <= 202.255\\ngini = 0.012\\nsamples = 3\\nvalue = [0.506, 83.565]'),\n",
       " Text(0.6685714285714286, 0.527027027027027, 'gini = 0.0\\nsamples = 1\\nvalue = [0.506, 0.0]'),\n",
       " Text(0.6914285714285714, 0.527027027027027, 'gini = -0.0\\nsamples = 2\\nvalue = [0.0, 83.565]'),\n",
       " Text(0.6171428571428571, 0.6891891891891891, 'gini = -0.0\\nsamples = 6\\nvalue = [3.036, 0.0]'),\n",
       " Text(0.6285714285714286, 0.7162162162162162, 'gini = -0.0\\nsamples = 7\\nvalue = [3.542, 0.0]'),\n",
       " Text(0.6171428571428571, 0.7972972972972973, 'gini = -0.0\\nsamples = 11\\nvalue = [5.567, 0.0]'),\n",
       " Text(0.8457142857142858, 0.9324324324324325, 'X[12] <= 34.855\\ngini = 0.488\\nsamples = 1480\\nvalue = [736.817, 1002.783]'),\n",
       " Text(0.7771428571428571, 0.9054054054054054, 'X[15] <= 4.085\\ngini = 0.496\\nsamples = 1190\\nvalue = [596.134, 501.391]'),\n",
       " Text(0.7485714285714286, 0.8783783783783784, 'X[0] <= 4.835\\ngini = 0.384\\nsamples = 711\\nvalue = [358.288, 125.348]'),\n",
       " Text(0.7257142857142858, 0.8513513513513513, 'X[6] <= 69.13\\ngini = 0.488\\nsamples = 184\\nvalue = [91.596, 125.348]'),\n",
       " Text(0.7142857142857143, 0.8243243243243243, 'gini = -0.0\\nsamples = 99\\nvalue = [50.1, 0.0]'),\n",
       " Text(0.7371428571428571, 0.8243243243243243, 'X[6] <= 90.45\\ngini = 0.374\\nsamples = 85\\nvalue = [41.497, 125.348]'),\n",
       " Text(0.7142857142857143, 0.7972972972972973, 'X[4] <= 4.17\\ngini = 0.226\\nsamples = 40\\nvalue = [18.724, 125.348]'),\n",
       " Text(0.7028571428571428, 0.7702702702702703, 'X[8] <= 172.11\\ngini = 0.126\\nsamples = 21\\nvalue = [9.109, 125.348]'),\n",
       " Text(0.6914285714285714, 0.7432432432432432, 'X[7] <= 1.55\\ngini = 0.081\\nsamples = 14\\nvalue = [5.567, 125.348]'),\n",
       " Text(0.68, 0.7162162162162162, 'gini = 0.0\\nsamples = 5\\nvalue = [2.53, 0.0]'),\n",
       " Text(0.7028571428571428, 0.7162162162162162, 'X[0] <= 2.79\\ngini = 0.046\\nsamples = 9\\nvalue = [3.036, 125.348]'),\n",
       " Text(0.6914285714285714, 0.6891891891891891, 'gini = 0.0\\nsamples = 2\\nvalue = [1.012, 0.0]'),\n",
       " Text(0.7142857142857143, 0.6891891891891891, 'X[16] <= 73.61\\ngini = 0.031\\nsamples = 7\\nvalue = [2.024, 125.348]'),\n",
       " Text(0.7028571428571428, 0.6621621621621622, 'gini = 0.0\\nsamples = 1\\nvalue = [0.506, 0.0]'),\n",
       " Text(0.7257142857142858, 0.6621621621621622, 'X[12] <= -17.625\\ngini = 0.024\\nsamples = 6\\nvalue = [1.518, 125.348]'),\n",
       " Text(0.7142857142857143, 0.6351351351351351, 'gini = 0.0\\nsamples = 1\\nvalue = [0.506, 0.0]'),\n",
       " Text(0.7371428571428571, 0.6351351351351351, 'X[7] <= 4.02\\ngini = 0.016\\nsamples = 5\\nvalue = [1.012, 125.348]'),\n",
       " Text(0.7257142857142858, 0.6081081081081081, 'X[14] <= 0.95\\ngini = 0.008\\nsamples = 4\\nvalue = [0.506, 125.348]'),\n",
       " Text(0.7142857142857143, 0.581081081081081, 'X[13] <= 83.475\\ngini = 0.024\\nsamples = 2\\nvalue = [0.506, 41.783]'),\n",
       " Text(0.7028571428571428, 0.5540540540540541, 'gini = 0.0\\nsamples = 1\\nvalue = [0.0, 41.783]'),\n",
       " Text(0.7257142857142858, 0.5540540540540541, 'gini = -0.0\\nsamples = 1\\nvalue = [0.506, 0.0]'),\n",
       " Text(0.7371428571428571, 0.581081081081081, 'gini = 0.0\\nsamples = 2\\nvalue = [0.0, 83.565]'),\n",
       " Text(0.7485714285714286, 0.6081081081081081, 'gini = 0.0\\nsamples = 1\\nvalue = [0.506, 0.0]'),\n",
       " Text(0.7142857142857143, 0.7432432432432432, 'gini = -0.0\\nsamples = 7\\nvalue = [3.542, 0.0]'),\n",
       " Text(0.7257142857142858, 0.7702702702702703, 'gini = -0.0\\nsamples = 19\\nvalue = [9.615, 0.0]'),\n",
       " Text(0.76, 0.7972972972972973, 'X[9] <= 1.555\\ngini = 0.0\\nsamples = 45\\nvalue = [22.773, 0.0]'),\n",
       " Text(0.7485714285714286, 0.7702702702702703, 'gini = 0.0\\nsamples = 1\\nvalue = [0.506, 0.0]'),\n",
       " Text(0.7714285714285715, 0.7702702702702703, 'gini = 0.0\\nsamples = 44\\nvalue = [22.266, 0.0]'),\n",
       " Text(0.7714285714285715, 0.8513513513513513, 'X[1] <= 0.45\\ngini = 0.0\\nsamples = 527\\nvalue = [266.691, 0.0]'),\n",
       " Text(0.76, 0.8243243243243243, 'gini = 0.0\\nsamples = 1\\nvalue = [0.506, 0.0]'),\n",
       " Text(0.7828571428571428, 0.8243243243243243, 'gini = 0.0\\nsamples = 526\\nvalue = [266.185, 0.0]'),\n",
       " Text(0.8057142857142857, 0.8783783783783784, 'X[5] <= 3.105\\ngini = 0.475\\nsamples = 479\\nvalue = [237.846, 376.043]'),\n",
       " Text(0.7942857142857143, 0.8513513513513513, 'gini = 0.0\\nsamples = 165\\nvalue = [83.499, 0.0]'),\n",
       " Text(0.8171428571428572, 0.8513513513513513, 'X[12] <= 14.63\\ngini = 0.413\\nsamples = 314\\nvalue = [154.347, 376.043]'),\n",
       " Text(0.8057142857142857, 0.8243243243243243, 'X[6] <= 36.59\\ngini = 0.34\\nsamples = 215\\nvalue = [104.247, 376.043]'),\n",
       " Text(0.7942857142857143, 0.7972972972972973, 'gini = 0.0\\nsamples = 48\\nvalue = [24.291, 0.0]'),\n",
       " Text(0.8171428571428572, 0.7972972972972973, 'X[17] <= 113.08\\ngini = 0.289\\nsamples = 167\\nvalue = [79.957, 376.043]'),\n",
       " Text(0.8057142857142857, 0.7702702702702703, 'X[4] <= 58.16\\ngini = 0.253\\nsamples = 139\\nvalue = [65.787, 376.043]'),\n",
       " Text(0.7942857142857143, 0.7432432432432432, 'X[17] <= 95.81\\ngini = 0.214\\nsamples = 112\\nvalue = [52.124, 376.043]'),\n",
       " Text(0.7485714285714286, 0.7162162162162162, 'X[15] <= 7.235\\ngini = 0.339\\nsamples = 95\\nvalue = [46.051, 167.13]'),\n",
       " Text(0.7371428571428571, 0.6891891891891891, 'gini = 0.0\\nsamples = 35\\nvalue = [17.712, 0.0]'),\n",
       " Text(0.76, 0.6891891891891891, 'X[3] <= 9.11\\ngini = 0.248\\nsamples = 60\\nvalue = [28.339, 167.13]'),\n",
       " Text(0.7485714285714286, 0.6621621621621622, 'gini = 0.0\\nsamples = 18\\nvalue = [9.109, 0.0]'),\n",
       " Text(0.7714285714285715, 0.6621621621621622, 'X[6] <= 47.445\\ngini = 0.185\\nsamples = 42\\nvalue = [19.23, 167.13]'),\n",
       " Text(0.76, 0.6351351351351351, 'gini = 0.0\\nsamples = 10\\nvalue = [5.061, 0.0]'),\n",
       " Text(0.7828571428571428, 0.6351351351351351, 'X[15] <= 18.305\\ngini = 0.144\\nsamples = 32\\nvalue = [14.17, 167.13]'),\n",
       " Text(0.7714285714285715, 0.6081081081081081, 'X[17] <= 73.975\\ngini = 0.117\\nsamples = 26\\nvalue = [11.133, 167.13]'),\n",
       " Text(0.76, 0.581081081081081, 'X[10] <= 70.495\\ngini = 0.093\\nsamples = 21\\nvalue = [8.603, 167.13]'),\n",
       " Text(0.7485714285714286, 0.5540540540540541, 'X[8] <= 57.77\\ngini = 0.073\\nsamples = 17\\nvalue = [6.579, 167.13]'),\n",
       " Text(0.7371428571428571, 0.527027027027027, 'gini = 0.0\\nsamples = 3\\nvalue = [1.518, 0.0]'),\n",
       " Text(0.76, 0.527027027027027, 'X[14] <= 18.485\\ngini = 0.057\\nsamples = 14\\nvalue = [5.061, 167.13]'),\n",
       " Text(0.7485714285714286, 0.5, 'X[5] <= 3.265\\ngini = 0.052\\nsamples = 13\\nvalue = [4.555, 167.13]'),\n",
       " Text(0.7371428571428571, 0.47297297297297297, 'gini = 0.0\\nsamples = 1\\nvalue = [0.506, 0.0]'),\n",
       " Text(0.76, 0.47297297297297297, 'X[16] <= 71.03\\ngini = 0.046\\nsamples = 12\\nvalue = [4.048, 167.13]'),\n",
       " Text(0.7485714285714286, 0.44594594594594594, 'gini = 0.0\\nsamples = 1\\nvalue = [0.506, 0.0]'),\n",
       " Text(0.7714285714285715, 0.44594594594594594, 'X[0] <= 4.865\\ngini = 0.041\\nsamples = 11\\nvalue = [3.542, 167.13]'),\n",
       " Text(0.76, 0.4189189189189189, 'gini = 0.0\\nsamples = 1\\nvalue = [0.506, 0.0]'),\n",
       " Text(0.7828571428571428, 0.4189189189189189, 'X[17] <= 43.42\\ngini = 0.035\\nsamples = 10\\nvalue = [3.036, 167.13]'),\n",
       " Text(0.76, 0.3918918918918919, 'X[17] <= 21.125\\ngini = 0.108\\nsamples = 6\\nvalue = [2.53, 41.783]'),\n",
       " Text(0.7485714285714286, 0.36486486486486486, 'gini = 0.0\\nsamples = 1\\nvalue = [0.0, 41.783]'),\n",
       " Text(0.7714285714285715, 0.36486486486486486, 'gini = -0.0\\nsamples = 5\\nvalue = [2.53, 0.0]'),\n",
       " Text(0.8057142857142857, 0.3918918918918919, 'X[13] <= 151.23\\ngini = 0.008\\nsamples = 4\\nvalue = [0.506, 125.348]'),\n",
       " Text(0.7942857142857143, 0.36486486486486486, 'gini = -0.0\\nsamples = 3\\nvalue = [0.0, 125.348]'),\n",
       " Text(0.8171428571428572, 0.36486486486486486, 'gini = 0.0\\nsamples = 1\\nvalue = [0.506, 0.0]'),\n",
       " Text(0.7714285714285715, 0.5, 'gini = -0.0\\nsamples = 1\\nvalue = [0.506, 0.0]'),\n",
       " Text(0.7714285714285715, 0.5540540540540541, 'gini = -0.0\\nsamples = 4\\nvalue = [2.024, 0.0]'),\n",
       " Text(0.7828571428571428, 0.581081081081081, 'gini = -0.0\\nsamples = 5\\nvalue = [2.53, 0.0]'),\n",
       " Text(0.7942857142857143, 0.6081081081081081, 'gini = -0.0\\nsamples = 6\\nvalue = [3.036, 0.0]'),\n",
       " Text(0.84, 0.7162162162162162, 'X[10] <= 25.605\\ngini = 0.055\\nsamples = 17\\nvalue = [6.073, 208.913]'),\n",
       " Text(0.8285714285714286, 0.6891891891891891, 'X[14] <= 1.08\\ngini = 0.019\\nsamples = 9\\nvalue = [2.024, 208.913]'),\n",
       " Text(0.8171428571428572, 0.6621621621621622, 'X[15] <= 5.63\\ngini = 0.005\\nsamples = 6\\nvalue = [0.506, 208.913]'),\n",
       " Text(0.8057142857142857, 0.6351351351351351, 'gini = 0.0\\nsamples = 5\\nvalue = [0.0, 208.913]'),\n",
       " Text(0.8285714285714286, 0.6351351351351351, 'gini = -0.0\\nsamples = 1\\nvalue = [0.506, 0.0]'),\n",
       " Text(0.84, 0.6621621621621622, 'gini = -0.0\\nsamples = 3\\nvalue = [1.518, 0.0]'),\n",
       " Text(0.8514285714285714, 0.6891891891891891, 'gini = -0.0\\nsamples = 8\\nvalue = [4.048, 0.0]'),\n",
       " Text(0.8171428571428572, 0.7432432432432432, 'gini = -0.0\\nsamples = 27\\nvalue = [13.664, 0.0]'),\n",
       " Text(0.8285714285714286, 0.7702702702702703, 'gini = -0.0\\nsamples = 28\\nvalue = [14.17, 0.0]'),\n",
       " Text(0.8285714285714286, 0.8243243243243243, 'gini = -0.0\\nsamples = 99\\nvalue = [50.1, 0.0]'),\n",
       " Text(0.9142857142857143, 0.9054054054054054, 'X[1] <= 31.655\\ngini = 0.342\\nsamples = 290\\nvalue = [140.684, 501.391]'),\n",
       " Text(0.9028571428571428, 0.8783783783783784, 'X[8] <= 115.43\\ngini = 0.262\\nsamples = 194\\nvalue = [92.102, 501.391]'),\n",
       " Text(0.8742857142857143, 0.8513513513513513, 'X[4] <= -51.87\\ngini = 0.472\\nsamples = 104\\nvalue = [51.618, 83.565]'),\n",
       " Text(0.8514285714285714, 0.8243243243243243, 'X[8] <= -44.055\\ngini = 0.012\\nsamples = 3\\nvalue = [0.506, 83.565]'),\n",
       " Text(0.84, 0.7972972972972973, 'gini = 0.0\\nsamples = 1\\nvalue = [0.506, 0.0]'),\n",
       " Text(0.8628571428571429, 0.7972972972972973, 'gini = -0.0\\nsamples = 2\\nvalue = [0.0, 83.565]'),\n",
       " Text(0.8971428571428571, 0.8243243243243243, 'X[10] <= 0.505\\ngini = 0.0\\nsamples = 101\\nvalue = [51.112, 0.0]'),\n",
       " Text(0.8857142857142857, 0.7972972972972973, 'gini = 0.0\\nsamples = 1\\nvalue = [0.506, 0.0]'),\n",
       " Text(0.9085714285714286, 0.7972972972972973, 'gini = 0.0\\nsamples = 100\\nvalue = [50.606, 0.0]'),\n",
       " Text(0.9314285714285714, 0.8513513513513513, 'X[5] <= 2.41\\ngini = 0.161\\nsamples = 90\\nvalue = [40.484, 417.826]'),\n",
       " Text(0.92, 0.8243243243243243, 'gini = 0.0\\nsamples = 15\\nvalue = [7.591, 0.0]'),\n",
       " Text(0.9428571428571428, 0.8243243243243243, 'X[13] <= 76.2\\ngini = 0.135\\nsamples = 75\\nvalue = [32.894, 417.826]'),\n",
       " Text(0.9314285714285714, 0.7972972972972973, 'gini = 0.0\\nsamples = 5\\nvalue = [2.53, 0.0]'),\n",
       " Text(0.9542857142857143, 0.7972972972972973, 'X[6] <= 27.21\\ngini = 0.126\\nsamples = 70\\nvalue = [30.363, 417.826]'),\n",
       " Text(0.9428571428571428, 0.7702702702702703, 'gini = 0.0\\nsamples = 5\\nvalue = [2.53, 0.0]'),\n",
       " Text(0.9657142857142857, 0.7702702702702703, 'X[12] <= 35.86\\ngini = 0.117\\nsamples = 65\\nvalue = [27.833, 417.826]'),\n",
       " Text(0.9542857142857143, 0.7432432432432432, 'gini = 0.0\\nsamples = 4\\nvalue = [2.024, 0.0]'),\n",
       " Text(0.9771428571428571, 0.7432432432432432, 'X[4] <= 32.575\\ngini = 0.11\\nsamples = 61\\nvalue = [25.809, 417.826]'),\n",
       " Text(0.9657142857142857, 0.7162162162162162, 'X[14] <= 28.785\\ngini = 0.102\\nsamples = 57\\nvalue = [23.785, 417.826]'),\n",
       " Text(0.9542857142857143, 0.6891891891891891, 'X[0] <= 24.015\\ngini = 0.096\\nsamples = 54\\nvalue = [22.266, 417.826]'),\n",
       " Text(0.9428571428571428, 0.6621621621621622, 'X[9] <= 14.75\\ngini = 0.09\\nsamples = 51\\nvalue = [20.748, 417.826]'),\n",
       " Text(0.92, 0.6351351351351351, 'X[15] <= 2.04\\ngini = 0.193\\nsamples = 44\\nvalue = [20.242, 167.13]'),\n",
       " Text(0.9085714285714286, 0.6081081081081081, 'X[4] <= 0.585\\ngini = 0.062\\nsamples = 15\\nvalue = [5.567, 167.13]'),\n",
       " Text(0.8971428571428571, 0.581081081081081, 'X[13] <= 299.34\\ngini = 0.029\\nsamples = 9\\nvalue = [2.53, 167.13]'),\n",
       " Text(0.8857142857142857, 0.5540540540540541, 'X[17] <= 304.155\\ngini = 0.018\\nsamples = 7\\nvalue = [1.518, 167.13]'),\n",
       " Text(0.8742857142857143, 0.527027027027027, 'gini = 0.0\\nsamples = 3\\nvalue = [0.0, 125.348]'),\n",
       " Text(0.8971428571428571, 0.527027027027027, 'X[8] <= 115.95\\ngini = 0.068\\nsamples = 4\\nvalue = [1.518, 41.783]'),\n",
       " Text(0.8857142857142857, 0.5, 'gini = 0.0\\nsamples = 1\\nvalue = [0.0, 41.783]'),\n",
       " Text(0.9085714285714286, 0.5, 'gini = -0.0\\nsamples = 3\\nvalue = [1.518, 0.0]'),\n",
       " Text(0.9085714285714286, 0.5540540540540541, 'gini = -0.0\\nsamples = 2\\nvalue = [1.012, 0.0]'),\n",
       " Text(0.92, 0.581081081081081, 'gini = -0.0\\nsamples = 6\\nvalue = [3.036, 0.0]'),\n",
       " Text(0.9314285714285714, 0.6081081081081081, 'gini = -0.0\\nsamples = 29\\nvalue = [14.676, 0.0]'),\n",
       " Text(0.9657142857142857, 0.6351351351351351, 'X[10] <= 39.245\\ngini = 0.004\\nsamples = 7\\nvalue = [0.506, 250.696]'),\n",
       " Text(0.9542857142857143, 0.6081081081081081, 'gini = 0.0\\nsamples = 6\\nvalue = [0.0, 250.696]'),\n",
       " Text(0.9771428571428571, 0.6081081081081081, 'gini = -0.0\\nsamples = 1\\nvalue = [0.506, 0.0]'),\n",
       " Text(0.9657142857142857, 0.6621621621621622, 'gini = -0.0\\nsamples = 3\\nvalue = [1.518, 0.0]'),\n",
       " Text(0.9771428571428571, 0.6891891891891891, 'gini = -0.0\\nsamples = 3\\nvalue = [1.518, 0.0]'),\n",
       " Text(0.9885714285714285, 0.7162162162162162, 'gini = -0.0\\nsamples = 4\\nvalue = [2.024, 0.0]'),\n",
       " Text(0.9257142857142857, 0.8783783783783784, 'gini = -0.0\\nsamples = 96\\nvalue = [48.581, 0.0]')]"
      ]
     },
     "execution_count": 47,
     "metadata": {},
     "output_type": "execute_result"
    },
    {
     "data": {
      "image/png": "[encoded data removed]",
      "text/plain": [
       "<Figure size 432x288 with 1 Axes>"
      ]
     },
     "metadata": {
      "needs_background": "light"
     },
     "output_type": "display_data"
    }
   ],
   "source": [
    "tree.plot_tree(clf)"
   ]
  },
  {
   "cell_type": "code",
   "execution_count": 48,
   "id": "2b86798d",
   "metadata": {},
   "outputs": [],
   "source": [
    "rules = get_rules(clf,data_new.iloc[:,2:20].columns, None)"
   ]
  },
  {
   "cell_type": "code",
   "execution_count": 49,
   "id": "cfa91277",
   "metadata": {},
   "outputs": [
    {
     "name": "stdout",
     "output_type": "stream",
     "text": [
      "if (A509 <= 67.23) and (A401 > -23.485) and (A401 <= 85.065) and (A143 <= 112.87) and (A51A <= 7085583.0) and (A144 > -8.39) and (A104 <= 33.8) and (A116 > 27.005) and (A115 > -18.55) then response: 2140.11 | based on 4,229 samples\n",
      "if (A509 > 67.23) and (A104 > 1.725) and (A401 <= 34.855) and (A517 <= 4.085) and (A104 > 4.835) and (A105 > 0.45) then response: 266.185 | based on 526 samples\n",
      "if (A509 <= 67.23) and (A401 > -23.485) and (A401 <= 85.065) and (A143 > 112.87) and (A143 > 128.565) then response: 155.359 | based on 307 samples\n",
      "if (A509 > 67.23) and (A104 > 1.725) and (A401 <= 34.855) and (A517 > 4.085) and (A115 <= 3.105) then response: 83.499 | based on 165 samples\n",
      "if (A509 <= 67.23) and (A401 > -23.485) and (A401 <= 85.065) and (A143 <= 112.87) and (A51A <= 7085583.0) and (A144 <= -8.39) and (A144 <= -9.065) then response: 72.872 | based on 144 samples\n",
      "if (A509 <= 67.23) and (A401 > -23.485) and (A401 > 85.065) and (A145 > 5.06) and (A105 <= 49.02) and (A105 > -2.12) then response: 71.86 | based on 142 samples\n",
      "if (A509 > 67.23) and (A104 <= 1.725) and (A175 > 62.865) and (A519 <= 121.405) and (A144 > 5.225) then response: 66.799 | based on 132 samples\n",
      "if (A509 > 67.23) and (A104 <= 1.725) and (A175 <= 62.865) then response: 64.775 | based on 128 samples\n",
      "if (A509 <= 67.23) and (A401 > -23.485) and (A401 <= 85.065) and (A143 > 112.87) and (A143 <= 128.565) and (A140 > 4.935) then response: 60.221 | based on 119 samples\n",
      "if (A509 > 67.23) and (A104 > 1.725) and (A401 > 34.855) and (A105 <= 31.655) and (A143 <= 115.43) and (A111 > -51.87) and (A145 > 0.505) then response: 50.606 | based on 100 samples\n",
      "if (A509 > 67.23) and (A104 > 1.725) and (A401 <= 34.855) and (A517 <= 4.085) and (A104 <= 4.835) and (A116 <= 69.13) then response: 50.1 | based on 99 samples\n",
      "if (A509 > 67.23) and (A104 > 1.725) and (A401 <= 34.855) and (A517 > 4.085) and (A115 > 3.105) and (A401 > 14.63) then response: 50.1 | based on 99 samples\n",
      "if (A509 > 67.23) and (A104 > 1.725) and (A401 > 34.855) and (A105 > 31.655) then response: 48.581 | based on 96 samples\n",
      "if (A509 > 67.23) and (A104 <= 1.725) and (A175 > 62.865) and (A519 <= 121.405) and (A144 <= 5.225) and (A143 <= -63.715) then response: 34.412 | based on 68 samples\n",
      "if (A509 <= 67.23) and (A401 > -23.485) and (A401 <= 85.065) and (A143 > 112.87) and (A143 <= 128.565) and (A140 <= 4.935) and (A140 <= 4.2) then response: 30.869 | based on 61 samples\n",
      "if (A509 > 67.23) and (A104 > 1.725) and (A401 <= 34.855) and (A517 > 4.085) and (A115 > 3.105) and (A401 <= 14.63) and (A116 <= 36.59) then response: 24.291 | based on 48 samples\n",
      "if (A509 > 67.23) and (A104 <= 1.725) and (A175 > 62.865) and (A519 <= 121.405) and (A144 <= 5.225) and (A143 > -63.715) and (A116 > 37.075) and (A106 <= 6.64) and (A106 <= 3.165) and (A105 > 5.59) and (A106 > -11.56) then response: 22.266 | based on 44 samples\n",
      "if (A509 > 67.23) and (A104 > 1.725) and (A401 <= 34.855) and (A517 <= 4.085) and (A104 <= 4.835) and (A116 > 69.13) and (A116 > 90.45) and (A144 > 1.555) then response: 22.266 | based on 44 samples\n",
      "if (A509 <= 67.23) and (A401 <= -23.485) and (A51A > 39.505) and (A51A <= 1898.98) and (A519 <= 60.185) and (A115 <= 5.98) and (A143 <= 136.34) and (A105 > 4.465) and (A143 > -652.03) and (A111 > -15.03) and (A105 > 27.79) then response: 21.76 | based on 43 samples\n",
      "if (A509 <= 67.23) and (A401 > -23.485) and (A401 <= 85.065) and (A143 <= 112.87) and (A51A <= 7085583.0) and (A144 > -8.39) and (A104 <= 33.8) and (A116 <= 27.005) and (A116 <= 26.845) then response: 20.242 | based on 40 samples\n",
      "if (A509 <= 67.23) and (A401 > -23.485) and (A401 <= 85.065) and (A143 <= 112.87) and (A51A <= 7085583.0) and (A144 > -8.39) and (A104 > 33.8) and (A104 > 33.875) then response: 19.23 | based on 38 samples\n",
      "if (A509 <= 67.23) and (A401 <= -23.485) and (A51A > 39.505) and (A51A > 1898.98) then response: 18.724 | based on 37 samples\n",
      "if (A509 <= 67.23) and (A401 <= -23.485) and (A51A <= 39.505) then response: 18.724 | based on 37 samples\n",
      "if (A509 > 67.23) and (A104 <= 1.725) and (A175 > 62.865) and (A519 > 121.405) and (A175 > 72.9) and (A401 > -40.98) and (A109 <= 9.715) and (A143 > -556.37) and (A111 > -38.585) and (A143 <= 1238.235) and (A51A <= 273.62) and (A115 > -23.015) and (A509 > 102.595) and (A401 > 14.315) and (A517 <= 14.135) and (A111 > -28.78) then response: 18.218 | based on 36 samples\n",
      "if (A509 > 67.23) and (A104 > 1.725) and (A401 <= 34.855) and (A517 > 4.085) and (A115 > 3.105) and (A401 <= 14.63) and (A116 > 36.59) and (A51A <= 113.08) and (A111 <= 58.16) and (A51A <= 95.81) and (A517 <= 7.235) then response: 17.712 | based on 35 samples\n",
      "if (A509 <= 67.23) and (A401 <= -23.485) and (A51A > 39.505) and (A51A <= 1898.98) and (A519 > 60.185) then response: 15.182 | based on 30 samples\n",
      "if (A509 > 67.23) and (A104 > 1.725) and (A401 > 34.855) and (A105 <= 31.655) and (A143 > 115.43) and (A115 > 2.41) and (A509 > 76.2) and (A116 > 27.21) and (A401 > 35.86) and (A111 <= 32.575) and (A511 <= 28.785) and (A104 <= 24.015) and (A144 <= 14.75) and (A517 > 2.04) then response: 14.676 | based on 29 samples\n",
      "if (A509 > 67.23) and (A104 > 1.725) and (A401 <= 34.855) and (A517 > 4.085) and (A115 > 3.105) and (A401 <= 14.63) and (A116 > 36.59) and (A51A > 113.08) then response: 14.17 | based on 28 samples\n",
      "if (A509 > 67.23) and (A104 > 1.725) and (A401 <= 34.855) and (A517 > 4.085) and (A115 > 3.105) and (A401 <= 14.63) and (A116 > 36.59) and (A51A <= 113.08) and (A111 > 58.16) then response: 13.664 | based on 27 samples\n",
      "if (A509 > 67.23) and (A104 <= 1.725) and (A175 > 62.865) and (A519 > 121.405) and (A175 <= 72.9) then response: 11.639 | based on 23 samples\n",
      "if (A509 <= 67.23) and (A401 <= -23.485) and (A51A > 39.505) and (A51A <= 1898.98) and (A519 <= 60.185) and (A115 > 5.98) then response: 11.133 | based on 22 samples\n",
      "if (A509 > 67.23) and (A104 <= 1.725) and (A175 > 62.865) and (A519 > 121.405) and (A175 > 72.9) and (A401 > -40.98) and (A109 <= 9.715) and (A143 > -556.37) and (A111 > -38.585) and (A143 <= 1238.235) and (A51A <= 273.62) and (A115 > -23.015) and (A509 > 102.595) and (A401 <= 14.315) and (A104 <= 1.605) and (A106 > -36.795) and (A115 <= 2.83) and (A111 > 7.095) and (A105 <= 10.765) then response: 10.627 | based on 21 samples\n",
      "if (A509 > 67.23) and (A104 > 1.725) and (A401 <= 34.855) and (A517 <= 4.085) and (A104 <= 4.835) and (A116 > 69.13) and (A116 <= 90.45) and (A111 > 4.17) then response: 9.615 | based on 19 samples\n",
      "if (A509 > 67.23) and (A104 > 1.725) and (A401 <= 34.855) and (A517 > 4.085) and (A115 > 3.105) and (A401 <= 14.63) and (A116 > 36.59) and (A51A <= 113.08) and (A111 <= 58.16) and (A51A <= 95.81) and (A517 > 7.235) and (A109 <= 9.11) then response: 9.109 | based on 18 samples\n",
      "if (A509 > 67.23) and (A104 <= 1.725) and (A175 > 62.865) and (A519 > 121.405) and (A175 > 72.9) and (A401 > -40.98) and (A109 <= 9.715) and (A143 > -556.37) and (A111 > -38.585) and (A143 <= 1238.235) and (A51A <= 273.62) and (A115 > -23.015) and (A509 > 102.595) and (A401 <= 14.315) and (A104 <= 1.605) and (A106 > -36.795) and (A115 <= 2.83) and (A111 <= 7.095) and (A145 > -33.97) and (A509 > 116.745) and (A104 > -107.525) and (A517 > 1.04) and (A517 <= 6.375) and (A51A <= 104.4) then response: 8.603 | based on 17 samples\n",
      "if (A509 <= 67.23) and (A401 > -23.485) and (A401 > 85.065) and (A145 > 5.06) and (A105 > 49.02) and (A51A > 155.665) and (A511 <= 7.455) then response: 8.097 | based on 16 samples\n",
      "if (A509 > 67.23) and (A104 <= 1.725) and (A175 > 62.865) and (A519 <= 121.405) and (A144 <= 5.225) and (A143 > -63.715) and (A116 <= 37.075) then response: 8.097 | based on 16 samples\n",
      "if (A509 <= 67.23) and (A401 <= -23.485) and (A51A > 39.505) and (A51A <= 1898.98) and (A519 <= 60.185) and (A115 <= 5.98) and (A143 <= 136.34) and (A105 > 4.465) and (A143 > -652.03) and (A111 > -15.03) and (A105 <= 27.79) and (A104 > 3.275) then response: 7.591 | based on 15 samples\n",
      "if (A509 > 67.23) and (A104 > 1.725) and (A401 > 34.855) and (A105 <= 31.655) and (A143 > 115.43) and (A115 <= 2.41) then response: 7.591 | based on 15 samples\n",
      "if (A509 <= 67.23) and (A401 <= -23.485) and (A51A > 39.505) and (A51A <= 1898.98) and (A519 <= 60.185) and (A115 <= 5.98) and (A143 > 136.34) then response: 7.085 | based on 14 samples\n",
      "if (A509 > 67.23) and (A104 <= 1.725) and (A175 > 62.865) and (A519 > 121.405) and (A175 > 72.9) and (A401 <= -40.98) then response: 7.085 | based on 14 samples\n",
      "if (A509 > 67.23) and (A104 <= 1.725) and (A175 > 62.865) and (A519 > 121.405) and (A175 > 72.9) and (A401 > -40.98) and (A109 <= 9.715) and (A143 > -556.37) and (A111 > -38.585) and (A143 <= 1238.235) and (A51A <= 273.62) and (A115 > -23.015) and (A509 > 102.595) and (A401 <= 14.315) and (A104 <= 1.605) and (A106 > -36.795) and (A115 <= 2.83) and (A111 > 7.095) and (A105 > 10.765) and (A51A <= 38.415) then response: 6.579 | based on 13 samples\n",
      "if (A509 > 67.23) and (A104 <= 1.725) and (A175 > 62.865) and (A519 <= 121.405) and (A144 <= 5.225) and (A143 > -63.715) and (A116 > 37.075) and (A106 > 6.64) then response: 6.073 | based on 12 samples\n",
      "if (A509 <= 67.23) and (A401 <= -23.485) and (A51A > 39.505) and (A51A <= 1898.98) and (A519 <= 60.185) and (A115 <= 5.98) and (A143 <= 136.34) and (A105 <= 4.465) then response: 6.073 | based on 12 samples\n",
      "if (A509 <= 67.23) and (A401 <= -23.485) and (A51A > 39.505) and (A51A <= 1898.98) and (A519 <= 60.185) and (A115 <= 5.98) and (A143 <= 136.34) and (A105 > 4.465) and (A143 > -652.03) and (A111 > -15.03) and (A105 <= 27.79) and (A104 <= 3.275) and (A116 > 68.815) and (A111 > -7.8) and (A509 <= 46.235) and (A511 <= 17.03) and (A401 <= -24.41) and (A143 > -229.665) and (A175 > 20.545) and (A401 > -29.015) and (A104 <= 2.78) then response: 6.073 | based on 12 samples\n",
      "if (A509 > 67.23) and (A104 <= 1.725) and (A175 > 62.865) and (A519 > 121.405) and (A175 > 72.9) and (A401 > -40.98) and (A109 > 9.715) then response: 5.567 | based on 11 samples\n",
      "if (A509 <= 67.23) and (A401 <= -23.485) and (A51A > 39.505) and (A51A <= 1898.98) and (A519 <= 60.185) and (A115 <= 5.98) and (A143 <= 136.34) and (A105 > 4.465) and (A143 > -652.03) and (A111 > -15.03) and (A105 <= 27.79) and (A104 <= 3.275) and (A116 <= 68.815) then response: 5.567 | based on 11 samples\n",
      "if (A509 > 67.23) and (A104 > 1.725) and (A401 <= 34.855) and (A517 > 4.085) and (A115 > 3.105) and (A401 <= 14.63) and (A116 > 36.59) and (A51A <= 113.08) and (A111 <= 58.16) and (A51A <= 95.81) and (A517 > 7.235) and (A109 > 9.11) and (A116 <= 47.445) then response: 5.061 | based on 10 samples\n",
      "if (A509 <= 67.23) and (A401 <= -23.485) and (A51A > 39.505) and (A51A <= 1898.98) and (A519 <= 60.185) and (A115 <= 5.98) and (A143 <= 136.34) and (A105 > 4.465) and (A143 <= -652.03) then response: 5.061 | based on 10 samples\n",
      "if (A509 > 67.23) and (A104 <= 1.725) and (A175 > 62.865) and (A519 > 121.405) and (A175 > 72.9) and (A401 > -40.98) and (A109 <= 9.715) and (A143 > -556.37) and (A111 > -38.585) and (A143 <= 1238.235) and (A51A <= 273.62) and (A115 > -23.015) and (A509 > 102.595) and (A401 <= 14.315) and (A104 <= 1.605) and (A106 > -36.795) and (A115 <= 2.83) and (A111 > 7.095) and (A105 > 10.765) and (A51A > 38.415) and (A111 <= 10.175) then response: 5.061 | based on 10 samples\n",
      "if (A509 <= 67.23) and (A401 > -23.485) and (A401 <= 85.065) and (A143 > 112.87) and (A143 <= 128.565) and (A140 <= 4.935) and (A140 > 4.2) and (A111 > 13.295) then response: 5.061 | based on 10 samples\n",
      "if (A509 > 67.23) and (A104 <= 1.725) and (A175 > 62.865) and (A519 > 121.405) and (A175 > 72.9) and (A401 > -40.98) and (A109 <= 9.715) and (A143 <= -556.37) then response: 4.555 | based on 9 samples\n",
      "if (A509 > 67.23) and (A104 <= 1.725) and (A175 > 62.865) and (A519 > 121.405) and (A175 > 72.9) and (A401 > -40.98) and (A109 <= 9.715) and (A143 > -556.37) and (A111 <= -38.585) then response: 4.048 | based on 8 samples\n",
      "if (A509 > 67.23) and (A104 > 1.725) and (A401 <= 34.855) and (A517 > 4.085) and (A115 > 3.105) and (A401 <= 14.63) and (A116 > 36.59) and (A51A <= 113.08) and (A111 <= 58.16) and (A51A > 95.81) and (A145 > 25.605) then response: 4.048 | based on 8 samples\n",
      "if (A509 <= 67.23) and (A401 <= -23.485) and (A51A > 39.505) and (A51A <= 1898.98) and (A519 <= 60.185) and (A115 <= 5.98) and (A143 <= 136.34) and (A105 > 4.465) and (A143 > -652.03) and (A111 <= -15.03) and (A509 <= 14.935) then response: 3.542 | based on 7 samples\n",
      "if (A509 > 67.23) and (A104 <= 1.725) and (A175 > 62.865) and (A519 > 121.405) and (A175 > 72.9) and (A401 > -40.98) and (A109 <= 9.715) and (A143 > -556.37) and (A111 > -38.585) and (A143 <= 1238.235) and (A51A <= 273.62) and (A115 > -23.015) and (A509 > 102.595) and (A401 <= 14.315) and (A104 <= 1.605) and (A106 > -36.795) and (A115 <= 2.83) and (A111 <= 7.095) and (A145 > -33.97) and (A509 > 116.745) and (A104 > -107.525) and (A517 > 1.04) and (A517 > 6.375) and (A105 > 2.795) and (A51A <= 105.965) and (A116 <= 26.795) and (A116 > 16.655) then response: 3.542 | based on 7 samples\n",
      "if (A509 <= 67.23) and (A401 <= -23.485) and (A51A > 39.505) and (A51A <= 1898.98) and (A519 <= 60.185) and (A115 <= 5.98) and (A143 <= 136.34) and (A105 > 4.465) and (A143 > -652.03) and (A111 > -15.03) and (A105 <= 27.79) and (A104 <= 3.275) and (A116 > 68.815) and (A111 <= -7.8) then response: 3.542 | based on 7 samples\n",
      "if (A509 > 67.23) and (A104 > 1.725) and (A401 <= 34.855) and (A517 <= 4.085) and (A104 <= 4.835) and (A116 > 69.13) and (A116 <= 90.45) and (A111 <= 4.17) and (A143 > 172.11) then response: 3.542 | based on 7 samples\n",
      "if (A509 > 67.23) and (A104 <= 1.725) and (A175 > 62.865) and (A519 > 121.405) and (A175 > 72.9) and (A401 > -40.98) and (A109 <= 9.715) and (A143 > -556.37) and (A111 > -38.585) and (A143 <= 1238.235) and (A51A <= 273.62) and (A115 > -23.015) and (A509 > 102.595) and (A401 <= 14.315) and (A104 <= 1.605) and (A106 > -36.795) and (A115 <= 2.83) and (A111 <= 7.095) and (A145 > -33.97) and (A509 > 116.745) and (A104 > -107.525) and (A517 > 1.04) and (A517 > 6.375) and (A105 > 2.795) and (A51A <= 105.965) and (A116 > 26.795) and (A401 > -35.525) and (A109 > -34.165) and (A517 > 9.92) then response: 0.0 | based on 7 samples\n",
      "if (A509 > 67.23) and (A104 <= 1.725) and (A175 > 62.865) and (A519 > 121.405) and (A175 > 72.9) and (A401 > -40.98) and (A109 <= 9.715) and (A143 > -556.37) and (A111 > -38.585) and (A143 > 1238.235) then response: 3.542 | based on 7 samples\n",
      "if (A509 <= 67.23) and (A401 <= -23.485) and (A51A > 39.505) and (A51A <= 1898.98) and (A519 <= 60.185) and (A115 <= 5.98) and (A143 <= 136.34) and (A105 > 4.465) and (A143 > -652.03) and (A111 > -15.03) and (A105 <= 27.79) and (A104 <= 3.275) and (A116 > 68.815) and (A111 > -7.8) and (A509 > 46.235) then response: 3.542 | based on 7 samples\n",
      "if (A509 > 67.23) and (A104 <= 1.725) and (A175 > 62.865) and (A519 > 121.405) and (A175 > 72.9) and (A401 > -40.98) and (A109 <= 9.715) and (A143 > -556.37) and (A111 > -38.585) and (A143 <= 1238.235) and (A51A <= 273.62) and (A115 > -23.015) and (A509 > 102.595) and (A401 <= 14.315) and (A104 <= 1.605) and (A106 > -36.795) and (A115 <= 2.83) and (A111 <= 7.095) and (A145 > -33.97) and (A509 > 116.745) and (A104 > -107.525) and (A517 > 1.04) and (A517 <= 6.375) and (A51A > 104.4) and (A143 > 250.78) then response: 3.542 | based on 7 samples\n",
      "if (A509 <= 67.23) and (A401 > -23.485) and (A401 > 85.065) and (A145 > 5.06) and (A105 > 49.02) and (A51A <= 155.665) and (A111 > 28.855) then response: 3.542 | based on 7 samples\n",
      "if (A509 > 67.23) and (A104 <= 1.725) and (A175 > 62.865) and (A519 > 121.405) and (A175 > 72.9) and (A401 > -40.98) and (A109 <= 9.715) and (A143 > -556.37) and (A111 > -38.585) and (A143 <= 1238.235) and (A51A <= 273.62) and (A115 <= -23.015) then response: 3.036 | based on 6 samples\n",
      "if (A509 <= 67.23) and (A401 <= -23.485) and (A51A > 39.505) and (A51A <= 1898.98) and (A519 <= 60.185) and (A115 <= 5.98) and (A143 <= 136.34) and (A105 > 4.465) and (A143 > -652.03) and (A111 <= -15.03) and (A509 > 14.935) and (A511 <= 1.71) and (A517 > 0.79) and (A401 > -48.235) and (A175 > 58.615) then response: 0.0 | based on 6 samples\n",
      "if (A509 > 67.23) and (A104 > 1.725) and (A401 > 34.855) and (A105 <= 31.655) and (A143 > 115.43) and (A115 > 2.41) and (A509 > 76.2) and (A116 > 27.21) and (A401 > 35.86) and (A111 <= 32.575) and (A511 <= 28.785) and (A104 <= 24.015) and (A144 <= 14.75) and (A517 <= 2.04) and (A111 > 0.585) then response: 3.036 | based on 6 samples\n",
      "if (A509 > 67.23) and (A104 > 1.725) and (A401 > 34.855) and (A105 <= 31.655) and (A143 > 115.43) and (A115 > 2.41) and (A509 > 76.2) and (A116 > 27.21) and (A401 > 35.86) and (A111 <= 32.575) and (A511 <= 28.785) and (A104 <= 24.015) and (A144 > 14.75) and (A145 <= 39.245) then response: 0.0 | based on 6 samples\n",
      "if (A509 > 67.23) and (A104 <= 1.725) and (A175 > 62.865) and (A519 > 121.405) and (A175 > 72.9) and (A401 > -40.98) and (A109 <= 9.715) and (A143 > -556.37) and (A111 > -38.585) and (A143 <= 1238.235) and (A51A <= 273.62) and (A115 > -23.015) and (A509 > 102.595) and (A401 <= 14.315) and (A104 <= 1.605) and (A106 > -36.795) and (A115 <= 2.83) and (A111 > 7.095) and (A105 > 10.765) and (A51A > 38.415) and (A111 > 10.175) and (A143 > 602.04) then response: 3.036 | based on 6 samples\n",
      "if (A509 > 67.23) and (A104 > 1.725) and (A401 <= 34.855) and (A517 > 4.085) and (A115 > 3.105) and (A401 <= 14.63) and (A116 > 36.59) and (A51A <= 113.08) and (A111 <= 58.16) and (A51A <= 95.81) and (A517 > 7.235) and (A109 > 9.11) and (A116 > 47.445) and (A517 > 18.305) then response: 3.036 | based on 6 samples\n",
      "if (A509 > 67.23) and (A104 <= 1.725) and (A175 > 62.865) and (A519 > 121.405) and (A175 > 72.9) and (A401 > -40.98) and (A109 <= 9.715) and (A143 > -556.37) and (A111 > -38.585) and (A143 <= 1238.235) and (A51A > 273.62) then response: 3.036 | based on 6 samples\n",
      "if (A509 > 67.23) and (A104 <= 1.725) and (A175 > 62.865) and (A519 > 121.405) and (A175 > 72.9) and (A401 > -40.98) and (A109 <= 9.715) and (A143 > -556.37) and (A111 > -38.585) and (A143 <= 1238.235) and (A51A <= 273.62) and (A115 > -23.015) and (A509 > 102.595) and (A401 <= 14.315) and (A104 <= 1.605) and (A106 > -36.795) and (A115 <= 2.83) and (A111 <= 7.095) and (A145 > -33.97) and (A509 > 116.745) and (A104 > -107.525) and (A517 > 1.04) and (A517 <= 6.375) and (A51A > 104.4) and (A143 <= 250.78) and (A511 <= 35.49) and (A519 > 134.405) and (A517 <= 5.29) and (A111 <= 4.655) and (A104 <= 0.92) and (A143 > -151.365) and (A51A <= 181.445) and (A517 <= 4.945) and (A519 > 152.605) then response: 2.53 | based on 5 samples\n",
      "if (A509 > 67.23) and (A104 > 1.725) and (A401 > 34.855) and (A105 <= 31.655) and (A143 > 115.43) and (A115 > 2.41) and (A509 > 76.2) and (A116 <= 27.21) then response: 2.53 | based on 5 samples\n",
      "if (A509 <= 67.23) and (A401 <= -23.485) and (A51A > 39.505) and (A51A <= 1898.98) and (A519 <= 60.185) and (A115 <= 5.98) and (A143 <= 136.34) and (A105 > 4.465) and (A143 > -652.03) and (A111 > -15.03) and (A105 <= 27.79) and (A104 <= 3.275) and (A116 > 68.815) and (A111 > -7.8) and (A509 <= 46.235) and (A511 <= 17.03) and (A401 <= -24.41) and (A143 > -229.665) and (A175 > 20.545) and (A401 <= -29.015) and (A115 <= 1.03) and (A509 <= 36.8) and (A111 <= 113.88) and (A144 > -20.255) then response: 0.0 | based on 5 samples\n",
      "if (A509 > 67.23) and (A104 <= 1.725) and (A175 > 62.865) and (A519 > 121.405) and (A175 > 72.9) and (A401 > -40.98) and (A109 <= 9.715) and (A143 > -556.37) and (A111 > -38.585) and (A143 <= 1238.235) and (A51A <= 273.62) and (A115 > -23.015) and (A509 <= 102.595) then response: 2.53 | based on 5 samples\n",
      "if (A509 > 67.23) and (A104 > 1.725) and (A401 <= 34.855) and (A517 <= 4.085) and (A104 <= 4.835) and (A116 > 69.13) and (A116 <= 90.45) and (A111 <= 4.17) and (A143 <= 172.11) and (A140 <= 1.55) then response: 2.53 | based on 5 samples\n",
      "if (A509 <= 67.23) and (A401 > -23.485) and (A401 > 85.065) and (A145 <= 5.06) and (A401 <= 137.095) then response: 2.53 | based on 5 samples\n",
      "if (A509 > 67.23) and (A104 > 1.725) and (A401 <= 34.855) and (A517 > 4.085) and (A115 > 3.105) and (A401 <= 14.63) and (A116 > 36.59) and (A51A <= 113.08) and (A111 <= 58.16) and (A51A <= 95.81) and (A517 > 7.235) and (A109 > 9.11) and (A116 > 47.445) and (A517 <= 18.305) and (A51A <= 73.975) and (A145 <= 70.495) and (A143 > 57.77) and (A511 <= 18.485) and (A115 > 3.265) and (A519 > 71.03) and (A104 > 4.865) and (A51A <= 43.42) and (A51A > 21.125) then response: 2.53 | based on 5 samples\n",
      "if (A509 > 67.23) and (A104 <= 1.725) and (A175 > 62.865) and (A519 > 121.405) and (A175 > 72.9) and (A401 > -40.98) and (A109 <= 9.715) and (A143 > -556.37) and (A111 > -38.585) and (A143 <= 1238.235) and (A51A <= 273.62) and (A115 > -23.015) and (A509 > 102.595) and (A401 <= 14.315) and (A104 <= 1.605) and (A106 > -36.795) and (A115 <= 2.83) and (A111 <= 7.095) and (A145 > -33.97) and (A509 > 116.745) and (A104 > -107.525) and (A517 > 1.04) and (A517 <= 6.375) and (A51A > 104.4) and (A143 <= 250.78) and (A511 <= 35.49) and (A519 > 134.405) and (A517 <= 5.29) and (A111 <= 4.655) and (A104 <= 0.92) and (A143 > -151.365) and (A51A > 181.445) and (A511 <= 1.155) then response: 0.0 | based on 5 samples\n",
      "if (A509 > 67.23) and (A104 <= 1.725) and (A175 > 62.865) and (A519 > 121.405) and (A175 > 72.9) and (A401 > -40.98) and (A109 <= 9.715) and (A143 > -556.37) and (A111 > -38.585) and (A143 <= 1238.235) and (A51A <= 273.62) and (A115 > -23.015) and (A509 > 102.595) and (A401 <= 14.315) and (A104 <= 1.605) and (A106 > -36.795) and (A115 <= 2.83) and (A111 <= 7.095) and (A145 <= -33.97) then response: 2.53 | based on 5 samples\n",
      "if (A509 > 67.23) and (A104 > 1.725) and (A401 <= 34.855) and (A517 > 4.085) and (A115 > 3.105) and (A401 <= 14.63) and (A116 > 36.59) and (A51A <= 113.08) and (A111 <= 58.16) and (A51A <= 95.81) and (A517 > 7.235) and (A109 > 9.11) and (A116 > 47.445) and (A517 <= 18.305) and (A51A > 73.975) then response: 2.53 | based on 5 samples\n",
      "if (A509 > 67.23) and (A104 <= 1.725) and (A175 > 62.865) and (A519 > 121.405) and (A175 > 72.9) and (A401 > -40.98) and (A109 <= 9.715) and (A143 > -556.37) and (A111 > -38.585) and (A143 <= 1238.235) and (A51A <= 273.62) and (A115 > -23.015) and (A509 > 102.595) and (A401 <= 14.315) and (A104 <= 1.605) and (A106 > -36.795) and (A115 <= 2.83) and (A111 <= 7.095) and (A145 > -33.97) and (A509 > 116.745) and (A104 > -107.525) and (A517 > 1.04) and (A517 > 6.375) and (A105 <= 2.795) then response: 2.53 | based on 5 samples\n",
      "if (A509 > 67.23) and (A104 > 1.725) and (A401 > 34.855) and (A105 <= 31.655) and (A143 > 115.43) and (A115 > 2.41) and (A509 <= 76.2) then response: 2.53 | based on 5 samples\n",
      "if (A509 > 67.23) and (A104 > 1.725) and (A401 <= 34.855) and (A517 > 4.085) and (A115 > 3.105) and (A401 <= 14.63) and (A116 > 36.59) and (A51A <= 113.08) and (A111 <= 58.16) and (A51A > 95.81) and (A145 <= 25.605) and (A511 <= 1.08) and (A517 <= 5.63) then response: 0.0 | based on 5 samples\n",
      "if (A509 <= 67.23) and (A401 > -23.485) and (A401 <= 85.065) and (A143 > 112.87) and (A143 <= 128.565) and (A140 <= 4.935) and (A140 > 4.2) and (A111 <= 13.295) and (A401 > 16.565) then response: 2.024 | based on 4 samples\n",
      "if (A509 > 67.23) and (A104 <= 1.725) and (A175 > 62.865) and (A519 > 121.405) and (A175 > 72.9) and (A401 > -40.98) and (A109 <= 9.715) and (A143 > -556.37) and (A111 > -38.585) and (A143 <= 1238.235) and (A51A <= 273.62) and (A115 > -23.015) and (A509 > 102.595) and (A401 <= 14.315) and (A104 <= 1.605) and (A106 > -36.795) and (A115 <= 2.83) and (A111 <= 7.095) and (A145 > -33.97) and (A509 > 116.745) and (A104 > -107.525) and (A517 > 1.04) and (A517 <= 6.375) and (A51A > 104.4) and (A143 <= 250.78) and (A511 > 35.49) then response: 2.024 | based on 4 samples\n",
      "if (A509 > 67.23) and (A104 <= 1.725) and (A175 > 62.865) and (A519 > 121.405) and (A175 > 72.9) and (A401 > -40.98) and (A109 <= 9.715) and (A143 > -556.37) and (A111 > -38.585) and (A143 <= 1238.235) and (A51A <= 273.62) and (A115 > -23.015) and (A509 > 102.595) and (A401 <= 14.315) and (A104 <= 1.605) and (A106 > -36.795) and (A115 <= 2.83) and (A111 <= 7.095) and (A145 > -33.97) and (A509 > 116.745) and (A104 > -107.525) and (A517 > 1.04) and (A517 > 6.375) and (A105 > 2.795) and (A51A <= 105.965) and (A116 > 26.795) and (A401 > -35.525) and (A109 > -34.165) and (A517 <= 9.92) and (A105 <= 17.825) and (A519 > 128.325) and (A143 <= -63.55) then response: 0.0 | based on 4 samples\n",
      "if (A509 <= 67.23) and (A401 <= -23.485) and (A51A > 39.505) and (A51A <= 1898.98) and (A519 <= 60.185) and (A115 <= 5.98) and (A143 <= 136.34) and (A105 > 4.465) and (A143 > -652.03) and (A111 <= -15.03) and (A509 > 14.935) and (A511 > 1.71) then response: 2.024 | based on 4 samples\n",
      "if (A509 > 67.23) and (A104 <= 1.725) and (A175 > 62.865) and (A519 > 121.405) and (A175 > 72.9) and (A401 > -40.98) and (A109 <= 9.715) and (A143 > -556.37) and (A111 > -38.585) and (A143 <= 1238.235) and (A51A <= 273.62) and (A115 > -23.015) and (A509 > 102.595) and (A401 <= 14.315) and (A104 <= 1.605) and (A106 > -36.795) and (A115 <= 2.83) and (A111 <= 7.095) and (A145 > -33.97) and (A509 <= 116.745) then response: 2.024 | based on 4 samples\n",
      "if (A509 > 67.23) and (A104 > 1.725) and (A401 > 34.855) and (A105 <= 31.655) and (A143 > 115.43) and (A115 > 2.41) and (A509 > 76.2) and (A116 > 27.21) and (A401 > 35.86) and (A111 > 32.575) then response: 2.024 | based on 4 samples\n",
      "if (A509 > 67.23) and (A104 <= 1.725) and (A175 > 62.865) and (A519 > 121.405) and (A175 > 72.9) and (A401 > -40.98) and (A109 <= 9.715) and (A143 > -556.37) and (A111 > -38.585) and (A143 <= 1238.235) and (A51A <= 273.62) and (A115 > -23.015) and (A509 > 102.595) and (A401 <= 14.315) and (A104 <= 1.605) and (A106 <= -36.795) then response: 2.024 | based on 4 samples\n",
      "if (A509 > 67.23) and (A104 <= 1.725) and (A175 > 62.865) and (A519 > 121.405) and (A175 > 72.9) and (A401 > -40.98) and (A109 <= 9.715) and (A143 > -556.37) and (A111 > -38.585) and (A143 <= 1238.235) and (A51A <= 273.62) and (A115 > -23.015) and (A509 > 102.595) and (A401 <= 14.315) and (A104 <= 1.605) and (A106 > -36.795) and (A115 <= 2.83) and (A111 > 7.095) and (A105 > 10.765) and (A51A > 38.415) and (A111 > 10.175) and (A143 <= 602.04) and (A51A <= 164.565) and (A106 > -19.425) and (A175 > 89.465) and (A116 <= 103.24) and (A140 <= 2.75) and (A109 <= 5.59) and (A105 <= 30.8) and (A517 > 3.55) and (A511 > 5.405) then response: 0.0 | based on 4 samples\n",
      "if (A509 > 67.23) and (A104 <= 1.725) and (A175 > 62.865) and (A519 > 121.405) and (A175 > 72.9) and (A401 > -40.98) and (A109 <= 9.715) and (A143 > -556.37) and (A111 > -38.585) and (A143 <= 1238.235) and (A51A <= 273.62) and (A115 > -23.015) and (A509 > 102.595) and (A401 <= 14.315) and (A104 > 1.605) then response: 2.024 | based on 4 samples\n",
      "if (A509 > 67.23) and (A104 > 1.725) and (A401 > 34.855) and (A105 <= 31.655) and (A143 > 115.43) and (A115 > 2.41) and (A509 > 76.2) and (A116 > 27.21) and (A401 <= 35.86) then response: 2.024 | based on 4 samples\n",
      "if (A509 <= 67.23) and (A401 > -23.485) and (A401 <= 85.065) and (A143 <= 112.87) and (A51A > 7085583.0) and (A517 > 0.01) then response: 2.024 | based on 4 samples\n",
      "if (A509 > 67.23) and (A104 <= 1.725) and (A175 > 62.865) and (A519 <= 121.405) and (A144 <= 5.225) and (A143 > -63.715) and (A116 > 37.075) and (A106 <= 6.64) and (A106 > 3.165) and (A401 > -14.065) and (A51A <= 376.335) and (A143 <= 1708.78) and (A517 > 4.47) then response: 0.0 | based on 4 samples\n",
      "if (A509 > 67.23) and (A104 > 1.725) and (A401 <= 34.855) and (A517 > 4.085) and (A115 > 3.105) and (A401 <= 14.63) and (A116 > 36.59) and (A51A <= 113.08) and (A111 <= 58.16) and (A51A <= 95.81) and (A517 > 7.235) and (A109 > 9.11) and (A116 > 47.445) and (A517 <= 18.305) and (A51A <= 73.975) and (A145 > 70.495) then response: 2.024 | based on 4 samples\n",
      "if (A509 > 67.23) and (A104 > 1.725) and (A401 <= 34.855) and (A517 > 4.085) and (A115 > 3.105) and (A401 <= 14.63) and (A116 > 36.59) and (A51A <= 113.08) and (A111 <= 58.16) and (A51A > 95.81) and (A145 <= 25.605) and (A511 > 1.08) then response: 1.518 | based on 3 samples\n",
      "if (A509 > 67.23) and (A104 <= 1.725) and (A175 > 62.865) and (A519 > 121.405) and (A175 > 72.9) and (A401 > -40.98) and (A109 <= 9.715) and (A143 > -556.37) and (A111 > -38.585) and (A143 <= 1238.235) and (A51A <= 273.62) and (A115 > -23.015) and (A509 > 102.595) and (A401 <= 14.315) and (A104 <= 1.605) and (A106 > -36.795) and (A115 <= 2.83) and (A111 <= 7.095) and (A145 > -33.97) and (A509 > 116.745) and (A104 > -107.525) and (A517 > 1.04) and (A517 <= 6.375) and (A51A > 104.4) and (A143 <= 250.78) and (A511 <= 35.49) and (A519 <= 134.405) then response: 1.518 | based on 3 samples\n",
      "if (A509 > 67.23) and (A104 > 1.725) and (A401 <= 34.855) and (A517 > 4.085) and (A115 > 3.105) and (A401 <= 14.63) and (A116 > 36.59) and (A51A <= 113.08) and (A111 <= 58.16) and (A51A <= 95.81) and (A517 > 7.235) and (A109 > 9.11) and (A116 > 47.445) and (A517 <= 18.305) and (A51A <= 73.975) and (A145 <= 70.495) and (A143 > 57.77) and (A511 <= 18.485) and (A115 > 3.265) and (A519 > 71.03) and (A104 > 4.865) and (A51A > 43.42) and (A509 <= 151.23) then response: 0.0 | based on 3 samples\n",
      "if (A509 <= 67.23) and (A401 > -23.485) and (A401 <= 85.065) and (A143 <= 112.87) and (A51A <= 7085583.0) and (A144 <= -8.39) and (A144 > -9.065) and (A51A <= 483.08) and (A175 > 61.29) then response: 1.518 | based on 3 samples\n",
      "if (A509 <= 67.23) and (A401 > -23.485) and (A401 > 85.065) and (A145 > 5.06) and (A105 > 49.02) and (A51A <= 155.665) and (A111 <= 28.855) and (A175 <= 37.21) then response: 1.518 | based on 3 samples\n",
      "if (A509 > 67.23) and (A104 > 1.725) and (A401 > 34.855) and (A105 <= 31.655) and (A143 > 115.43) and (A115 > 2.41) and (A509 > 76.2) and (A116 > 27.21) and (A401 > 35.86) and (A111 <= 32.575) and (A511 <= 28.785) and (A104 <= 24.015) and (A144 <= 14.75) and (A517 <= 2.04) and (A111 <= 0.585) and (A509 <= 299.34) and (A51A <= 304.155) then response: 0.0 | based on 3 samples\n",
      "if (A509 <= 67.23) and (A401 > -23.485) and (A401 <= 85.065) and (A143 > 112.87) and (A143 <= 128.565) and (A140 <= 4.935) and (A140 > 4.2) and (A111 <= 13.295) and (A401 <= 16.565) and (A115 > 3.055) and (A519 <= 60.95) and (A144 > 5.28) and (A51A <= 377.44) then response: 0.0 | based on 3 samples\n",
      "if (A509 <= 67.23) and (A401 > -23.485) and (A401 > 85.065) and (A145 <= 5.06) and (A401 > 137.095) and (A51A <= 6615.285) and (A115 > -13.91) and (A105 <= 7.185) then response: 0.0 | based on 3 samples\n",
      "if (A509 > 67.23) and (A104 > 1.725) and (A401 > 34.855) and (A105 <= 31.655) and (A143 > 115.43) and (A115 > 2.41) and (A509 > 76.2) and (A116 > 27.21) and (A401 > 35.86) and (A111 <= 32.575) and (A511 <= 28.785) and (A104 <= 24.015) and (A144 <= 14.75) and (A517 <= 2.04) and (A111 <= 0.585) and (A509 <= 299.34) and (A51A > 304.155) and (A143 > 115.95) then response: 1.518 | based on 3 samples\n",
      "if (A509 <= 67.23) and (A401 <= -23.485) and (A51A > 39.505) and (A51A <= 1898.98) and (A519 <= 60.185) and (A115 <= 5.98) and (A143 <= 136.34) and (A105 > 4.465) and (A143 > -652.03) and (A111 > -15.03) and (A105 <= 27.79) and (A104 <= 3.275) and (A116 > 68.815) and (A111 > -7.8) and (A509 <= 46.235) and (A511 <= 17.03) and (A401 <= -24.41) and (A143 > -229.665) and (A175 > 20.545) and (A401 <= -29.015) and (A115 <= 1.03) and (A509 <= 36.8) and (A111 <= 113.88) and (A144 <= -20.255) and (A115 > -19.21) then response: 1.518 | based on 3 samples\n",
      "if (A509 > 67.23) and (A104 <= 1.725) and (A175 > 62.865) and (A519 > 121.405) and (A175 > 72.9) and (A401 > -40.98) and (A109 <= 9.715) and (A143 > -556.37) and (A111 > -38.585) and (A143 <= 1238.235) and (A51A <= 273.62) and (A115 > -23.015) and (A509 > 102.595) and (A401 <= 14.315) and (A104 <= 1.605) and (A106 > -36.795) and (A115 <= 2.83) and (A111 <= 7.095) and (A145 > -33.97) and (A509 > 116.745) and (A104 > -107.525) and (A517 > 1.04) and (A517 > 6.375) and (A105 > 2.795) and (A51A <= 105.965) and (A116 > 26.795) and (A401 > -35.525) and (A109 > -34.165) and (A517 <= 9.92) and (A105 > 17.825) then response: 1.518 | based on 3 samples\n",
      "if (A509 > 67.23) and (A104 <= 1.725) and (A175 > 62.865) and (A519 > 121.405) and (A175 > 72.9) and (A401 > -40.98) and (A109 <= 9.715) and (A143 > -556.37) and (A111 > -38.585) and (A143 <= 1238.235) and (A51A <= 273.62) and (A115 > -23.015) and (A509 > 102.595) and (A401 <= 14.315) and (A104 <= 1.605) and (A106 > -36.795) and (A115 <= 2.83) and (A111 > 7.095) and (A105 > 10.765) and (A51A > 38.415) and (A111 > 10.175) and (A143 <= 602.04) and (A51A <= 164.565) and (A106 <= -19.425) then response: 1.518 | based on 3 samples\n",
      "if (A509 > 67.23) and (A104 <= 1.725) and (A175 > 62.865) and (A519 > 121.405) and (A175 > 72.9) and (A401 > -40.98) and (A109 <= 9.715) and (A143 > -556.37) and (A111 > -38.585) and (A143 <= 1238.235) and (A51A <= 273.62) and (A115 > -23.015) and (A509 > 102.595) and (A401 <= 14.315) and (A104 <= 1.605) and (A106 > -36.795) and (A115 <= 2.83) and (A111 > 7.095) and (A105 > 10.765) and (A51A > 38.415) and (A111 > 10.175) and (A143 <= 602.04) and (A51A <= 164.565) and (A106 > -19.425) and (A175 > 89.465) and (A116 <= 103.24) and (A140 <= 2.75) and (A109 <= 5.59) and (A105 <= 30.8) and (A517 > 3.55) and (A511 <= 5.405) and (A511 > 0.285) then response: 1.518 | based on 3 samples\n",
      "if (A509 > 67.23) and (A104 <= 1.725) and (A175 > 62.865) and (A519 > 121.405) and (A175 > 72.9) and (A401 > -40.98) and (A109 <= 9.715) and (A143 > -556.37) and (A111 > -38.585) and (A143 <= 1238.235) and (A51A <= 273.62) and (A115 > -23.015) and (A509 > 102.595) and (A401 <= 14.315) and (A104 <= 1.605) and (A106 > -36.795) and (A115 <= 2.83) and (A111 > 7.095) and (A105 > 10.765) and (A51A > 38.415) and (A111 > 10.175) and (A143 <= 602.04) and (A51A > 164.565) then response: 1.518 | based on 3 samples\n",
      "if (A509 <= 67.23) and (A401 <= -23.485) and (A51A > 39.505) and (A51A <= 1898.98) and (A519 <= 60.185) and (A115 <= 5.98) and (A143 <= 136.34) and (A105 > 4.465) and (A143 > -652.03) and (A111 > -15.03) and (A105 <= 27.79) and (A104 <= 3.275) and (A116 > 68.815) and (A111 > -7.8) and (A509 <= 46.235) and (A511 > 17.03) then response: 1.518 | based on 3 samples\n",
      "if (A509 > 67.23) and (A104 <= 1.725) and (A175 > 62.865) and (A519 > 121.405) and (A175 > 72.9) and (A401 > -40.98) and (A109 <= 9.715) and (A143 > -556.37) and (A111 > -38.585) and (A143 <= 1238.235) and (A51A <= 273.62) and (A115 > -23.015) and (A509 > 102.595) and (A401 > 14.315) and (A517 > 14.135) and (A401 <= 30.635) then response: 1.518 | based on 3 samples\n",
      "if (A509 > 67.23) and (A104 <= 1.725) and (A175 > 62.865) and (A519 > 121.405) and (A175 > 72.9) and (A401 > -40.98) and (A109 <= 9.715) and (A143 > -556.37) and (A111 > -38.585) and (A143 <= 1238.235) and (A51A <= 273.62) and (A115 > -23.015) and (A509 > 102.595) and (A401 <= 14.315) and (A104 <= 1.605) and (A106 > -36.795) and (A115 <= 2.83) and (A111 > 7.095) and (A105 > 10.765) and (A51A > 38.415) and (A111 > 10.175) and (A143 <= 602.04) and (A51A <= 164.565) and (A106 > -19.425) and (A175 > 89.465) and (A116 <= 103.24) and (A140 <= 2.75) and (A109 <= 5.59) and (A105 <= 30.8) and (A517 > 3.55) and (A511 <= 5.405) and (A511 <= 0.285) and (A104 <= -0.785) and (A116 > 19.52) and (A111 > 12.405) and (A51A > 56.57) then response: 1.518 | based on 3 samples\n",
      "if (A509 > 67.23) and (A104 > 1.725) and (A401 > 34.855) and (A105 <= 31.655) and (A143 > 115.43) and (A115 > 2.41) and (A509 > 76.2) and (A116 > 27.21) and (A401 > 35.86) and (A111 <= 32.575) and (A511 <= 28.785) and (A104 > 24.015) then response: 1.518 | based on 3 samples\n",
      "if (A509 > 67.23) and (A104 > 1.725) and (A401 <= 34.855) and (A517 > 4.085) and (A115 > 3.105) and (A401 <= 14.63) and (A116 > 36.59) and (A51A <= 113.08) and (A111 <= 58.16) and (A51A <= 95.81) and (A517 > 7.235) and (A109 > 9.11) and (A116 > 47.445) and (A517 <= 18.305) and (A51A <= 73.975) and (A145 <= 70.495) and (A143 <= 57.77) then response: 1.518 | based on 3 samples\n",
      "if (A509 > 67.23) and (A104 <= 1.725) and (A175 > 62.865) and (A519 > 121.405) and (A175 > 72.9) and (A401 > -40.98) and (A109 <= 9.715) and (A143 > -556.37) and (A111 > -38.585) and (A143 <= 1238.235) and (A51A <= 273.62) and (A115 > -23.015) and (A509 > 102.595) and (A401 <= 14.315) and (A104 <= 1.605) and (A106 > -36.795) and (A115 <= 2.83) and (A111 <= 7.095) and (A145 > -33.97) and (A509 > 116.745) and (A104 > -107.525) and (A517 > 1.04) and (A517 > 6.375) and (A105 > 2.795) and (A51A > 105.965) then response: 1.518 | based on 3 samples\n",
      "if (A509 > 67.23) and (A104 <= 1.725) and (A175 > 62.865) and (A519 > 121.405) and (A175 > 72.9) and (A401 > -40.98) and (A109 <= 9.715) and (A143 > -556.37) and (A111 > -38.585) and (A143 <= 1238.235) and (A51A <= 273.62) and (A115 > -23.015) and (A509 > 102.595) and (A401 <= 14.315) and (A104 <= 1.605) and (A106 > -36.795) and (A115 <= 2.83) and (A111 > 7.095) and (A105 > 10.765) and (A51A > 38.415) and (A111 > 10.175) and (A143 <= 602.04) and (A51A <= 164.565) and (A106 > -19.425) and (A175 > 89.465) and (A116 <= 103.24) and (A140 <= 2.75) and (A109 <= 5.59) and (A105 <= 30.8) and (A517 > 3.55) and (A511 <= 5.405) and (A511 <= 0.285) and (A104 <= -0.785) and (A116 > 19.52) and (A111 <= 12.405) and (A116 > 23.23) then response: 0.0 | based on 3 samples\n",
      "if (A509 > 67.23) and (A104 <= 1.725) and (A175 > 62.865) and (A519 > 121.405) and (A175 > 72.9) and (A401 > -40.98) and (A109 <= 9.715) and (A143 > -556.37) and (A111 > -38.585) and (A143 <= 1238.235) and (A51A <= 273.62) and (A115 > -23.015) and (A509 > 102.595) and (A401 <= 14.315) and (A104 <= 1.605) and (A106 > -36.795) and (A115 > 2.83) then response: 1.518 | based on 3 samples\n",
      "if (A509 > 67.23) and (A104 > 1.725) and (A401 > 34.855) and (A105 <= 31.655) and (A143 > 115.43) and (A115 > 2.41) and (A509 > 76.2) and (A116 > 27.21) and (A401 > 35.86) and (A111 <= 32.575) and (A511 > 28.785) then response: 1.518 | based on 3 samples\n",
      "if (A509 <= 67.23) and (A401 <= -23.485) and (A51A > 39.505) and (A51A <= 1898.98) and (A519 <= 60.185) and (A115 <= 5.98) and (A143 <= 136.34) and (A105 > 4.465) and (A143 > -652.03) and (A111 > -15.03) and (A105 <= 27.79) and (A104 <= 3.275) and (A116 > 68.815) and (A111 > -7.8) and (A509 <= 46.235) and (A511 <= 17.03) and (A401 <= -24.41) and (A143 > -229.665) and (A175 > 20.545) and (A401 <= -29.015) and (A115 > 1.03) then response: 1.518 | based on 3 samples\n",
      "if (A509 <= 67.23) and (A401 > -23.485) and (A401 <= 85.065) and (A143 > 112.87) and (A143 <= 128.565) and (A140 <= 4.935) and (A140 > 4.2) and (A111 <= 13.295) and (A401 <= 16.565) and (A115 <= 3.055) then response: 1.012 | based on 2 samples\n",
      "if (A509 > 67.23) and (A104 <= 1.725) and (A175 > 62.865) and (A519 <= 121.405) and (A144 <= 5.225) and (A143 > -63.715) and (A116 > 37.075) and (A106 <= 6.64) and (A106 <= 3.165) and (A105 <= 5.59) and (A116 <= 71.21) then response: 0.0 | based on 2 samples\n",
      "if (A509 > 67.23) and (A104 <= 1.725) and (A175 > 62.865) and (A519 > 121.405) and (A175 > 72.9) and (A401 > -40.98) and (A109 <= 9.715) and (A143 > -556.37) and (A111 > -38.585) and (A143 <= 1238.235) and (A51A <= 273.62) and (A115 > -23.015) and (A509 > 102.595) and (A401 <= 14.315) and (A104 <= 1.605) and (A106 > -36.795) and (A115 <= 2.83) and (A111 > 7.095) and (A105 > 10.765) and (A51A > 38.415) and (A111 > 10.175) and (A143 <= 602.04) and (A51A <= 164.565) and (A106 > -19.425) and (A175 > 89.465) and (A116 > 103.24) then response: 1.012 | based on 2 samples\n",
      "if (A509 > 67.23) and (A104 <= 1.725) and (A175 > 62.865) and (A519 > 121.405) and (A175 > 72.9) and (A401 > -40.98) and (A109 <= 9.715) and (A143 > -556.37) and (A111 > -38.585) and (A143 <= 1238.235) and (A51A <= 273.62) and (A115 > -23.015) and (A509 > 102.595) and (A401 <= 14.315) and (A104 <= 1.605) and (A106 > -36.795) and (A115 <= 2.83) and (A111 <= 7.095) and (A145 > -33.97) and (A509 > 116.745) and (A104 > -107.525) and (A517 > 1.04) and (A517 <= 6.375) and (A51A > 104.4) and (A143 <= 250.78) and (A511 <= 35.49) and (A519 > 134.405) and (A517 <= 5.29) and (A111 > 4.655) then response: 1.012 | based on 2 samples\n",
      "if (A509 <= 67.23) and (A401 <= -23.485) and (A51A > 39.505) and (A51A <= 1898.98) and (A519 <= 60.185) and (A115 <= 5.98) and (A143 <= 136.34) and (A105 > 4.465) and (A143 > -652.03) and (A111 > -15.03) and (A105 <= 27.79) and (A104 <= 3.275) and (A116 > 68.815) and (A111 > -7.8) and (A509 <= 46.235) and (A511 <= 17.03) and (A401 <= -24.41) and (A143 > -229.665) and (A175 <= 20.545) then response: 1.012 | based on 2 samples\n",
      "if (A509 > 67.23) and (A104 > 1.725) and (A401 <= 34.855) and (A517 <= 4.085) and (A104 <= 4.835) and (A116 > 69.13) and (A116 <= 90.45) and (A111 <= 4.17) and (A143 <= 172.11) and (A140 > 1.55) and (A104 > 2.79) and (A519 > 73.61) and (A401 > -17.625) and (A140 <= 4.02) and (A511 > 0.95) then response: 0.0 | based on 2 samples\n",
      "if (A509 <= 67.23) and (A401 > -23.485) and (A401 > 85.065) and (A145 > 5.06) and (A105 > 49.02) and (A51A <= 155.665) and (A111 <= 28.855) and (A175 > 37.21) and (A106 > 40.57) then response: 1.012 | based on 2 samples\n",
      "if (A509 <= 67.23) and (A401 > -23.485) and (A401 > 85.065) and (A145 > 5.06) and (A105 > 49.02) and (A51A <= 155.665) and (A111 <= 28.855) and (A175 > 37.21) and (A106 <= 40.57) then response: 0.0 | based on 2 samples\n",
      "if (A509 <= 67.23) and (A401 <= -23.485) and (A51A > 39.505) and (A51A <= 1898.98) and (A519 <= 60.185) and (A115 <= 5.98) and (A143 <= 136.34) and (A105 > 4.465) and (A143 > -652.03) and (A111 > -15.03) and (A105 <= 27.79) and (A104 <= 3.275) and (A116 > 68.815) and (A111 > -7.8) and (A509 <= 46.235) and (A511 <= 17.03) and (A401 <= -24.41) and (A143 > -229.665) and (A175 > 20.545) and (A401 <= -29.015) and (A115 <= 1.03) and (A509 > 36.8) then response: 1.012 | based on 2 samples\n",
      "if (A509 > 67.23) and (A104 <= 1.725) and (A175 > 62.865) and (A519 > 121.405) and (A175 > 72.9) and (A401 > -40.98) and (A109 <= 9.715) and (A143 > -556.37) and (A111 > -38.585) and (A143 <= 1238.235) and (A51A <= 273.62) and (A115 > -23.015) and (A509 > 102.595) and (A401 > 14.315) and (A517 > 14.135) and (A401 > 30.635) and (A175 > 202.255) then response: 0.0 | based on 2 samples\n",
      "if (A509 <= 67.23) and (A401 > -23.485) and (A401 > 85.065) and (A145 <= 5.06) and (A401 > 137.095) and (A51A <= 6615.285) and (A115 > -13.91) and (A105 > 7.185) and (A143 > 6.66) then response: 1.012 | based on 2 samples\n",
      "if (A509 <= 67.23) and (A401 > -23.485) and (A401 <= 85.065) and (A143 > 112.87) and (A143 <= 128.565) and (A140 <= 4.935) and (A140 > 4.2) and (A111 <= 13.295) and (A401 <= 16.565) and (A115 > 3.055) and (A519 <= 60.95) and (A144 > 5.28) and (A51A > 377.44) and (A145 > 8.345) then response: 1.012 | based on 2 samples\n",
      "if (A509 > 67.23) and (A104 > 1.725) and (A401 <= 34.855) and (A517 <= 4.085) and (A104 <= 4.835) and (A116 > 69.13) and (A116 <= 90.45) and (A111 <= 4.17) and (A143 <= 172.11) and (A140 > 1.55) and (A104 <= 2.79) then response: 1.012 | based on 2 samples\n",
      "if (A509 > 67.23) and (A104 > 1.725) and (A401 > 34.855) and (A105 <= 31.655) and (A143 > 115.43) and (A115 > 2.41) and (A509 > 76.2) and (A116 > 27.21) and (A401 > 35.86) and (A111 <= 32.575) and (A511 <= 28.785) and (A104 <= 24.015) and (A144 <= 14.75) and (A517 <= 2.04) and (A111 <= 0.585) and (A509 > 299.34) then response: 1.012 | based on 2 samples\n",
      "if (A509 <= 67.23) and (A401 <= -23.485) and (A51A > 39.505) and (A51A <= 1898.98) and (A519 <= 60.185) and (A115 <= 5.98) and (A143 <= 136.34) and (A105 > 4.465) and (A143 > -652.03) and (A111 > -15.03) and (A105 <= 27.79) and (A104 <= 3.275) and (A116 > 68.815) and (A111 > -7.8) and (A509 <= 46.235) and (A511 <= 17.03) and (A401 > -24.41) then response: 1.012 | based on 2 samples\n",
      "if (A509 <= 67.23) and (A401 > -23.485) and (A401 <= 85.065) and (A143 <= 112.87) and (A51A <= 7085583.0) and (A144 <= -8.39) and (A144 > -9.065) and (A51A > 483.08) then response: 0.0 | based on 2 samples\n",
      "if (A509 <= 67.23) and (A401 <= -23.485) and (A51A > 39.505) and (A51A <= 1898.98) and (A519 <= 60.185) and (A115 <= 5.98) and (A143 <= 136.34) and (A105 > 4.465) and (A143 > -652.03) and (A111 > -15.03) and (A105 <= 27.79) and (A104 <= 3.275) and (A116 > 68.815) and (A111 > -7.8) and (A509 <= 46.235) and (A511 <= 17.03) and (A401 <= -24.41) and (A143 <= -229.665) then response: 1.012 | based on 2 samples\n",
      "if (A509 > 67.23) and (A104 <= 1.725) and (A175 > 62.865) and (A519 > 121.405) and (A175 > 72.9) and (A401 > -40.98) and (A109 <= 9.715) and (A143 > -556.37) and (A111 > -38.585) and (A143 <= 1238.235) and (A51A <= 273.62) and (A115 > -23.015) and (A509 > 102.595) and (A401 <= 14.315) and (A104 <= 1.605) and (A106 > -36.795) and (A115 <= 2.83) and (A111 <= 7.095) and (A145 > -33.97) and (A509 > 116.745) and (A104 > -107.525) and (A517 > 1.04) and (A517 > 6.375) and (A105 > 2.795) and (A51A <= 105.965) and (A116 <= 26.795) and (A116 <= 16.655) then response: 0.0 | based on 2 samples\n",
      "if (A509 > 67.23) and (A104 > 1.725) and (A401 > 34.855) and (A105 <= 31.655) and (A143 <= 115.43) and (A111 <= -51.87) and (A143 > -44.055) then response: 0.0 | based on 2 samples\n",
      "if (A509 > 67.23) and (A104 <= 1.725) and (A175 > 62.865) and (A519 > 121.405) and (A175 > 72.9) and (A401 > -40.98) and (A109 <= 9.715) and (A143 > -556.37) and (A111 > -38.585) and (A143 <= 1238.235) and (A51A <= 273.62) and (A115 > -23.015) and (A509 > 102.595) and (A401 <= 14.315) and (A104 <= 1.605) and (A106 > -36.795) and (A115 <= 2.83) and (A111 > 7.095) and (A105 > 10.765) and (A51A > 38.415) and (A111 > 10.175) and (A143 <= 602.04) and (A51A <= 164.565) and (A106 > -19.425) and (A175 <= 89.465) then response: 1.012 | based on 2 samples\n",
      "if (A509 <= 67.23) and (A401 <= -23.485) and (A51A > 39.505) and (A51A <= 1898.98) and (A519 <= 60.185) and (A115 <= 5.98) and (A143 <= 136.34) and (A105 > 4.465) and (A143 > -652.03) and (A111 <= -15.03) and (A509 > 14.935) and (A511 <= 1.71) and (A517 > 0.79) and (A401 <= -48.235) then response: 1.012 | based on 2 samples\n",
      "if (A509 <= 67.23) and (A401 <= -23.485) and (A51A > 39.505) and (A51A <= 1898.98) and (A519 <= 60.185) and (A115 <= 5.98) and (A143 <= 136.34) and (A105 > 4.465) and (A143 > -652.03) and (A111 <= -15.03) and (A509 > 14.935) and (A511 <= 1.71) and (A517 <= 0.79) then response: 1.012 | based on 2 samples\n",
      "if (A509 > 67.23) and (A104 <= 1.725) and (A175 > 62.865) and (A519 > 121.405) and (A175 > 72.9) and (A401 > -40.98) and (A109 <= 9.715) and (A143 > -556.37) and (A111 > -38.585) and (A143 <= 1238.235) and (A51A <= 273.62) and (A115 > -23.015) and (A509 > 102.595) and (A401 <= 14.315) and (A104 <= 1.605) and (A106 > -36.795) and (A115 <= 2.83) and (A111 <= 7.095) and (A145 > -33.97) and (A509 > 116.745) and (A104 > -107.525) and (A517 > 1.04) and (A517 <= 6.375) and (A51A > 104.4) and (A143 <= 250.78) and (A511 <= 35.49) and (A519 > 134.405) and (A517 <= 5.29) and (A111 <= 4.655) and (A104 <= 0.92) and (A143 > -151.365) and (A51A <= 181.445) and (A517 > 4.945) then response: 0.0 | based on 2 samples\n",
      "if (A509 > 67.23) and (A104 <= 1.725) and (A175 > 62.865) and (A519 <= 121.405) and (A144 <= 5.225) and (A143 > -63.715) and (A116 > 37.075) and (A106 <= 6.64) and (A106 > 3.165) and (A401 > -14.065) and (A51A <= 376.335) and (A143 <= 1708.78) and (A517 <= 4.47) and (A140 > 2.54) then response: 0.0 | based on 2 samples\n",
      "if (A509 > 67.23) and (A104 <= 1.725) and (A175 > 62.865) and (A519 <= 121.405) and (A144 <= 5.225) and (A143 > -63.715) and (A116 > 37.075) and (A106 <= 6.64) and (A106 > 3.165) and (A401 > -14.065) and (A51A <= 376.335) and (A143 <= 1708.78) and (A517 <= 4.47) and (A140 <= 2.54) and (A140 > 2.035) then response: 1.012 | based on 2 samples\n",
      "if (A509 > 67.23) and (A104 <= 1.725) and (A175 > 62.865) and (A519 > 121.405) and (A175 > 72.9) and (A401 > -40.98) and (A109 <= 9.715) and (A143 > -556.37) and (A111 > -38.585) and (A143 <= 1238.235) and (A51A <= 273.62) and (A115 > -23.015) and (A509 > 102.595) and (A401 <= 14.315) and (A104 <= 1.605) and (A106 > -36.795) and (A115 <= 2.83) and (A111 <= 7.095) and (A145 > -33.97) and (A509 > 116.745) and (A104 > -107.525) and (A517 > 1.04) and (A517 <= 6.375) and (A51A > 104.4) and (A143 <= 250.78) and (A511 <= 35.49) and (A519 > 134.405) and (A517 > 5.29) then response: 1.012 | based on 2 samples\n",
      "if (A509 > 67.23) and (A104 <= 1.725) and (A175 > 62.865) and (A519 <= 121.405) and (A144 <= 5.225) and (A143 > -63.715) and (A116 > 37.075) and (A106 <= 6.64) and (A106 > 3.165) and (A401 <= -14.065) then response: 1.012 | based on 2 samples\n",
      "if (A509 <= 67.23) and (A401 > -23.485) and (A401 <= 85.065) and (A143 <= 112.87) and (A51A <= 7085583.0) and (A144 <= -8.39) and (A144 > -9.065) and (A51A <= 483.08) and (A175 <= 61.29) then response: 0.506 | based on 1 samples\n",
      "if (A509 <= 67.23) and (A401 > -23.485) and (A401 <= 85.065) and (A143 > 112.87) and (A143 <= 128.565) and (A140 <= 4.935) and (A140 > 4.2) and (A111 <= 13.295) and (A401 <= 16.565) and (A115 > 3.055) and (A519 > 60.95) then response: 0.506 | based on 1 samples\n",
      "if (A509 <= 67.23) and (A401 <= -23.485) and (A51A > 39.505) and (A51A <= 1898.98) and (A519 <= 60.185) and (A115 <= 5.98) and (A143 <= 136.34) and (A105 > 4.465) and (A143 > -652.03) and (A111 > -15.03) and (A105 <= 27.79) and (A104 <= 3.275) and (A116 > 68.815) and (A111 > -7.8) and (A509 <= 46.235) and (A511 <= 17.03) and (A401 <= -24.41) and (A143 > -229.665) and (A175 > 20.545) and (A401 <= -29.015) and (A115 <= 1.03) and (A509 <= 36.8) and (A111 > 113.88) then response: 0.506 | based on 1 samples\n",
      "if (A509 <= 67.23) and (A401 <= -23.485) and (A51A > 39.505) and (A51A <= 1898.98) and (A519 <= 60.185) and (A115 <= 5.98) and (A143 <= 136.34) and (A105 > 4.465) and (A143 > -652.03) and (A111 > -15.03) and (A105 <= 27.79) and (A104 <= 3.275) and (A116 > 68.815) and (A111 > -7.8) and (A509 <= 46.235) and (A511 <= 17.03) and (A401 <= -24.41) and (A143 > -229.665) and (A175 > 20.545) and (A401 <= -29.015) and (A115 <= 1.03) and (A509 <= 36.8) and (A111 <= 113.88) and (A144 <= -20.255) and (A115 <= -19.21) then response: 0.0 | based on 1 samples\n",
      "if (A509 <= 67.23) and (A401 > -23.485) and (A401 <= 85.065) and (A143 > 112.87) and (A143 <= 128.565) and (A140 <= 4.935) and (A140 > 4.2) and (A111 <= 13.295) and (A401 <= 16.565) and (A115 > 3.055) and (A519 <= 60.95) and (A144 > 5.28) and (A51A > 377.44) and (A145 <= 8.345) then response: 0.0 | based on 1 samples\n",
      "if (A509 <= 67.23) and (A401 <= -23.485) and (A51A > 39.505) and (A51A <= 1898.98) and (A519 <= 60.185) and (A115 <= 5.98) and (A143 <= 136.34) and (A105 > 4.465) and (A143 > -652.03) and (A111 > -15.03) and (A105 <= 27.79) and (A104 <= 3.275) and (A116 > 68.815) and (A111 > -7.8) and (A509 <= 46.235) and (A511 <= 17.03) and (A401 <= -24.41) and (A143 > -229.665) and (A175 > 20.545) and (A401 > -29.015) and (A104 > 2.78) then response: 0.0 | based on 1 samples\n",
      "if (A509 <= 67.23) and (A401 > -23.485) and (A401 <= 85.065) and (A143 <= 112.87) and (A51A <= 7085583.0) and (A144 > -8.39) and (A104 <= 33.8) and (A116 <= 27.005) and (A116 > 26.845) then response: 0.0 | based on 1 samples\n",
      "if (A509 <= 67.23) and (A401 > -23.485) and (A401 <= 85.065) and (A143 > 112.87) and (A143 <= 128.565) and (A140 <= 4.935) and (A140 > 4.2) and (A111 <= 13.295) and (A401 <= 16.565) and (A115 > 3.055) and (A519 <= 60.95) and (A144 <= 5.28) then response: 0.506 | based on 1 samples\n",
      "if (A509 > 67.23) and (A104 > 1.725) and (A401 > 34.855) and (A105 <= 31.655) and (A143 > 115.43) and (A115 > 2.41) and (A509 > 76.2) and (A116 > 27.21) and (A401 > 35.86) and (A111 <= 32.575) and (A511 <= 28.785) and (A104 <= 24.015) and (A144 > 14.75) and (A145 > 39.245) then response: 0.506 | based on 1 samples\n",
      "if (A509 <= 67.23) and (A401 <= -23.485) and (A51A > 39.505) and (A51A <= 1898.98) and (A519 <= 60.185) and (A115 <= 5.98) and (A143 <= 136.34) and (A105 > 4.465) and (A143 > -652.03) and (A111 <= -15.03) and (A509 > 14.935) and (A511 <= 1.71) and (A517 > 0.79) and (A401 > -48.235) and (A175 <= 58.615) then response: 0.506 | based on 1 samples\n",
      "if (A509 <= 67.23) and (A401 > -23.485) and (A401 <= 85.065) and (A143 <= 112.87) and (A51A > 7085583.0) and (A517 <= 0.01) then response: 0.0 | based on 1 samples\n",
      "if (A509 <= 67.23) and (A401 > -23.485) and (A401 <= 85.065) and (A143 <= 112.87) and (A51A <= 7085583.0) and (A144 > -8.39) and (A104 > 33.8) and (A104 <= 33.875) then response: 0.0 | based on 1 samples\n",
      "if (A509 <= 67.23) and (A401 > -23.485) and (A401 <= 85.065) and (A143 <= 112.87) and (A51A <= 7085583.0) and (A144 > -8.39) and (A104 <= 33.8) and (A116 > 27.005) and (A115 <= -18.55) then response: 0.506 | based on 1 samples\n",
      "if (A509 > 67.23) and (A104 <= 1.725) and (A175 > 62.865) and (A519 > 121.405) and (A175 > 72.9) and (A401 > -40.98) and (A109 <= 9.715) and (A143 > -556.37) and (A111 > -38.585) and (A143 <= 1238.235) and (A51A <= 273.62) and (A115 > -23.015) and (A509 > 102.595) and (A401 <= 14.315) and (A104 <= 1.605) and (A106 > -36.795) and (A115 <= 2.83) and (A111 <= 7.095) and (A145 > -33.97) and (A509 > 116.745) and (A104 <= -107.525) then response: 0.506 | based on 1 samples\n",
      "if (A509 > 67.23) and (A104 > 1.725) and (A401 > 34.855) and (A105 <= 31.655) and (A143 > 115.43) and (A115 > 2.41) and (A509 > 76.2) and (A116 > 27.21) and (A401 > 35.86) and (A111 <= 32.575) and (A511 <= 28.785) and (A104 <= 24.015) and (A144 <= 14.75) and (A517 <= 2.04) and (A111 <= 0.585) and (A509 <= 299.34) and (A51A > 304.155) and (A143 <= 115.95) then response: 0.0 | based on 1 samples\n",
      "if (A509 > 67.23) and (A104 <= 1.725) and (A175 > 62.865) and (A519 > 121.405) and (A175 > 72.9) and (A401 > -40.98) and (A109 <= 9.715) and (A143 > -556.37) and (A111 > -38.585) and (A143 <= 1238.235) and (A51A <= 273.62) and (A115 > -23.015) and (A509 > 102.595) and (A401 <= 14.315) and (A104 <= 1.605) and (A106 > -36.795) and (A115 <= 2.83) and (A111 > 7.095) and (A105 > 10.765) and (A51A > 38.415) and (A111 > 10.175) and (A143 <= 602.04) and (A51A <= 164.565) and (A106 > -19.425) and (A175 > 89.465) and (A116 <= 103.24) and (A140 <= 2.75) and (A109 <= 5.59) and (A105 <= 30.8) and (A517 > 3.55) and (A511 <= 5.405) and (A511 <= 0.285) and (A104 <= -0.785) and (A116 > 19.52) and (A111 > 12.405) and (A51A <= 56.57) then response: 0.0 | based on 1 samples\n",
      "if (A509 > 67.23) and (A104 <= 1.725) and (A175 > 62.865) and (A519 > 121.405) and (A175 > 72.9) and (A401 > -40.98) and (A109 <= 9.715) and (A143 > -556.37) and (A111 > -38.585) and (A143 <= 1238.235) and (A51A <= 273.62) and (A115 > -23.015) and (A509 > 102.595) and (A401 <= 14.315) and (A104 <= 1.605) and (A106 > -36.795) and (A115 <= 2.83) and (A111 > 7.095) and (A105 > 10.765) and (A51A > 38.415) and (A111 > 10.175) and (A143 <= 602.04) and (A51A <= 164.565) and (A106 > -19.425) and (A175 > 89.465) and (A116 <= 103.24) and (A140 <= 2.75) and (A109 <= 5.59) and (A105 > 30.8) then response: 0.506 | based on 1 samples\n",
      "if (A509 > 67.23) and (A104 <= 1.725) and (A175 > 62.865) and (A519 > 121.405) and (A175 > 72.9) and (A401 > -40.98) and (A109 <= 9.715) and (A143 > -556.37) and (A111 > -38.585) and (A143 <= 1238.235) and (A51A <= 273.62) and (A115 > -23.015) and (A509 > 102.595) and (A401 <= 14.315) and (A104 <= 1.605) and (A106 > -36.795) and (A115 <= 2.83) and (A111 > 7.095) and (A105 > 10.765) and (A51A > 38.415) and (A111 > 10.175) and (A143 <= 602.04) and (A51A <= 164.565) and (A106 > -19.425) and (A175 > 89.465) and (A116 <= 103.24) and (A140 <= 2.75) and (A109 > 5.59) then response: 0.506 | based on 1 samples\n",
      "if (A509 > 67.23) and (A104 <= 1.725) and (A175 > 62.865) and (A519 > 121.405) and (A175 > 72.9) and (A401 > -40.98) and (A109 <= 9.715) and (A143 > -556.37) and (A111 > -38.585) and (A143 <= 1238.235) and (A51A <= 273.62) and (A115 > -23.015) and (A509 > 102.595) and (A401 <= 14.315) and (A104 <= 1.605) and (A106 > -36.795) and (A115 <= 2.83) and (A111 > 7.095) and (A105 > 10.765) and (A51A > 38.415) and (A111 > 10.175) and (A143 <= 602.04) and (A51A <= 164.565) and (A106 > -19.425) and (A175 > 89.465) and (A116 <= 103.24) and (A140 > 2.75) then response: 0.506 | based on 1 samples\n",
      "if (A509 > 67.23) and (A104 <= 1.725) and (A175 > 62.865) and (A519 > 121.405) and (A175 > 72.9) and (A401 > -40.98) and (A109 <= 9.715) and (A143 > -556.37) and (A111 > -38.585) and (A143 <= 1238.235) and (A51A <= 273.62) and (A115 > -23.015) and (A509 > 102.595) and (A401 > 14.315) and (A517 <= 14.135) and (A111 <= -28.78) then response: 0.506 | based on 1 samples\n",
      "if (A509 > 67.23) and (A104 <= 1.725) and (A175 > 62.865) and (A519 > 121.405) and (A175 > 72.9) and (A401 > -40.98) and (A109 <= 9.715) and (A143 > -556.37) and (A111 > -38.585) and (A143 <= 1238.235) and (A51A <= 273.62) and (A115 > -23.015) and (A509 > 102.595) and (A401 > 14.315) and (A517 > 14.135) and (A401 > 30.635) and (A175 <= 202.255) then response: 0.506 | based on 1 samples\n",
      "if (A509 > 67.23) and (A104 > 1.725) and (A401 > 34.855) and (A105 <= 31.655) and (A143 <= 115.43) and (A111 > -51.87) and (A145 <= 0.505) then response: 0.506 | based on 1 samples\n",
      "if (A509 > 67.23) and (A104 > 1.725) and (A401 <= 34.855) and (A517 <= 4.085) and (A104 <= 4.835) and (A116 > 69.13) and (A116 <= 90.45) and (A111 <= 4.17) and (A143 <= 172.11) and (A140 > 1.55) and (A104 > 2.79) and (A519 <= 73.61) then response: 0.506 | based on 1 samples\n",
      "if (A509 > 67.23) and (A104 > 1.725) and (A401 <= 34.855) and (A517 <= 4.085) and (A104 <= 4.835) and (A116 > 69.13) and (A116 <= 90.45) and (A111 <= 4.17) and (A143 <= 172.11) and (A140 > 1.55) and (A104 > 2.79) and (A519 > 73.61) and (A401 <= -17.625) then response: 0.506 | based on 1 samples\n",
      "if (A509 > 67.23) and (A104 > 1.725) and (A401 <= 34.855) and (A517 <= 4.085) and (A104 <= 4.835) and (A116 > 69.13) and (A116 <= 90.45) and (A111 <= 4.17) and (A143 <= 172.11) and (A140 > 1.55) and (A104 > 2.79) and (A519 > 73.61) and (A401 > -17.625) and (A140 <= 4.02) and (A511 <= 0.95) and (A509 <= 83.475) then response: 0.0 | based on 1 samples\n",
      "if (A509 > 67.23) and (A104 > 1.725) and (A401 <= 34.855) and (A517 <= 4.085) and (A104 <= 4.835) and (A116 > 69.13) and (A116 <= 90.45) and (A111 <= 4.17) and (A143 <= 172.11) and (A140 > 1.55) and (A104 > 2.79) and (A519 > 73.61) and (A401 > -17.625) and (A140 <= 4.02) and (A511 <= 0.95) and (A509 > 83.475) then response: 0.506 | based on 1 samples\n",
      "if (A509 > 67.23) and (A104 > 1.725) and (A401 <= 34.855) and (A517 <= 4.085) and (A104 <= 4.835) and (A116 > 69.13) and (A116 <= 90.45) and (A111 <= 4.17) and (A143 <= 172.11) and (A140 > 1.55) and (A104 > 2.79) and (A519 > 73.61) and (A401 > -17.625) and (A140 > 4.02) then response: 0.506 | based on 1 samples\n",
      "if (A509 > 67.23) and (A104 > 1.725) and (A401 <= 34.855) and (A517 <= 4.085) and (A104 <= 4.835) and (A116 > 69.13) and (A116 > 90.45) and (A144 <= 1.555) then response: 0.506 | based on 1 samples\n",
      "if (A509 > 67.23) and (A104 > 1.725) and (A401 <= 34.855) and (A517 <= 4.085) and (A104 > 4.835) and (A105 <= 0.45) then response: 0.506 | based on 1 samples\n",
      "if (A509 > 67.23) and (A104 > 1.725) and (A401 > 34.855) and (A105 <= 31.655) and (A143 <= 115.43) and (A111 <= -51.87) and (A143 <= -44.055) then response: 0.506 | based on 1 samples\n",
      "if (A509 > 67.23) and (A104 > 1.725) and (A401 <= 34.855) and (A517 > 4.085) and (A115 > 3.105) and (A401 <= 14.63) and (A116 > 36.59) and (A51A <= 113.08) and (A111 <= 58.16) and (A51A <= 95.81) and (A517 > 7.235) and (A109 > 9.11) and (A116 > 47.445) and (A517 <= 18.305) and (A51A <= 73.975) and (A145 <= 70.495) and (A143 > 57.77) and (A511 <= 18.485) and (A115 <= 3.265) then response: 0.506 | based on 1 samples\n",
      "if (A509 > 67.23) and (A104 > 1.725) and (A401 <= 34.855) and (A517 > 4.085) and (A115 > 3.105) and (A401 <= 14.63) and (A116 > 36.59) and (A51A <= 113.08) and (A111 <= 58.16) and (A51A <= 95.81) and (A517 > 7.235) and (A109 > 9.11) and (A116 > 47.445) and (A517 <= 18.305) and (A51A <= 73.975) and (A145 <= 70.495) and (A143 > 57.77) and (A511 <= 18.485) and (A115 > 3.265) and (A519 <= 71.03) then response: 0.506 | based on 1 samples\n",
      "if (A509 > 67.23) and (A104 > 1.725) and (A401 <= 34.855) and (A517 > 4.085) and (A115 > 3.105) and (A401 <= 14.63) and (A116 > 36.59) and (A51A <= 113.08) and (A111 <= 58.16) and (A51A <= 95.81) and (A517 > 7.235) and (A109 > 9.11) and (A116 > 47.445) and (A517 <= 18.305) and (A51A <= 73.975) and (A145 <= 70.495) and (A143 > 57.77) and (A511 <= 18.485) and (A115 > 3.265) and (A519 > 71.03) and (A104 <= 4.865) then response: 0.506 | based on 1 samples\n",
      "if (A509 > 67.23) and (A104 > 1.725) and (A401 <= 34.855) and (A517 > 4.085) and (A115 > 3.105) and (A401 <= 14.63) and (A116 > 36.59) and (A51A <= 113.08) and (A111 <= 58.16) and (A51A <= 95.81) and (A517 > 7.235) and (A109 > 9.11) and (A116 > 47.445) and (A517 <= 18.305) and (A51A <= 73.975) and (A145 <= 70.495) and (A143 > 57.77) and (A511 <= 18.485) and (A115 > 3.265) and (A519 > 71.03) and (A104 > 4.865) and (A51A <= 43.42) and (A51A <= 21.125) then response: 0.0 | based on 1 samples\n",
      "if (A509 > 67.23) and (A104 > 1.725) and (A401 <= 34.855) and (A517 > 4.085) and (A115 > 3.105) and (A401 <= 14.63) and (A116 > 36.59) and (A51A <= 113.08) and (A111 <= 58.16) and (A51A <= 95.81) and (A517 > 7.235) and (A109 > 9.11) and (A116 > 47.445) and (A517 <= 18.305) and (A51A <= 73.975) and (A145 <= 70.495) and (A143 > 57.77) and (A511 <= 18.485) and (A115 > 3.265) and (A519 > 71.03) and (A104 > 4.865) and (A51A > 43.42) and (A509 > 151.23) then response: 0.506 | based on 1 samples\n",
      "if (A509 > 67.23) and (A104 > 1.725) and (A401 <= 34.855) and (A517 > 4.085) and (A115 > 3.105) and (A401 <= 14.63) and (A116 > 36.59) and (A51A <= 113.08) and (A111 <= 58.16) and (A51A <= 95.81) and (A517 > 7.235) and (A109 > 9.11) and (A116 > 47.445) and (A517 <= 18.305) and (A51A <= 73.975) and (A145 <= 70.495) and (A143 > 57.77) and (A511 > 18.485) then response: 0.506 | based on 1 samples\n",
      "if (A509 > 67.23) and (A104 > 1.725) and (A401 <= 34.855) and (A517 > 4.085) and (A115 > 3.105) and (A401 <= 14.63) and (A116 > 36.59) and (A51A <= 113.08) and (A111 <= 58.16) and (A51A > 95.81) and (A145 <= 25.605) and (A511 <= 1.08) and (A517 > 5.63) then response: 0.506 | based on 1 samples\n",
      "if (A509 > 67.23) and (A104 <= 1.725) and (A175 > 62.865) and (A519 > 121.405) and (A175 > 72.9) and (A401 > -40.98) and (A109 <= 9.715) and (A143 > -556.37) and (A111 > -38.585) and (A143 <= 1238.235) and (A51A <= 273.62) and (A115 > -23.015) and (A509 > 102.595) and (A401 <= 14.315) and (A104 <= 1.605) and (A106 > -36.795) and (A115 <= 2.83) and (A111 > 7.095) and (A105 > 10.765) and (A51A > 38.415) and (A111 > 10.175) and (A143 <= 602.04) and (A51A <= 164.565) and (A106 > -19.425) and (A175 > 89.465) and (A116 <= 103.24) and (A140 <= 2.75) and (A109 <= 5.59) and (A105 <= 30.8) and (A517 > 3.55) and (A511 <= 5.405) and (A511 <= 0.285) and (A104 > -0.785) then response: 0.506 | based on 1 samples\n",
      "if (A509 > 67.23) and (A104 <= 1.725) and (A175 > 62.865) and (A519 > 121.405) and (A175 > 72.9) and (A401 > -40.98) and (A109 <= 9.715) and (A143 > -556.37) and (A111 > -38.585) and (A143 <= 1238.235) and (A51A <= 273.62) and (A115 > -23.015) and (A509 > 102.595) and (A401 <= 14.315) and (A104 <= 1.605) and (A106 > -36.795) and (A115 <= 2.83) and (A111 > 7.095) and (A105 > 10.765) and (A51A > 38.415) and (A111 > 10.175) and (A143 <= 602.04) and (A51A <= 164.565) and (A106 > -19.425) and (A175 > 89.465) and (A116 <= 103.24) and (A140 <= 2.75) and (A109 <= 5.59) and (A105 <= 30.8) and (A517 > 3.55) and (A511 <= 5.405) and (A511 <= 0.285) and (A104 <= -0.785) and (A116 > 19.52) and (A111 <= 12.405) and (A116 <= 23.23) then response: 0.506 | based on 1 samples\n",
      "if (A509 <= 67.23) and (A401 > -23.485) and (A401 > 85.065) and (A145 <= 5.06) and (A401 > 137.095) and (A51A <= 6615.285) and (A115 <= -13.91) then response: 0.506 | based on 1 samples\n",
      "if (A509 > 67.23) and (A104 <= 1.725) and (A175 > 62.865) and (A519 > 121.405) and (A175 > 72.9) and (A401 > -40.98) and (A109 <= 9.715) and (A143 > -556.37) and (A111 > -38.585) and (A143 <= 1238.235) and (A51A <= 273.62) and (A115 > -23.015) and (A509 > 102.595) and (A401 <= 14.315) and (A104 <= 1.605) and (A106 > -36.795) and (A115 <= 2.83) and (A111 > 7.095) and (A105 > 10.765) and (A51A > 38.415) and (A111 > 10.175) and (A143 <= 602.04) and (A51A <= 164.565) and (A106 > -19.425) and (A175 > 89.465) and (A116 <= 103.24) and (A140 <= 2.75) and (A109 <= 5.59) and (A105 <= 30.8) and (A517 > 3.55) and (A511 <= 5.405) and (A511 <= 0.285) and (A104 <= -0.785) and (A116 <= 19.52) then response: 0.506 | based on 1 samples\n",
      "if (A509 <= 67.23) and (A401 > -23.485) and (A401 > 85.065) and (A145 <= 5.06) and (A401 > 137.095) and (A51A <= 6615.285) and (A115 > -13.91) and (A105 > 7.185) and (A143 <= 6.66) then response: 0.0 | based on 1 samples\n",
      "if (A509 <= 67.23) and (A401 > -23.485) and (A401 > 85.065) and (A145 <= 5.06) and (A401 > 137.095) and (A51A > 6615.285) then response: 0.506 | based on 1 samples\n",
      "if (A509 <= 67.23) and (A401 > -23.485) and (A401 > 85.065) and (A145 > 5.06) and (A105 <= 49.02) and (A105 <= -2.12) then response: 0.506 | based on 1 samples\n",
      "if (A509 <= 67.23) and (A401 > -23.485) and (A401 > 85.065) and (A145 > 5.06) and (A105 > 49.02) and (A51A > 155.665) and (A511 > 7.455) then response: 0.506 | based on 1 samples\n",
      "if (A509 > 67.23) and (A104 <= 1.725) and (A175 > 62.865) and (A519 <= 121.405) and (A144 <= 5.225) and (A143 > -63.715) and (A116 > 37.075) and (A106 <= 6.64) and (A106 <= 3.165) and (A105 <= 5.59) and (A116 > 71.21) and (A519 <= 87.97) then response: 0.506 | based on 1 samples\n",
      "if (A509 > 67.23) and (A104 <= 1.725) and (A175 > 62.865) and (A519 <= 121.405) and (A144 <= 5.225) and (A143 > -63.715) and (A116 > 37.075) and (A106 <= 6.64) and (A106 <= 3.165) and (A105 <= 5.59) and (A116 > 71.21) and (A519 > 87.97) then response: 0.506 | based on 1 samples\n",
      "if (A509 > 67.23) and (A104 <= 1.725) and (A175 > 62.865) and (A519 <= 121.405) and (A144 <= 5.225) and (A143 > -63.715) and (A116 > 37.075) and (A106 <= 6.64) and (A106 <= 3.165) and (A105 > 5.59) and (A106 <= -11.56) then response: 0.506 | based on 1 samples\n",
      "if (A509 > 67.23) and (A104 <= 1.725) and (A175 > 62.865) and (A519 <= 121.405) and (A144 <= 5.225) and (A143 > -63.715) and (A116 > 37.075) and (A106 <= 6.64) and (A106 > 3.165) and (A401 > -14.065) and (A51A <= 376.335) and (A143 <= 1708.78) and (A517 <= 4.47) and (A140 <= 2.54) and (A140 <= 2.035) then response: 0.506 | based on 1 samples\n",
      "if (A509 > 67.23) and (A104 <= 1.725) and (A175 > 62.865) and (A519 <= 121.405) and (A144 <= 5.225) and (A143 > -63.715) and (A116 > 37.075) and (A106 <= 6.64) and (A106 > 3.165) and (A401 > -14.065) and (A51A <= 376.335) and (A143 > 1708.78) then response: 0.506 | based on 1 samples\n",
      "if (A509 > 67.23) and (A104 <= 1.725) and (A175 > 62.865) and (A519 <= 121.405) and (A144 <= 5.225) and (A143 > -63.715) and (A116 > 37.075) and (A106 <= 6.64) and (A106 > 3.165) and (A401 > -14.065) and (A51A > 376.335) then response: 0.506 | based on 1 samples\n",
      "if (A509 > 67.23) and (A104 <= 1.725) and (A175 > 62.865) and (A519 > 121.405) and (A175 > 72.9) and (A401 > -40.98) and (A109 <= 9.715) and (A143 > -556.37) and (A111 > -38.585) and (A143 <= 1238.235) and (A51A <= 273.62) and (A115 > -23.015) and (A509 > 102.595) and (A401 <= 14.315) and (A104 <= 1.605) and (A106 > -36.795) and (A115 <= 2.83) and (A111 <= 7.095) and (A145 > -33.97) and (A509 > 116.745) and (A104 > -107.525) and (A517 <= 1.04) then response: 0.506 | based on 1 samples\n",
      "if (A509 > 67.23) and (A104 <= 1.725) and (A175 > 62.865) and (A519 > 121.405) and (A175 > 72.9) and (A401 > -40.98) and (A109 <= 9.715) and (A143 > -556.37) and (A111 > -38.585) and (A143 <= 1238.235) and (A51A <= 273.62) and (A115 > -23.015) and (A509 > 102.595) and (A401 <= 14.315) and (A104 <= 1.605) and (A106 > -36.795) and (A115 <= 2.83) and (A111 <= 7.095) and (A145 > -33.97) and (A509 > 116.745) and (A104 > -107.525) and (A517 > 1.04) and (A517 <= 6.375) and (A51A > 104.4) and (A143 <= 250.78) and (A511 <= 35.49) and (A519 > 134.405) and (A517 <= 5.29) and (A111 <= 4.655) and (A104 <= 0.92) and (A143 <= -151.365) then response: 0.506 | based on 1 samples\n",
      "if (A509 > 67.23) and (A104 <= 1.725) and (A175 > 62.865) and (A519 > 121.405) and (A175 > 72.9) and (A401 > -40.98) and (A109 <= 9.715) and (A143 > -556.37) and (A111 > -38.585) and (A143 <= 1238.235) and (A51A <= 273.62) and (A115 > -23.015) and (A509 > 102.595) and (A401 <= 14.315) and (A104 <= 1.605) and (A106 > -36.795) and (A115 <= 2.83) and (A111 <= 7.095) and (A145 > -33.97) and (A509 > 116.745) and (A104 > -107.525) and (A517 > 1.04) and (A517 <= 6.375) and (A51A > 104.4) and (A143 <= 250.78) and (A511 <= 35.49) and (A519 > 134.405) and (A517 <= 5.29) and (A111 <= 4.655) and (A104 <= 0.92) and (A143 > -151.365) and (A51A <= 181.445) and (A517 <= 4.945) and (A519 <= 152.605) then response: 0.506 | based on 1 samples\n",
      "if (A509 > 67.23) and (A104 <= 1.725) and (A175 > 62.865) and (A519 > 121.405) and (A175 > 72.9) and (A401 > -40.98) and (A109 <= 9.715) and (A143 > -556.37) and (A111 > -38.585) and (A143 <= 1238.235) and (A51A <= 273.62) and (A115 > -23.015) and (A509 > 102.595) and (A401 <= 14.315) and (A104 <= 1.605) and (A106 > -36.795) and (A115 <= 2.83) and (A111 <= 7.095) and (A145 > -33.97) and (A509 > 116.745) and (A104 > -107.525) and (A517 > 1.04) and (A517 <= 6.375) and (A51A > 104.4) and (A143 <= 250.78) and (A511 <= 35.49) and (A519 > 134.405) and (A517 <= 5.29) and (A111 <= 4.655) and (A104 <= 0.92) and (A143 > -151.365) and (A51A > 181.445) and (A511 > 1.155) and (A51A <= 214.935) then response: 0.0 | based on 1 samples\n",
      "if (A509 > 67.23) and (A104 <= 1.725) and (A175 > 62.865) and (A519 > 121.405) and (A175 > 72.9) and (A401 > -40.98) and (A109 <= 9.715) and (A143 > -556.37) and (A111 > -38.585) and (A143 <= 1238.235) and (A51A <= 273.62) and (A115 > -23.015) and (A509 > 102.595) and (A401 <= 14.315) and (A104 <= 1.605) and (A106 > -36.795) and (A115 <= 2.83) and (A111 <= 7.095) and (A145 > -33.97) and (A509 > 116.745) and (A104 > -107.525) and (A517 > 1.04) and (A517 <= 6.375) and (A51A > 104.4) and (A143 <= 250.78) and (A511 <= 35.49) and (A519 > 134.405) and (A517 <= 5.29) and (A111 <= 4.655) and (A104 <= 0.92) and (A143 > -151.365) and (A51A > 181.445) and (A511 > 1.155) and (A51A > 214.935) then response: 0.506 | based on 1 samples\n",
      "if (A509 > 67.23) and (A104 <= 1.725) and (A175 > 62.865) and (A519 > 121.405) and (A175 > 72.9) and (A401 > -40.98) and (A109 <= 9.715) and (A143 > -556.37) and (A111 > -38.585) and (A143 <= 1238.235) and (A51A <= 273.62) and (A115 > -23.015) and (A509 > 102.595) and (A401 <= 14.315) and (A104 <= 1.605) and (A106 > -36.795) and (A115 <= 2.83) and (A111 <= 7.095) and (A145 > -33.97) and (A509 > 116.745) and (A104 > -107.525) and (A517 > 1.04) and (A517 > 6.375) and (A105 > 2.795) and (A51A <= 105.965) and (A116 > 26.795) and (A401 <= -35.525) then response: 0.506 | based on 1 samples\n",
      "if (A509 > 67.23) and (A104 <= 1.725) and (A175 > 62.865) and (A519 > 121.405) and (A175 > 72.9) and (A401 > -40.98) and (A109 <= 9.715) and (A143 > -556.37) and (A111 > -38.585) and (A143 <= 1238.235) and (A51A <= 273.62) and (A115 > -23.015) and (A509 > 102.595) and (A401 <= 14.315) and (A104 <= 1.605) and (A106 > -36.795) and (A115 <= 2.83) and (A111 <= 7.095) and (A145 > -33.97) and (A509 > 116.745) and (A104 > -107.525) and (A517 > 1.04) and (A517 > 6.375) and (A105 > 2.795) and (A51A <= 105.965) and (A116 > 26.795) and (A401 > -35.525) and (A109 <= -34.165) then response: 0.506 | based on 1 samples\n",
      "if (A509 > 67.23) and (A104 <= 1.725) and (A175 > 62.865) and (A519 > 121.405) and (A175 > 72.9) and (A401 > -40.98) and (A109 <= 9.715) and (A143 > -556.37) and (A111 > -38.585) and (A143 <= 1238.235) and (A51A <= 273.62) and (A115 > -23.015) and (A509 > 102.595) and (A401 <= 14.315) and (A104 <= 1.605) and (A106 > -36.795) and (A115 <= 2.83) and (A111 <= 7.095) and (A145 > -33.97) and (A509 > 116.745) and (A104 > -107.525) and (A517 > 1.04) and (A517 > 6.375) and (A105 > 2.795) and (A51A <= 105.965) and (A116 > 26.795) and (A401 > -35.525) and (A109 > -34.165) and (A517 <= 9.92) and (A105 <= 17.825) and (A519 <= 128.325) then response: 0.506 | based on 1 samples\n",
      "if (A509 > 67.23) and (A104 <= 1.725) and (A175 > 62.865) and (A519 > 121.405) and (A175 > 72.9) and (A401 > -40.98) and (A109 <= 9.715) and (A143 > -556.37) and (A111 > -38.585) and (A143 <= 1238.235) and (A51A <= 273.62) and (A115 > -23.015) and (A509 > 102.595) and (A401 <= 14.315) and (A104 <= 1.605) and (A106 > -36.795) and (A115 <= 2.83) and (A111 <= 7.095) and (A145 > -33.97) and (A509 > 116.745) and (A104 > -107.525) and (A517 > 1.04) and (A517 > 6.375) and (A105 > 2.795) and (A51A <= 105.965) and (A116 > 26.795) and (A401 > -35.525) and (A109 > -34.165) and (A517 <= 9.92) and (A105 <= 17.825) and (A519 > 128.325) and (A143 > -63.55) and (A111 <= -2.895) then response: 0.0 | based on 1 samples\n",
      "if (A509 > 67.23) and (A104 <= 1.725) and (A175 > 62.865) and (A519 > 121.405) and (A175 > 72.9) and (A401 > -40.98) and (A109 <= 9.715) and (A143 > -556.37) and (A111 > -38.585) and (A143 <= 1238.235) and (A51A <= 273.62) and (A115 > -23.015) and (A509 > 102.595) and (A401 <= 14.315) and (A104 <= 1.605) and (A106 > -36.795) and (A115 <= 2.83) and (A111 <= 7.095) and (A145 > -33.97) and (A509 > 116.745) and (A104 > -107.525) and (A517 > 1.04) and (A517 > 6.375) and (A105 > 2.795) and (A51A <= 105.965) and (A116 > 26.795) and (A401 > -35.525) and (A109 > -34.165) and (A517 <= 9.92) and (A105 <= 17.825) and (A519 > 128.325) and (A143 > -63.55) and (A111 > -2.895) then response: 0.506 | based on 1 samples\n",
      "if (A509 > 67.23) and (A104 <= 1.725) and (A175 > 62.865) and (A519 > 121.405) and (A175 > 72.9) and (A401 > -40.98) and (A109 <= 9.715) and (A143 > -556.37) and (A111 > -38.585) and (A143 <= 1238.235) and (A51A <= 273.62) and (A115 > -23.015) and (A509 > 102.595) and (A401 <= 14.315) and (A104 <= 1.605) and (A106 > -36.795) and (A115 <= 2.83) and (A111 > 7.095) and (A105 > 10.765) and (A51A > 38.415) and (A111 > 10.175) and (A143 <= 602.04) and (A51A <= 164.565) and (A106 > -19.425) and (A175 > 89.465) and (A116 <= 103.24) and (A140 <= 2.75) and (A109 <= 5.59) and (A105 <= 30.8) and (A517 <= 3.55) then response: 0.506 | based on 1 samples\n",
      "if (A509 > 67.23) and (A104 <= 1.725) and (A175 > 62.865) and (A519 > 121.405) and (A175 > 72.9) and (A401 > -40.98) and (A109 <= 9.715) and (A143 > -556.37) and (A111 > -38.585) and (A143 <= 1238.235) and (A51A <= 273.62) and (A115 > -23.015) and (A509 > 102.595) and (A401 <= 14.315) and (A104 <= 1.605) and (A106 > -36.795) and (A115 <= 2.83) and (A111 <= 7.095) and (A145 > -33.97) and (A509 > 116.745) and (A104 > -107.525) and (A517 > 1.04) and (A517 <= 6.375) and (A51A > 104.4) and (A143 <= 250.78) and (A511 <= 35.49) and (A519 > 134.405) and (A517 <= 5.29) and (A111 <= 4.655) and (A104 > 0.92) then response: 0.506 | based on 1 samples\n"
     ]
    }
   ],
   "source": [
    "for r in rules:\n",
    "    print(r)"
   ]
  },
  {
   "cell_type": "code",
   "execution_count": 50,
   "id": "b7c8d47a",
   "metadata": {},
   "outputs": [
    {
     "data": {
      "text/plain": [
       "array([0.08052343, 0.05930431, 0.00654893, 0.00656855, 0.04088959,\n",
       "       0.03108777, 0.06109403, 0.03035263, 0.07211465, 0.0588137 ,\n",
       "       0.01539762, 0.03091596, 0.208634  , 0.17775773, 0.00526918,\n",
       "       0.04388926, 0.01489019, 0.05594846])"
      ]
     },
     "execution_count": 50,
     "metadata": {},
     "output_type": "execute_result"
    }
   ],
   "source": [
    "clf.feature_importances_"
   ]
  },
  {
   "cell_type": "code",
   "execution_count": 51,
   "id": "f7a51674",
   "metadata": {},
   "outputs": [],
   "source": [
    "y_pred = clf.predict(X_test)"
   ]
  },
  {
   "cell_type": "code",
   "execution_count": 52,
   "id": "49fe2c9f",
   "metadata": {},
   "outputs": [],
   "source": [
    "acc = sum(y_pred == y_test)/len(y_test)"
   ]
  },
  {
   "cell_type": "code",
   "execution_count": 53,
   "id": "87d73bb8",
   "metadata": {},
   "outputs": [
    {
     "data": {
      "text/plain": [
       "0.9772382397572079"
      ]
     },
     "execution_count": 53,
     "metadata": {},
     "output_type": "execute_result"
    }
   ],
   "source": [
    "acc"
   ]
  },
  {
   "cell_type": "code",
   "execution_count": 54,
   "id": "925e9214",
   "metadata": {},
   "outputs": [
    {
     "data": {
      "text/plain": [
       "array([[3218,   38],\n",
       "       [  37,    2]], dtype=int64)"
      ]
     },
     "execution_count": 54,
     "metadata": {},
     "output_type": "execute_result"
    }
   ],
   "source": [
    "confusion_matrix(y_test, y_pred)\n",
    "#[y_test=0,y_pred=0,    y_test=0,y_pred=1\n",
    "# y_test=1,y_pred=0,    y_test=1,y_pred=1]"
   ]
  },
  {
   "cell_type": "code",
   "execution_count": 58,
   "id": "c72d8b44",
   "metadata": {},
   "outputs": [
    {
     "name": "stdout",
     "output_type": "stream",
     "text": [
      "binary-averaged precision score: 0.05\n"
     ]
    }
   ],
   "source": [
    "binary_precision = precision_score(y_pred, y_test, average='binary')\n",
    "print('binary-averaged precision score: {0:0.2f}'.format(\n",
    "      binary_precision))"
   ]
  },
  {
   "cell_type": "code",
   "execution_count": 55,
   "id": "f88124e4",
   "metadata": {},
   "outputs": [
    {
     "name": "stdout",
     "output_type": "stream",
     "text": [
      "Micro-averaged precision score: 0.98\n"
     ]
    }
   ],
   "source": [
    "micro_precision = precision_score(y_pred, y_test, average='micro')\n",
    "print('Micro-averaged precision score: {0:0.2f}'.format(\n",
    "      micro_precision))"
   ]
  },
  {
   "cell_type": "code",
   "execution_count": 56,
   "id": "7465e42d",
   "metadata": {},
   "outputs": [
    {
     "name": "stdout",
     "output_type": "stream",
     "text": [
      "Macro-averaged precision score: 0.52\n"
     ]
    }
   ],
   "source": [
    "macro_precision = precision_score(y_pred, y_test, average='macro')\n",
    "print('Macro-averaged precision score: {0:0.2f}'.format(\n",
    "      macro_precision))"
   ]
  },
  {
   "cell_type": "code",
   "execution_count": 57,
   "id": "5f353f62",
   "metadata": {},
   "outputs": [
    {
     "name": "stdout",
     "output_type": "stream",
     "text": [
      "Per-class precision score: [0.98832924 0.05128205]\n"
     ]
    }
   ],
   "source": [
    "per_class_precision = precision_score(y_pred, y_test, average=None)\n",
    "print('Per-class precision score:', per_class_precision)"
   ]
  },
  {
   "cell_type": "code",
   "execution_count": null,
   "id": "fb731f0e",
   "metadata": {},
   "outputs": [],
   "source": []
  }
 ],
 "metadata": {
  "kernelspec": {
   "display_name": "Python 3 (ipykernel)",
   "language": "python",
   "name": "python3"
  },
  "language_info": {
   "codemirror_mode": {
    "name": "ipython",
    "version": 3
   },
   "file_extension": ".py",
   "mimetype": "text/x-python",
   "name": "python",
   "nbconvert_exporter": "python",
   "pygments_lexer": "ipython3",
   "version": "3.9.12"
  }
 },
 "nbformat": 4,
 "nbformat_minor": 5
}
